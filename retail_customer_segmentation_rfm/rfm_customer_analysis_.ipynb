{
 "cells": [
  {
   "cell_type": "markdown",
   "id": "ac5c2f4b",
   "metadata": {
    "toc": true
   },
   "source": [
    "<h1>Table of Contents<span class=\"tocSkip\"></span></h1>\n",
    "<div class=\"toc\"><ul class=\"toc-item\"><li><span><a href=\"#Reading-the-data-file-and-reviewing-general-information\" data-toc-modified-id=\"Reading-the-data-file-and-reviewing-general-information-1\"><span class=\"toc-item-num\">1&nbsp;&nbsp;</span>Reading the data file and reviewing general information</a></span></li><li><span><a href=\"#Data-preprocessing-and-adding-additional-columns\" data-toc-modified-id=\"Data-preprocessing-and-adding-additional-columns-2\"><span class=\"toc-item-num\">2&nbsp;&nbsp;</span>Data preprocessing and adding additional columns</a></span><ul class=\"toc-item\"><li><span><a href=\"#Type-conversion-and-duplicate-handling\" data-toc-modified-id=\"Type-conversion-and-duplicate-handling-2.1\"><span class=\"toc-item-num\">2.1&nbsp;&nbsp;</span>Type conversion and duplicate handling</a></span></li><li><span><a href=\"#Handling-anomalous-values\" data-toc-modified-id=\"Handling-anomalous-values-2.2\"><span class=\"toc-item-num\">2.2&nbsp;&nbsp;</span>Handling anomalous values</a></span></li><li><span><a href=\"#Adding-additional-fields\" data-toc-modified-id=\"Adding-additional-fields-2.3\"><span class=\"toc-item-num\">2.3&nbsp;&nbsp;</span>Adding additional fields</a></span></li></ul></li><li><span><a href=\"#Exploratory-Data-Analysis\" data-toc-modified-id=\"Exploratory-Data-Analysis-3\"><span class=\"toc-item-num\">3&nbsp;&nbsp;</span>Exploratory Data Analysis</a></span><ul class=\"toc-item\"><li><span><a href=\"#Overview-of-the-dataset\" data-toc-modified-id=\"Overview-of-the-dataset-3.1\"><span class=\"toc-item-num\">3.1&nbsp;&nbsp;</span>Overview of the dataset</a></span></li><li><span><a href=\"#Monthly-dynamics-of-key-store-performance-indicators\" data-toc-modified-id=\"Monthly-dynamics-of-key-store-performance-indicators-3.2\"><span class=\"toc-item-num\">3.2&nbsp;&nbsp;</span>Monthly dynamics of key store performance indicators</a></span></li><li><span><a href=\"#Relationship-between-general-store-metrics-and-day-of-week,-day-of-month,-and-time-of-order\" data-toc-modified-id=\"Relationship-between-general-store-metrics-and-day-of-week,-day-of-month,-and-time-of-order-3.3\"><span class=\"toc-item-num\">3.3&nbsp;&nbsp;</span>Relationship between general store metrics and day of week, day of month, and time of order</a></span></li></ul></li><li><span><a href=\"#Categorizing-Products\" data-toc-modified-id=\"Categorizing-Products-4\"><span class=\"toc-item-num\">4&nbsp;&nbsp;</span>Categorizing Products</a></span></li><li><span><a href=\"#Customer-Segmentation-Based-on-Purchase-History\" data-toc-modified-id=\"Customer-Segmentation-Based-on-Purchase-History-5\"><span class=\"toc-item-num\">5&nbsp;&nbsp;</span>Customer Segmentation Based on Purchase History</a></span><ul class=\"toc-item\"><li><span><a href=\"#Segmenting-Customers-Using-RFM-Analysis\" data-toc-modified-id=\"Segmenting-Customers-Using-RFM-Analysis-5.1\"><span class=\"toc-item-num\">5.1&nbsp;&nbsp;</span>Segmenting Customers Using RFM Analysis</a></span></li><li><span><a href=\"#Analysis-of-General-Metrics-Across-Customer-Segments\" data-toc-modified-id=\"Analysis-of-General-Metrics-Across-Customer-Segments-5.2\"><span class=\"toc-item-num\">5.2&nbsp;&nbsp;</span>Analysis of General Metrics Across Customer Segments</a></span></li></ul></li><li><span><a href=\"#Formulation-and-Testing-of-Statistical-Hypotheses\" data-toc-modified-id=\"Formulation-and-Testing-of-Statistical-Hypotheses-6\"><span class=\"toc-item-num\">6&nbsp;&nbsp;</span>Formulation and Testing of Statistical Hypotheses</a></span></li><li><span><a href=\"#Analysis-of-Category-Preferences-by-Customer-Segments\" data-toc-modified-id=\"Analysis-of-Category-Preferences-by-Customer-Segments-7\"><span class=\"toc-item-num\">7&nbsp;&nbsp;</span>Analysis of Category Preferences by Customer Segments</a></span></li><li><span><a href=\"#Conclusions-and-Recommendations\" data-toc-modified-id=\"Conclusions-and-Recommendations-8\"><span class=\"toc-item-num\">8&nbsp;&nbsp;</span>Conclusions and Recommendations</a></span></li></ul></div>"
   ]
  },
  {
   "cell_type": "markdown",
   "id": "a609523d",
   "metadata": {},
   "source": [
    "# Identifying Consumer Profiles for the Online Store \"Still Here\"\n",
    "\n",
    "This project will investigate the transaction history of the home goods online store \"Still Here\" to segment users based on their consumption profiles.\n",
    "\n",
    "**Objective:**\n",
    "Segment customers based on their purchase history to develop strategies for future marketing campaigns.\n",
    "\n",
    "**Data Description:**\n",
    "The dataset `ecom_dataset_upd.csv` contains the following fields:\n",
    "- `date` — order date;\n",
    "- `customer_id` — customer identifier;\n",
    "- `order_id` — order identifier;\n",
    "- `product` — product name;\n",
    "- `quantity` — quantity of the product in the order;\n",
    "- `price` — price of the product.\n",
    "\n",
    "**The following steps will be taken to achieve the objectives:**\n",
    "\n",
    "- Review and preliminary data processing;\n",
    "- Conduct exploratory data analysis, analyze the overall performance indicators of the store;\n",
    "- Categorize products and analyze the resulting groups;\n",
    "- Segment customers based on their purchase history (RFM analysis), analyze user metrics by segment;\n",
    "- Test statistical hypotheses about the equality of the average number of purchases and the average order amount between users from different segments;\n",
    "- Analyze product category preferences for users in different segments;\n",
    "- Conclusions and recommendations."
   ]
  },
  {
   "cell_type": "code",
   "execution_count": 363,
   "id": "d9893cc7",
   "metadata": {},
   "outputs": [],
   "source": [
    "#Importing libraries\n",
    "import pandas as pd\n",
    "import numpy as np\n",
    "from matplotlib import pyplot as plt\n",
    "import seaborn as sns\n",
    "from plotly.subplots import make_subplots\n",
    "import plotly.express as px\n",
    "import scipy.stats as stats"
   ]
  },
  {
   "cell_type": "code",
   "execution_count": 364,
   "id": "d32299d8",
   "metadata": {},
   "outputs": [],
   "source": [
    "#Variables for chart formatting\n",
    "plt.style.use('seaborn-whitegrid')\n",
    "sns.set_palette('Set2')\n",
    "cmap = 'BuGn'\n",
    "fontsize=13\n",
    "figsize_w=(18,5)\n",
    "figsize_n=(7,5)\n",
    "figsize_norm=(10,6)\n",
    "px_template = \"simple_white\"\n",
    "px_palette =px.colors.qualitative.Set2"
   ]
  },
  {
   "cell_type": "markdown",
   "id": "002c807a",
   "metadata": {},
   "source": [
    "## Reading the data file and reviewing general information"
   ]
  },
  {
   "cell_type": "code",
   "execution_count": 365,
   "id": "c3edeb57",
   "metadata": {},
   "outputs": [],
   "source": [
    "#Loading data\n",
    "data = pd.read_csv(\"data.csv\")"
   ]
  },
  {
   "cell_type": "code",
   "execution_count": 366,
   "id": "bd2f039e",
   "metadata": {},
   "outputs": [
    {
     "data": {
      "text/html": [
       "<div>\n",
       "<style scoped>\n",
       "    .dataframe tbody tr th:only-of-type {\n",
       "        vertical-align: middle;\n",
       "    }\n",
       "\n",
       "    .dataframe tbody tr th {\n",
       "        vertical-align: top;\n",
       "    }\n",
       "\n",
       "    .dataframe thead th {\n",
       "        text-align: right;\n",
       "    }\n",
       "</style>\n",
       "<table border=\"1\" class=\"dataframe\">\n",
       "  <thead>\n",
       "    <tr style=\"text-align: right;\">\n",
       "      <th></th>\n",
       "      <th>date</th>\n",
       "      <th>customer_id</th>\n",
       "      <th>order_id</th>\n",
       "      <th>product</th>\n",
       "      <th>quantity</th>\n",
       "      <th>price</th>\n",
       "    </tr>\n",
       "  </thead>\n",
       "  <tbody>\n",
       "    <tr>\n",
       "      <th>0</th>\n",
       "      <td>2018100100</td>\n",
       "      <td>ee47d746-6d2f-4d3c-9622-c31412542920</td>\n",
       "      <td>68477</td>\n",
       "      <td>Комнатное растение в горшке Алое Вера, d12, h30</td>\n",
       "      <td>1</td>\n",
       "      <td>142.0</td>\n",
       "    </tr>\n",
       "    <tr>\n",
       "      <th>1</th>\n",
       "      <td>2018100100</td>\n",
       "      <td>ee47d746-6d2f-4d3c-9622-c31412542920</td>\n",
       "      <td>68477</td>\n",
       "      <td>Комнатное растение в горшке Кофе Арабика, d12,...</td>\n",
       "      <td>1</td>\n",
       "      <td>194.0</td>\n",
       "    </tr>\n",
       "    <tr>\n",
       "      <th>2</th>\n",
       "      <td>2018100100</td>\n",
       "      <td>ee47d746-6d2f-4d3c-9622-c31412542920</td>\n",
       "      <td>68477</td>\n",
       "      <td>Радермахера d-12 см h-20 см</td>\n",
       "      <td>1</td>\n",
       "      <td>112.0</td>\n",
       "    </tr>\n",
       "    <tr>\n",
       "      <th>3</th>\n",
       "      <td>2018100100</td>\n",
       "      <td>ee47d746-6d2f-4d3c-9622-c31412542920</td>\n",
       "      <td>68477</td>\n",
       "      <td>Хризолидокарпус Лутесценс d-9 см</td>\n",
       "      <td>1</td>\n",
       "      <td>179.0</td>\n",
       "    </tr>\n",
       "    <tr>\n",
       "      <th>4</th>\n",
       "      <td>2018100100</td>\n",
       "      <td>ee47d746-6d2f-4d3c-9622-c31412542920</td>\n",
       "      <td>68477</td>\n",
       "      <td>Циперус Зумула d-12 см h-25 см</td>\n",
       "      <td>1</td>\n",
       "      <td>112.0</td>\n",
       "    </tr>\n",
       "  </tbody>\n",
       "</table>\n",
       "</div>"
      ],
      "text/plain": [
       "         date                           customer_id  order_id  \\\n",
       "0  2018100100  ee47d746-6d2f-4d3c-9622-c31412542920     68477   \n",
       "1  2018100100  ee47d746-6d2f-4d3c-9622-c31412542920     68477   \n",
       "2  2018100100  ee47d746-6d2f-4d3c-9622-c31412542920     68477   \n",
       "3  2018100100  ee47d746-6d2f-4d3c-9622-c31412542920     68477   \n",
       "4  2018100100  ee47d746-6d2f-4d3c-9622-c31412542920     68477   \n",
       "\n",
       "                                             product  quantity  price  \n",
       "0    Комнатное растение в горшке Алое Вера, d12, h30         1  142.0  \n",
       "1  Комнатное растение в горшке Кофе Арабика, d12,...         1  194.0  \n",
       "2                        Радермахера d-12 см h-20 см         1  112.0  \n",
       "3                   Хризолидокарпус Лутесценс d-9 см         1  179.0  \n",
       "4                     Циперус Зумула d-12 см h-25 см         1  112.0  "
      ]
     },
     "execution_count": 366,
     "metadata": {},
     "output_type": "execute_result"
    }
   ],
   "source": [
    "data.head()"
   ]
  },
  {
   "cell_type": "code",
   "execution_count": 367,
   "id": "8ff8da0f",
   "metadata": {},
   "outputs": [
    {
     "name": "stdout",
     "output_type": "stream",
     "text": [
      "<class 'pandas.core.frame.DataFrame'>\n",
      "RangeIndex: 7474 entries, 0 to 7473\n",
      "Data columns (total 6 columns):\n",
      " #   Column       Non-Null Count  Dtype  \n",
      "---  ------       --------------  -----  \n",
      " 0   date         7474 non-null   int64  \n",
      " 1   customer_id  7474 non-null   object \n",
      " 2   order_id     7474 non-null   int64  \n",
      " 3   product      7474 non-null   object \n",
      " 4   quantity     7474 non-null   int64  \n",
      " 5   price        7474 non-null   float64\n",
      "dtypes: float64(1), int64(3), object(2)\n",
      "memory usage: 350.5+ KB\n"
     ]
    }
   ],
   "source": [
    "data.info()"
   ]
  },
  {
   "cell_type": "markdown",
   "id": "ccf2f26b",
   "metadata": {},
   "source": [
    "The dataset contains 7,474 transaction records. Each record includes the order date, customer ID, order ID, product name, quantity of product per order, and product price.\n",
    "There are no missing values. Column headers are stylistically correct.\n",
    "The 'date' column uses an incorrect data type.\n",
    "At first glance, the dataset appears to have a sufficient volume for analysis, but preprocessing is required."
   ]
  },
  {
   "cell_type": "markdown",
   "id": "275872ed",
   "metadata": {},
   "source": [
    "## Data preprocessing and adding additional columns "
   ]
  },
  {
   "cell_type": "markdown",
   "id": "912ce370",
   "metadata": {},
   "source": [
    "### Type conversion and duplicate handling "
   ]
  },
  {
   "cell_type": "markdown",
   "id": "6098d069",
   "metadata": {},
   "source": [
    "The 'date' column is in `int` format. Let's convert it to `datetime`."
   ]
  },
  {
   "cell_type": "code",
   "execution_count": 368,
   "id": "6291f25c",
   "metadata": {},
   "outputs": [],
   "source": [
    "#Type conversion\n",
    "data['date'] = pd.to_datetime(data['date'], format='%Y%m%d%H')"
   ]
  },
  {
   "cell_type": "code",
   "execution_count": 369,
   "id": "1f283fcf",
   "metadata": {},
   "outputs": [],
   "source": [
    "#Convert column names to lowercase\n",
    "data['customer_id'] = data['customer_id'].apply(lambda x: x.lower())"
   ]
  },
  {
   "cell_type": "markdown",
   "id": "6497df0b",
   "metadata": {},
   "source": [
    "Let’s check the dataset for explicit and implicit duplicates:"
   ]
  },
  {
   "cell_type": "code",
   "execution_count": 370,
   "id": "3eaff16e",
   "metadata": {},
   "outputs": [
    {
     "data": {
      "text/plain": [
       "0"
      ]
     },
     "execution_count": 370,
     "metadata": {},
     "output_type": "execute_result"
    }
   ],
   "source": [
    "#Checking for explicit duplicates\n",
    "data.duplicated().sum()"
   ]
  },
  {
   "cell_type": "code",
   "execution_count": 371,
   "id": "4e20debd",
   "metadata": {},
   "outputs": [
    {
     "data": {
      "text/plain": [
       "1897"
      ]
     },
     "execution_count": 371,
     "metadata": {},
     "output_type": "execute_result"
    }
   ],
   "source": [
    "#Checking for implicit duplicates\n",
    "data[['order_id', 'product', 'quantity', 'price']].duplicated().sum()"
   ]
  },
  {
   "cell_type": "markdown",
   "id": "54435f2e",
   "metadata": {},
   "source": [
    "Since 'order_id' is a unique identifier for orders, there should not be duplicates. Let’s exclude them from the analysis."
   ]
  },
  {
   "cell_type": "code",
   "execution_count": 372,
   "id": "6bca388d",
   "metadata": {},
   "outputs": [],
   "source": [
    "data = data[~data[['order_id', 'product', 'quantity', 'price']].duplicated()]"
   ]
  },
  {
   "cell_type": "markdown",
   "id": "8aadcada",
   "metadata": {},
   "source": [
    "Let’s check whether each order ID corresponds to only one user and one date:"
   ]
  },
  {
   "cell_type": "code",
   "execution_count": 373,
   "id": "022881d0",
   "metadata": {},
   "outputs": [
    {
     "data": {
      "text/plain": [
       "27"
      ]
     },
     "execution_count": 373,
     "metadata": {},
     "output_type": "execute_result"
    }
   ],
   "source": [
    "orders_to_remove = data.groupby(['order_id']).agg({'customer_id':'nunique'}).query('customer_id > 1').index\\\n",
    "                       .append(data.groupby('order_id').agg({'date':'nunique'}).query('date > 1').index)\n",
    "len(orders_to_remove)"
   ]
  },
  {
   "cell_type": "code",
   "execution_count": 374,
   "id": "6796b1bc",
   "metadata": {},
   "outputs": [],
   "source": [
    "data = data.query('order_id not in @orders_to_remove')"
   ]
  },
  {
   "cell_type": "markdown",
   "id": "af49b3d8",
   "metadata": {},
   "source": [
    "There were 27 orders that were linked to multiple users or multiple dates. These orders were excluded from the analysis."
   ]
  },
  {
   "cell_type": "code",
   "execution_count": 375,
   "id": "1dec51f0",
   "metadata": {},
   "outputs": [
    {
     "data": {
      "text/plain": [
       "'Duplicate records 25.74%'"
      ]
     },
     "metadata": {},
     "output_type": "display_data"
    }
   ],
   "source": [
    "display('Duplicate records {:.2%}'.format((1897+27)/7474))"
   ]
  },
  {
   "cell_type": "markdown",
   "id": "f34965c2",
   "metadata": {},
   "source": [
    "Duplicate records made up about 26% of the dataset. This may indicate an issue with the data export process."
   ]
  },
  {
   "cell_type": "markdown",
   "id": "0f22d605",
   "metadata": {},
   "source": [
    "### Handling anomalous values"
   ]
  },
  {
   "cell_type": "markdown",
   "id": "177af8f3",
   "metadata": {},
   "source": [
    "Let’s check for outliers in the `quantity` and `price` columns."
   ]
  },
  {
   "cell_type": "code",
   "execution_count": 376,
   "id": "f21e6b1b",
   "metadata": {},
   "outputs": [
    {
     "data": {
      "image/png": "[encoded data removed]",
      "text/plain": [
       "<Figure size 504x360 with 1 Axes>"
      ]
     },
     "metadata": {},
     "output_type": "display_data"
    }
   ],
   "source": [
    "plt.figure(figsize=figsize_n)\n",
    "ax=sns.boxplot(y='price', data=data)\n",
    "plt.title('Product price', fontsize=fontsize)\n",
    "plt.ylabel('Product price, RUB', fontsize=fontsize)\n",
    "plt.show()"
   ]
  },
  {
   "cell_type": "code",
   "execution_count": 377,
   "id": "c264218b",
   "metadata": {},
   "outputs": [
    {
     "data": {
      "image/png": "[encoded data removed]",
      "text/plain": [
       "<Figure size 504x360 with 1 Axes>"
      ]
     },
     "metadata": {},
     "output_type": "display_data"
    }
   ],
   "source": [
    "plt.figure(figsize=figsize_n)\n",
    "ax=sns.boxplot(y='quantity', data=data)\n",
    "plt.title('Item quantity per order', fontsize=fontsize)\n",
    "plt.ylabel('Item quantity per order, units', fontsize=fontsize)\n",
    "plt.show()"
   ]
  },
  {
   "cell_type": "markdown",
   "id": "24b23db1",
   "metadata": {},
   "source": [
    "We’ll assume that a product price above 10,000 RUB or a quantity over 400 units is an outlier.\n",
    "Let’s see what percentage of records meet either condition:"
   ]
  },
  {
   "cell_type": "code",
   "execution_count": 378,
   "id": "5c9d3c3b",
   "metadata": {},
   "outputs": [
    {
     "data": {
      "text/plain": [
       "'Number of orders with item price > 10,000 RUB: 1'"
      ]
     },
     "metadata": {},
     "output_type": "display_data"
    },
    {
     "data": {
      "text/plain": [
       "'Number of orders with item quantity > 400 1:'"
      ]
     },
     "metadata": {},
     "output_type": "display_data"
    }
   ],
   "source": [
    "display('Number of orders with item price > 10,000 RUB: {}'.format(\n",
    "    data.query('price > 10000')['customer_id'].count()),\n",
    "        'Number of orders with item quantity > 400 {}:'.format(\n",
    "            data.query('quantity > 400')['customer_id'].count()))"
   ]
  },
  {
   "cell_type": "markdown",
   "id": "2291236b",
   "metadata": {},
   "source": [
    "There are only two orders in the dataset with either very high prices or abnormally large quantities.\n",
    "While expensive items may exist in the store’s inventory, they are not typical in this dataset and may distort the analysis.\n",
    "Therefore, we’ll exclude orders with anomalous values for price or quantity from the analysis."
   ]
  },
  {
   "cell_type": "code",
   "execution_count": 379,
   "id": "b1c4a97a",
   "metadata": {},
   "outputs": [
    {
     "name": "stdout",
     "output_type": "stream",
     "text": [
      "<class 'pandas.core.frame.DataFrame'>\n",
      "Index: 5477 entries, 0 to 7473\n",
      "Data columns (total 6 columns):\n",
      " #   Column       Non-Null Count  Dtype         \n",
      "---  ------       --------------  -----         \n",
      " 0   date         5477 non-null   datetime64[ns]\n",
      " 1   customer_id  5477 non-null   object        \n",
      " 2   order_id     5477 non-null   int64         \n",
      " 3   product      5477 non-null   object        \n",
      " 4   quantity     5477 non-null   int64         \n",
      " 5   price        5477 non-null   float64       \n",
      "dtypes: datetime64[ns](1), float64(1), int64(2), object(2)\n",
      "memory usage: 299.5+ KB\n"
     ]
    }
   ],
   "source": [
    "orders = data.query('price > 10000 | quantity > 400')['order_id'].to_list()\n",
    "data = data.query('order_id not in @orders')\n",
    "#Overview of the dataset after preprocessing\n",
    "data.info()"
   ]
  },
  {
   "cell_type": "markdown",
   "id": "fedc3c89",
   "metadata": {},
   "source": [
    "### Adding additional fields"
   ]
  },
  {
   "cell_type": "markdown",
   "id": "dc7276cf",
   "metadata": {},
   "source": [
    "To analyze trends over time, we’ll break the data down by month.\n",
    "We’ll create a new column `month` containing the date rounded to the first of the month.\n",
    "We'll also examine how user behavior varies by day of the week, day of the month, and hour of purchase.\n",
    "For this, we’ll extract those features from the order date into new columns: `weekday`, `day`, and `hour`.\n",
    "Additionally, we’ll create a `total` column (equal to quantity\\*price) and a `date_short` column with just the date (without time)."
   ]
  },
  {
   "cell_type": "code",
   "execution_count": 380,
   "id": "2102ccdb",
   "metadata": {},
   "outputs": [
    {
     "data": {
      "text/html": [
       "<div>\n",
       "<style scoped>\n",
       "    .dataframe tbody tr th:only-of-type {\n",
       "        vertical-align: middle;\n",
       "    }\n",
       "\n",
       "    .dataframe tbody tr th {\n",
       "        vertical-align: top;\n",
       "    }\n",
       "\n",
       "    .dataframe thead th {\n",
       "        text-align: right;\n",
       "    }\n",
       "</style>\n",
       "<table border=\"1\" class=\"dataframe\">\n",
       "  <thead>\n",
       "    <tr style=\"text-align: right;\">\n",
       "      <th></th>\n",
       "      <th>date</th>\n",
       "      <th>customer_id</th>\n",
       "      <th>order_id</th>\n",
       "      <th>product</th>\n",
       "      <th>quantity</th>\n",
       "      <th>price</th>\n",
       "      <th>date_short</th>\n",
       "      <th>month</th>\n",
       "      <th>weekday</th>\n",
       "      <th>day</th>\n",
       "      <th>hour</th>\n",
       "      <th>total</th>\n",
       "    </tr>\n",
       "  </thead>\n",
       "  <tbody>\n",
       "    <tr>\n",
       "      <th>0</th>\n",
       "      <td>2018-10-01</td>\n",
       "      <td>ee47d746-6d2f-4d3c-9622-c31412542920</td>\n",
       "      <td>68477</td>\n",
       "      <td>Комнатное растение в горшке Алое Вера, d12, h30</td>\n",
       "      <td>1</td>\n",
       "      <td>142.0</td>\n",
       "      <td>2018-10-01</td>\n",
       "      <td>2018-10-01</td>\n",
       "      <td>0</td>\n",
       "      <td>1</td>\n",
       "      <td>0</td>\n",
       "      <td>142.0</td>\n",
       "    </tr>\n",
       "    <tr>\n",
       "      <th>1</th>\n",
       "      <td>2018-10-01</td>\n",
       "      <td>ee47d746-6d2f-4d3c-9622-c31412542920</td>\n",
       "      <td>68477</td>\n",
       "      <td>Комнатное растение в горшке Кофе Арабика, d12,...</td>\n",
       "      <td>1</td>\n",
       "      <td>194.0</td>\n",
       "      <td>2018-10-01</td>\n",
       "      <td>2018-10-01</td>\n",
       "      <td>0</td>\n",
       "      <td>1</td>\n",
       "      <td>0</td>\n",
       "      <td>194.0</td>\n",
       "    </tr>\n",
       "    <tr>\n",
       "      <th>2</th>\n",
       "      <td>2018-10-01</td>\n",
       "      <td>ee47d746-6d2f-4d3c-9622-c31412542920</td>\n",
       "      <td>68477</td>\n",
       "      <td>Радермахера d-12 см h-20 см</td>\n",
       "      <td>1</td>\n",
       "      <td>112.0</td>\n",
       "      <td>2018-10-01</td>\n",
       "      <td>2018-10-01</td>\n",
       "      <td>0</td>\n",
       "      <td>1</td>\n",
       "      <td>0</td>\n",
       "      <td>112.0</td>\n",
       "    </tr>\n",
       "    <tr>\n",
       "      <th>3</th>\n",
       "      <td>2018-10-01</td>\n",
       "      <td>ee47d746-6d2f-4d3c-9622-c31412542920</td>\n",
       "      <td>68477</td>\n",
       "      <td>Хризолидокарпус Лутесценс d-9 см</td>\n",
       "      <td>1</td>\n",
       "      <td>179.0</td>\n",
       "      <td>2018-10-01</td>\n",
       "      <td>2018-10-01</td>\n",
       "      <td>0</td>\n",
       "      <td>1</td>\n",
       "      <td>0</td>\n",
       "      <td>179.0</td>\n",
       "    </tr>\n",
       "    <tr>\n",
       "      <th>4</th>\n",
       "      <td>2018-10-01</td>\n",
       "      <td>ee47d746-6d2f-4d3c-9622-c31412542920</td>\n",
       "      <td>68477</td>\n",
       "      <td>Циперус Зумула d-12 см h-25 см</td>\n",
       "      <td>1</td>\n",
       "      <td>112.0</td>\n",
       "      <td>2018-10-01</td>\n",
       "      <td>2018-10-01</td>\n",
       "      <td>0</td>\n",
       "      <td>1</td>\n",
       "      <td>0</td>\n",
       "      <td>112.0</td>\n",
       "    </tr>\n",
       "  </tbody>\n",
       "</table>\n",
       "</div>"
      ],
      "text/plain": [
       "        date                           customer_id  order_id  \\\n",
       "0 2018-10-01  ee47d746-6d2f-4d3c-9622-c31412542920     68477   \n",
       "1 2018-10-01  ee47d746-6d2f-4d3c-9622-c31412542920     68477   \n",
       "2 2018-10-01  ee47d746-6d2f-4d3c-9622-c31412542920     68477   \n",
       "3 2018-10-01  ee47d746-6d2f-4d3c-9622-c31412542920     68477   \n",
       "4 2018-10-01  ee47d746-6d2f-4d3c-9622-c31412542920     68477   \n",
       "\n",
       "                                             product  quantity  price  \\\n",
       "0    Комнатное растение в горшке Алое Вера, d12, h30         1  142.0   \n",
       "1  Комнатное растение в горшке Кофе Арабика, d12,...         1  194.0   \n",
       "2                        Радермахера d-12 см h-20 см         1  112.0   \n",
       "3                   Хризолидокарпус Лутесценс d-9 см         1  179.0   \n",
       "4                     Циперус Зумула d-12 см h-25 см         1  112.0   \n",
       "\n",
       "   date_short      month  weekday  day  hour  total  \n",
       "0  2018-10-01 2018-10-01        0    1     0  142.0  \n",
       "1  2018-10-01 2018-10-01        0    1     0  194.0  \n",
       "2  2018-10-01 2018-10-01        0    1     0  112.0  \n",
       "3  2018-10-01 2018-10-01        0    1     0  179.0  \n",
       "4  2018-10-01 2018-10-01        0    1     0  112.0  "
      ]
     },
     "execution_count": 380,
     "metadata": {},
     "output_type": "execute_result"
    }
   ],
   "source": [
    "data['date_short'] = data['date'].dt.date\n",
    "data['month'] = data['date'].dt.to_period('M').dt.to_timestamp()\n",
    "data['weekday'] = pd.DatetimeIndex(data['date']).weekday\n",
    "data['day'] = pd.DatetimeIndex(data['date']).day\n",
    "data['hour'] = pd.DatetimeIndex(data['date']).hour\n",
    "data['total'] = data['quantity']*data['price']\n",
    "#Checking the result\n",
    "data.head()"
   ]
  },
  {
   "cell_type": "markdown",
   "id": "1ad50d83",
   "metadata": {},
   "source": [
    "**Conclusion**\n",
    "During preprocessing, 1,924 duplicate records (~26% of the total) were removed.\n",
    "Two records were excluded due to product prices exceeding 10,000 RUB or quantities exceeding 400 units.\n",
    "The `date` column was converted to `datetime`.\n",
    "The final dataset contains 5,477 records.\n",
    "Additional columns were added:\n",
    "* `month` (date rounded to the first of the month)\n",
    "* `weekday` (day of the week)\n",
    "* `day` (day of the month)\n",
    "* `hour` (order time)\n",
    "* `total` (total cost of the item)\n",
    "* `date_short` (date without time)"
   ]
  },
  {
   "cell_type": "markdown",
   "id": "8a1804b3",
   "metadata": {},
   "source": [
    "## Exploratory Data Analysis"
   ]
  },
  {
   "cell_type": "markdown",
   "id": "efae065e",
   "metadata": {},
   "source": [
    "### Overview of the dataset"
   ]
  },
  {
   "cell_type": "markdown",
   "id": "e1c655da",
   "metadata": {},
   "source": [
    "Let’s determine the time range covered by the data."
   ]
  },
  {
   "cell_type": "code",
   "execution_count": 381,
   "id": "c11efdd3",
   "metadata": {},
   "outputs": [
    {
     "data": {
      "text/plain": [
       "'Earliest date 2018-10-01 00:00:00'"
      ]
     },
     "metadata": {},
     "output_type": "display_data"
    },
    {
     "data": {
      "text/plain": [
       "'Latest date 2020-01-31 15:00:00'"
      ]
     },
     "metadata": {},
     "output_type": "display_data"
    }
   ],
   "source": [
    "display('Earliest date {}'.format(data['date'].min()),\n",
    "        'Latest date {}'.format(data['date'].max()))"
   ]
  },
  {
   "cell_type": "markdown",
   "id": "1103e2db",
   "metadata": {},
   "source": [
    "Let’s find the number of unique users, orders, and products for the entire period."
   ]
  },
  {
   "cell_type": "code",
   "execution_count": 382,
   "id": "9b34e566",
   "metadata": {},
   "outputs": [
    {
     "data": {
      "text/plain": [
       "'Number of unique users 2408'"
      ]
     },
     "metadata": {},
     "output_type": "display_data"
    },
    {
     "data": {
      "text/plain": [
       "'Number of unique orders 3494'"
      ]
     },
     "metadata": {},
     "output_type": "display_data"
    },
    {
     "data": {
      "text/plain": [
       "'Number of unique products 2327'"
      ]
     },
     "metadata": {},
     "output_type": "display_data"
    }
   ],
   "source": [
    "display('Number of unique users {}'.format(data['customer_id'].nunique()),\n",
    "        'Number of unique orders {}'.format(data['order_id'].nunique()),\n",
    "        'Number of unique products {}'.format(data['product'].nunique())\n",
    "       )"
   ]
  },
  {
   "cell_type": "markdown",
   "id": "33466171",
   "metadata": {},
   "source": [
    "Let’s calculate the store's total revenue, average monthly revenue, and the average check for the entire period."
   ]
  },
  {
   "cell_type": "code",
   "execution_count": 383,
   "id": "bf4c217b",
   "metadata": {},
   "outputs": [
    {
     "data": {
      "text/plain": [
       "'Total revenue 3890216.4 RUB'"
      ]
     },
     "metadata": {},
     "output_type": "display_data"
    },
    {
     "data": {
      "text/plain": [
       "'Average monthly revenue 243138.5 RUB'"
      ]
     },
     "metadata": {},
     "output_type": "display_data"
    },
    {
     "data": {
      "text/plain": [
       "'Average check 1113.4 RUB'"
      ]
     },
     "metadata": {},
     "output_type": "display_data"
    }
   ],
   "source": [
    "display('Total revenue {:.1f} RUB'.format(data['total'].sum()),\n",
    "        'Average monthly revenue {:.1f} RUB'.format(data.groupby('month').agg({'total':'sum'}).mean()['total']),\n",
    "        'Average check {:.1f} RUB'.format(data.groupby('order_id').agg({'total':'sum'}).mean()['total'])\n",
    "       )"
   ]
  },
  {
   "cell_type": "markdown",
   "id": "103c4bae",
   "metadata": {},
   "source": [
    "The dataset contains data on 2,408 store customers and 3,494 orders.\n",
    "Thus, on average, a customer makes ~1.5 orders over 16 months.\n",
    "The orders contain 2,327 different product items.\n",
    "During the observed period (October 1, 2018 to January 31, 2020), the store's revenue amounted to 3,890,216 RUB,\n",
    "the average monthly revenue was 243,138 RUB, and the average check was 1,113 RUB."
   ]
  },
  {
   "cell_type": "markdown",
   "id": "9d7b2b0b",
   "metadata": {},
   "source": [
    "### Monthly dynamics of key store performance indicators"
   ]
  },
  {
   "cell_type": "markdown",
   "id": "4e46559a",
   "metadata": {},
   "source": [
    "Analysis of monthly changes in user activity, order frequency, revenue, and average check."
   ]
  },
  {
   "cell_type": "code",
   "execution_count": 384,
   "id": "156b8f7d",
   "metadata": {},
   "outputs": [],
   "source": [
    "pivot_month = data.groupby('month').agg({\n",
    "    'customer_id': 'nunique',\n",
    "    'order_id': 'nunique',\n",
    "    'total': 'sum'\n",
    "}).reset_index().merge(\n",
    "    data.groupby(['month', 'order_id'])\n",
    "        .agg({'total': 'sum'})\n",
    "        .groupby('month')\n",
    "        .agg({'total': 'mean'})\n",
    "        .reset_index(),\n",
    "    on='month'\n",
    ").rename(columns={'total_x': 'revenue_per_month', 'total_y': 'avg_bill'}) \\\n",
    " .round({'revenue_per_month': 1, 'avg_bill': 1})"
   ]
  },
  {
   "cell_type": "code",
   "execution_count": 385,
   "id": "aeee31b3",
   "metadata": {},
   "outputs": [
    {
     "data": {
      "text/plain": [
       "<Figure size 1296x360 with 0 Axes>"
      ]
     },
     "metadata": {},
     "output_type": "display_data"
    },
    {
     "data": {
      "image/png": "[encoded data removed]",
      "text/plain": [
       "<Figure size 864x360 with 1 Axes>"
      ]
     },
     "metadata": {},
     "output_type": "display_data"
    }
   ],
   "source": [
    "plt.figure(figsize=figsize_w)\n",
    "x = pivot_month['month'].values\n",
    "y_users = pivot_month['customer_id'].values\n",
    "y_orders = pivot_month['order_id'].values\n",
    "\n",
    "plt.figure(figsize=(12, 5))\n",
    "plt.plot(x, y_users, label='Customers')\n",
    "plt.plot(x, y_orders, label='Orders')\n",
    "\n",
    "plt.xlabel(\"Month\")\n",
    "plt.ylabel(\"Number\")\n",
    "plt.title(\"User and Order Trends by Month\")\n",
    "plt.xticks(rotation=45)\n",
    "plt.legend()\n",
    "plt.tight_layout()\n",
    "plt.show()"
   ]
  },
  {
   "cell_type": "code",
   "execution_count": 386,
   "id": "4c496eb0",
   "metadata": {},
   "outputs": [
    {
     "data": {
      "image/png": "[encoded data removed]",
      "text/plain": [
       "<Figure size 1296x360 with 2 Axes>"
      ]
     },
     "metadata": {},
     "output_type": "display_data"
    }
   ],
   "source": [
    "import matplotlib.pyplot as plt\n",
    "\n",
    "x = pivot_month['month'].values\n",
    "y_revenue = pivot_month['revenue_per_month'].values\n",
    "y_avg_bill = pivot_month['avg_bill'].values\n",
    "\n",
    "fig = plt.figure(figsize=figsize_w)\n",
    "ax1 = fig.add_subplot(1, 2, 1)\n",
    "ax2 = fig.add_subplot(1, 2, 2)\n",
    "\n",
    "ax1.plot(x, y_revenue, marker='o')\n",
    "ax2.plot(x, y_avg_bill, marker='o')\n",
    "\n",
    "ax1.set_title('Revenue dynamics', fontsize=fontsize)\n",
    "ax1.set_xlabel('Month', fontsize=fontsize)\n",
    "ax1.set_ylabel('Revenue, RUB', fontsize=fontsize)\n",
    "\n",
    "ax2.set_title('Average check dynamics', fontsize=fontsize)\n",
    "ax2.set_xlabel('Month', fontsize=fontsize)\n",
    "ax2.set_ylabel('Average check, RUB', fontsize=fontsize)\n",
    "\n",
    "ax1.tick_params(axis='x', rotation=45)\n",
    "ax2.tick_params(axis='x', rotation=45)\n",
    "\n",
    "plt.tight_layout()\n",
    "plt.show()"
   ]
  },
  {
   "cell_type": "markdown",
   "id": "2ab9fa28",
   "metadata": {},
   "source": [
    "The trends in the number of unique users and orders are nearly identical.\n",
    "In the last three months of observation, the two indicators are equal — meaning users placed only one order per month.\n",
    "Therefore, in this section we will analyze just one metric: the number of orders.\n",
    "The peak number of orders (282) was recorded in February 2019.\n",
    "In January 2019 and from May to October 2019, there was a drop in orders (as low as 160).\n",
    "Although there was a positive trend in the number of orders in the last three months, both monthly revenue and average check showed a general decline over the entire observed period.\n",
    "The decline in orders between May and October 2019 might be seasonal and considered normal.\n",
    "However, the lack of positive response in financial metrics despite an increase in order count toward the end of the period may point to problems.\n",
    "The metrics in Q4 2019 are significantly lower than in early 2020."
   ]
  },
  {
   "cell_type": "markdown",
   "id": "38181e97",
   "metadata": {},
   "source": [
    "### Relationship between general store metrics and day of week, day of month, and time of order"
   ]
  },
  {
   "cell_type": "markdown",
   "id": "34b56372",
   "metadata": {},
   "source": [
    "Let’s analyze how the average number of orders and average check vary depending on the day of the month, day of the week, and hour of the order."
   ]
  },
  {
   "cell_type": "code",
   "execution_count": 387,
   "id": "7285f7b0",
   "metadata": {},
   "outputs": [],
   "source": [
    "pivot_day = data.groupby(['day', 'date_short']).agg({\n",
    "    'order_id':'nunique'\n",
    "}).groupby('day').agg({'order_id':'mean'}).reset_index().merge(data.groupby(['day', 'order_id']).agg({'total':'sum'}).groupby('day')\n",
    "                    .agg({'total':'mean'}), on='day').reset_index().rename(columns={'total':'avg_bill'})\\\n",
    "                    .round({'avg_bill': 1})\n",
    "pivot_weekday = data.groupby(['weekday', 'date_short']).agg({'order_id':'nunique'}).groupby('weekday')\\\n",
    "                    .agg({'order_id':'mean'})\\\n",
    "                    .reset_index().merge(data.groupby(['weekday', 'order_id']).agg({'total':'sum'}).groupby('weekday')\n",
    "                    .agg({'total':'mean'}), on='weekday').reset_index().rename(columns={'total':'avg_bill'})\\\n",
    "                    .round({'avg_bill': 1})\n",
    "pivot_hour = data.groupby(['hour', 'date_short']).agg({'order_id':'nunique'}).groupby('hour')\\\n",
    "                    .agg({'order_id':'mean'}).reset_index().merge(data.groupby(['hour', 'order_id']).agg({'total':'sum'}).groupby('hour')\n",
    "                    .agg({'total':'mean'}), on='hour').reset_index().rename(columns={'total':'avg_bill'})\\\n",
    "                    .round({'avg_bill': 1})"
   ]
  },
  {
   "cell_type": "code",
   "execution_count": 388,
   "id": "c6fbb543",
   "metadata": {},
   "outputs": [
    {
     "data": {
      "image/png": "[encoded data removed]",
      "text/plain": [
       "<Figure size 1296x360 with 2 Axes>"
      ]
     },
     "metadata": {},
     "output_type": "display_data"
    }
   ],
   "source": [
    "x = pivot_day['day'].values\n",
    "y_orders = pivot_day['order_id'].values\n",
    "y_avg_bill = pivot_day['avg_bill'].values\n",
    "\n",
    "fig = plt.figure(figsize=figsize_w)\n",
    "ax1 = fig.add_subplot(1, 2, 1)\n",
    "ax2 = fig.add_subplot(1, 2, 2)\n",
    "\n",
    "ax1.plot(x, y_orders, marker='o')\n",
    "ax2.plot(x, y_avg_bill, marker='o')\n",
    "\n",
    "ax1.set_title('Order Count by Day of the Month', fontsize=fontsize)\n",
    "ax1.set_xlabel('Day of the Month', fontsize=fontsize)\n",
    "ax1.set_ylabel('Number of Orders', fontsize=fontsize)\n",
    "\n",
    "ax2.set_title('Average Check by Day of the Month', fontsize=fontsize)\n",
    "ax2.set_xlabel('Day of the Month', fontsize=fontsize)\n",
    "ax2.set_ylabel('Average Check (RUB)', fontsize=fontsize)\n",
    "\n",
    "ax1.set_xticks(range(1, 32))\n",
    "ax2.set_xticks(range(1, 32))\n",
    "\n",
    "plt.tight_layout()\n",
    "plt.show()"
   ]
  },
  {
   "cell_type": "code",
   "execution_count": 389,
   "id": "809f01ba",
   "metadata": {
    "scrolled": true
   },
   "outputs": [
    {
     "data": {
      "image/png": "[encoded data removed]",
      "text/plain": [
       "<Figure size 1296x360 with 2 Axes>"
      ]
     },
     "metadata": {},
     "output_type": "display_data"
    }
   ],
   "source": [
    "x = pivot_weekday['weekday'].values\n",
    "y_orders = pivot_weekday['order_id'].values\n",
    "y_avg_bill = pivot_weekday['avg_bill'].values\n",
    "\n",
    "fig = plt.figure(figsize=figsize_w)\n",
    "ax1 = fig.add_subplot(1, 2, 1)\n",
    "ax2 = fig.add_subplot(1, 2, 2)\n",
    "\n",
    "ax1.plot(x, y_orders, marker='o')\n",
    "ax2.plot(x, y_avg_bill, marker='o')\n",
    "\n",
    "ax1.set_title('Order Count by Day of the Week', fontsize=fontsize)\n",
    "ax1.set_xlabel('Day of the Week', fontsize=fontsize)\n",
    "ax1.set_ylabel('Number of Orders', fontsize=fontsize)\n",
    "\n",
    "ax2.set_title('Average Check by Day of the Week', fontsize=fontsize)\n",
    "ax2.set_xlabel('Day of the Week', fontsize=fontsize)\n",
    "ax2.set_ylabel('Average Check (RUB)', fontsize=fontsize)\n",
    "\n",
    "weekday_labels = ['Mon', 'Tue', 'Wed', 'Thu', 'Fri', 'Sat', 'Sun']\n",
    "for ax in [ax1, ax2]:\n",
    "    ax.set_xticks(range(7))\n",
    "    ax.set_xticklabels(weekday_labels)\n",
    "\n",
    "plt.tight_layout()\n",
    "plt.show()"
   ]
  },
  {
   "cell_type": "code",
   "execution_count": 390,
   "id": "41f25c16",
   "metadata": {},
   "outputs": [
    {
     "data": {
      "image/png": "[encoded data removed]",
      "text/plain": [
       "<Figure size 1296x360 with 2 Axes>"
      ]
     },
     "metadata": {},
     "output_type": "display_data"
    }
   ],
   "source": [
    "x = pivot_hour['hour'].values\n",
    "y_orders = pivot_hour['order_id'].values\n",
    "y_avg_bill = pivot_hour['avg_bill'].values\n",
    "\n",
    "fig = plt.figure(figsize=figsize_w)\n",
    "ax1 = fig.add_subplot(1, 2, 1)\n",
    "ax2 = fig.add_subplot(1, 2, 2)\n",
    "\n",
    "ax1.plot(x, y_orders, marker='o')\n",
    "ax2.plot(x, y_avg_bill, marker='o')\n",
    "\n",
    "ax1.set_title('Order Count \\n by Time of Order Placement', fontsize=fontsize)\n",
    "ax1.set_xlabel('Time (Hours)', fontsize=fontsize)\n",
    "ax1.set_ylabel('Number of Orders', fontsize=fontsize)\n",
    "\n",
    "ax2.set_title('Average Check \\n by Time of Order Placement', fontsize=fontsize)\n",
    "ax2.set_xlabel('Time (Hours)', fontsize=fontsize)\n",
    "ax2.set_ylabel('Average Check (RUB)', fontsize=fontsize)\n",
    "\n",
    "for ax in [ax1, ax2]:\n",
    "    ax.set_xticks(range(24))\n",
    "\n",
    "plt.tight_layout()\n",
    "plt.show()"
   ]
  },
  {
   "cell_type": "markdown",
   "id": "537d8340",
   "metadata": {},
   "source": [
    "The graphs showing the number of orders and average check by day of the month are highly fluctuating,\n",
    "suggesting that these factors do not have a strong correlation.\n",
    "However, user behavior by day of the week shows a clearer pattern:\n",
    "on Mondays and Tuesdays, the number of orders is consistently higher (8.3–8.6 on average),\n",
    "while on Saturdays it’s the lowest (about 5.2).\n",
    "The highest average checks occur on Fridays (1,257 RUB) and Tuesdays (1,268 RUB).\n",
    "The lowest average check also occurs on Saturdays (925 RUB).\n",
    "The peak order volume occurs between 10:00 and 12:00,\n",
    "while the highest average check is brought by “early birds” — those placing orders around 6–7 AM."
   ]
  },
  {
   "cell_type": "markdown",
   "id": "f1e4ecde",
   "metadata": {},
   "source": [
    "**Summary**\n",
    "\n",
    "The data spans 16 months (October 1, 2018 to January 31, 2020) and includes 2,408 customers and 3,494 orders.\n",
    "On average, a customer places ~1.5 orders over the period.\n",
    "There are 2,327 unique product items in the orders.\n",
    "\n",
    "The total revenue during the period was 3,890,216 RUB,\n",
    "average monthly revenue — 243,138 RUB,\n",
    "and average check — 1,113 RUB.\n",
    "\n",
    "The maximum number of orders (282) was recorded in February 2019.\n",
    "The drop in order volume between May and October 2019 (down to 160) was likely due to seasonal factors.\n",
    "Although the number of orders increased in the last three months, both revenue and average check continued to decline.\n",
    "This may indicate issues — metrics in Q4 2019 were noticeably lower than those in early 2020.\n",
    "\n",
    "User behavior is not influenced by day of the month,\n",
    "but is affected by day of the week and time of order.\n",
    "Orders are highest on Mondays and Tuesdays (8.3–8.6 avg.),\n",
    "and average checks are highest on Fridays (1,257 RUB) and Tuesdays (1,268 RUB).\n",
    "Saturdays show both the lowest number of orders (5.2) and lowest average check (925 RUB).\n",
    "Order activity peaks between 10–12,\n",
    "while highest checks come from early morning hours (6–7 AM)."
   ]
  },
  {
   "cell_type": "markdown",
   "id": "a8aed730",
   "metadata": {},
   "source": [
    "## Categorizing Products"
   ]
  },
  {
   "cell_type": "markdown",
   "id": "05d4d9a6",
   "metadata": {},
   "source": [
    "As shown earlier, the dataset contains 2,324 unique products.\n",
    "To begin, we'll convert all product names to lowercase to eliminate hidden duplicates and create a list containing the first two words of each product name. Based on this list, we’ll group the products into categories."
   ]
  },
  {
   "cell_type": "code",
   "execution_count": 391,
   "id": "4ee4af71",
   "metadata": {},
   "outputs": [],
   "source": [
    "# convert product names to lowercase\n",
    "data['product'] = data['product'].apply(lambda x: x.lower())"
   ]
  },
  {
   "cell_type": "code",
   "execution_count": 392,
   "id": "0ca10d33",
   "metadata": {},
   "outputs": [
    {
     "data": {
      "text/plain": [
       "['tepмокружка avex',\n",
       " 'автоматическая щетка',\n",
       " 'агератум рассада',\n",
       " 'адиантум лиза',\n",
       " 'азалия индика',\n",
       " 'аквилегия махровая',\n",
       " 'аквилегия обыкновенная',\n",
       " 'алиссум (лобулярия)',\n",
       " 'алиссум рассада',\n",
       " 'алиссум скальный',\n",
       " 'алоэ вера',\n",
       " 'альбука спиралис',\n",
       " 'амариллис red',\n",
       " 'анемона белый',\n",
       " 'антижир posh',\n",
       " 'антинакипин для',\n",
       " 'антуриум андрианум',\n",
       " 'антуриум тропик',\n",
       " 'аптения d-10',\n",
       " 'аптения d-12',\n",
       " 'арбуз волгоградец',\n",
       " 'арбуз огонек',\n",
       " 'арбуз сибирские',\n",
       " 'арбуз холодок',\n",
       " 'арбуз шуга',\n",
       " 'аргирантерум рассада',\n",
       " 'ароматизированное средство',\n",
       " 'артемизия (полынь',\n",
       " 'аспарагус d-12',\n",
       " 'аспарагус спренжери',\n",
       " 'астра альпийская',\n",
       " 'астра рассада',\n",
       " 'афеляндра скуарроса',\n",
       " 'бадан сердцелистный',\n",
       " 'базилик застольный',\n",
       " 'базилик зеленый',\n",
       " 'базилик овощной',\n",
       " 'базилик пурпурные',\n",
       " 'базилик смесь',\n",
       " 'бак для',\n",
       " 'баклажан самурай',\n",
       " 'бакопа ампельная',\n",
       " 'бакопа ампельная,',\n",
       " 'бальзам для',\n",
       " 'бальзамин валера',\n",
       " 'бальзамин новогвинейский',\n",
       " 'банка из',\n",
       " 'банка рондо',\n",
       " 'банка с',\n",
       " 'банка со',\n",
       " 'банка стеклянная',\n",
       " 'барвинок синий',\n",
       " 'бархатцы веселая',\n",
       " 'бегония ампельная,',\n",
       " 'бегония вечноцветущая',\n",
       " 'бегония клубневая',\n",
       " 'бегония элатиор,',\n",
       " 'бельевые прищепки',\n",
       " 'бензин для',\n",
       " 'бидон пластмассовый',\n",
       " 'блюдо pasabahce',\n",
       " 'блюдце утро',\n",
       " 'буддлея вейера',\n",
       " 'бузульник пржевальского',\n",
       " 'бульонница luminarc',\n",
       " 'ваза маскарад',\n",
       " 'вакуумный пакет',\n",
       " 'валериана лекарственная',\n",
       " 'ванна 70',\n",
       " 'вантуз черный',\n",
       " 'ведро ampari',\n",
       " 'ведро без',\n",
       " 'ведро для',\n",
       " 'ведро овальное',\n",
       " 'ведро пластиковое',\n",
       " 'ведро полимербыт',\n",
       " 'ведро резинопластиковое',\n",
       " 'веник для',\n",
       " 'веник сорго',\n",
       " 'венчик с',\n",
       " 'вербейник монетчатый',\n",
       " 'вербена fuhcsia',\n",
       " 'вербена red',\n",
       " 'вербена white',\n",
       " 'вербена ампельная,',\n",
       " 'вербена крупноцветковая',\n",
       " 'вербена микс',\n",
       " 'вербена рассада',\n",
       " 'веревка полипропиленовая',\n",
       " 'вероника колосковая',\n",
       " 'весы напольные',\n",
       " 'весы настольные',\n",
       " 'весы электронные',\n",
       " 'вешалка -',\n",
       " 'вешалка valiant',\n",
       " 'вешалка гардеробная',\n",
       " 'вешалка деревянная',\n",
       " 'вешалка для',\n",
       " 'вешалка металлическая',\n",
       " 'вешалка надверная',\n",
       " 'вешалка напольная',\n",
       " 'вешалка настенная',\n",
       " 'вешалка ника',\n",
       " 'вешалка с',\n",
       " 'вешалка самоклеющая',\n",
       " 'вешалка-перекладина valiant',\n",
       " 'вешалка-плечики 3',\n",
       " 'вешалка-плечики без',\n",
       " 'вешалка-стойка сакура',\n",
       " 'вешалка-стойка №',\n",
       " 'вешалка-сушилка gimi',\n",
       " 'вешалки мягкие',\n",
       " 'вигна лилиана',\n",
       " 'вилка столовая',\n",
       " 'виола рассада',\n",
       " 'виола рогатая',\n",
       " 'вкладыши для',\n",
       " 'газания рассада',\n",
       " 'гайлардия крупноцветковая',\n",
       " 'гардения d-9',\n",
       " 'гвоздика садовая',\n",
       " 'гвоздика стандартная',\n",
       " 'гвоздика травянка',\n",
       " 'гвоздика турецкая',\n",
       " 'георгина черная',\n",
       " 'герань домашняя',\n",
       " 'гербера d-13',\n",
       " 'гербера комнатная',\n",
       " 'гиацинт blue',\n",
       " 'гимнокалициум микс',\n",
       " 'гиностемма укорененный',\n",
       " 'гипоаллергенный концентрированный',\n",
       " 'гипсофила аврора',\n",
       " 'гладильная доска',\n",
       " 'гладильная доска-стремянка',\n",
       " 'глоксиния d-13',\n",
       " 'годеция рембранд',\n",
       " 'горох амброзия',\n",
       " 'гортензия метельчатая',\n",
       " 'гортензия микс',\n",
       " 'готовая скатерть',\n",
       " 'губка спираль',\n",
       " 'двуспальное постельное',\n",
       " 'девичий виноград',\n",
       " 'декабрист в',\n",
       " 'декоративная композиция',\n",
       " 'декоративная коробка',\n",
       " 'дендробиум санок',\n",
       " 'дендробиум фиолетовый',\n",
       " 'дендробиум яблоневый',\n",
       " 'держатель для',\n",
       " 'джункус пенсил',\n",
       " 'диффенбахия d-12',\n",
       " 'диффенбахия камилла',\n",
       " 'дозатор для',\n",
       " 'доска гладильная',\n",
       " 'доска разделочная',\n",
       " 'драцена фрагранс',\n",
       " 'душица обыкновенная',\n",
       " 'дыня алтайская',\n",
       " 'дыня дина',\n",
       " 'дыня золотой',\n",
       " 'дыня колхозница',\n",
       " 'дыня медовый',\n",
       " 'дыня млада',\n",
       " 'дыня награда',\n",
       " 'дыня симпатия',\n",
       " 'ель канадская',\n",
       " 'емкость для',\n",
       " 'ерш для',\n",
       " 'жестяная банка',\n",
       " 'жидкое мыло',\n",
       " 'завертка форточная',\n",
       " 'замиокулькас d-15',\n",
       " 'запасная насадка',\n",
       " 'защитная соль',\n",
       " 'защитный экран',\n",
       " 'зверобой продырявленный',\n",
       " 'земляника барон',\n",
       " 'земляника садовая',\n",
       " 'змееголовник молдавский',\n",
       " 'зубная паста',\n",
       " 'измельчитель овощей',\n",
       " 'измерительный алюминиевый',\n",
       " 'измерительный угольник,',\n",
       " 'импатиенс нью',\n",
       " 'искусственная композиция',\n",
       " 'искусственная лиана',\n",
       " 'искусственный лист',\n",
       " 'искусственный цветок',\n",
       " 'иссоп лекарственный',\n",
       " 'кабачок изумруд',\n",
       " 'каланхое каландива',\n",
       " 'калатея кроката',\n",
       " 'калатея микс',\n",
       " 'календула бронзовая',\n",
       " 'календула пинк',\n",
       " 'календула суприм',\n",
       " 'калибрахоа aloha',\n",
       " 'калибрахоа bloomtastic',\n",
       " 'калибрахоа mini',\n",
       " 'калибрахоа rave',\n",
       " 'калибрахоа sweet',\n",
       " 'калибрахоа ампельная,',\n",
       " 'калла крупноцветковая',\n",
       " 'каллуна гарден',\n",
       " 'калоцефалус брауни',\n",
       " 'камнеломка арендса',\n",
       " 'камнеломка тенистая',\n",
       " 'кампанула махровая',\n",
       " 'капсикум сальса',\n",
       " 'капуста белокочанная',\n",
       " 'капуста брокколи',\n",
       " 'капуста брюссельская',\n",
       " 'капуста декоративная',\n",
       " 'капуста кольраби',\n",
       " 'капуста цветная',\n",
       " 'карниз алюминиевый',\n",
       " 'карниз для',\n",
       " 'картофелемялка металлическая',\n",
       " 'кастрюля алюминиевая',\n",
       " 'кастрюля круглая',\n",
       " 'кастрюля чугунная',\n",
       " 'кастрюля эмалированная',\n",
       " 'кастрюля эмалированная,',\n",
       " 'кипарисовик лавсона',\n",
       " 'кипятильник электрический',\n",
       " 'кисточка силиконовая',\n",
       " 'клен ложноплатановый',\n",
       " 'клубника альба',\n",
       " 'клубника мара',\n",
       " 'клубника хоней',\n",
       " 'ключница картина',\n",
       " 'ковер придверный',\n",
       " 'коврик bacchetta',\n",
       " 'коврик dasch',\n",
       " 'коврик sochi',\n",
       " 'коврик в',\n",
       " 'коврик влаговпитывающий',\n",
       " 'коврик ворсовый',\n",
       " 'коврик для',\n",
       " 'коврик интерьерный',\n",
       " 'коврик кухонный',\n",
       " 'коврик придверный',\n",
       " 'коврик придверный,',\n",
       " 'коврик противоскользящий',\n",
       " 'коврик резиновый',\n",
       " 'коврик хлопковый',\n",
       " 'ковш пластмассовый',\n",
       " 'ковёр придверный',\n",
       " 'кодонанта укорененный',\n",
       " 'колеус рассада',\n",
       " 'колокольчик карпатский',\n",
       " 'колокольчик персиколистный',\n",
       " 'кольца для',\n",
       " 'комнатное растение',\n",
       " 'комод эльфпласт',\n",
       " 'комплект для',\n",
       " 'комплект махровых',\n",
       " 'комплект постельного',\n",
       " 'кондиционер для',\n",
       " 'контейнер герметичный',\n",
       " 'контейнер для',\n",
       " 'концентрат для',\n",
       " 'кореопсис золотой',\n",
       " 'кореопсис толл',\n",
       " 'корзина city',\n",
       " 'корзина для',\n",
       " 'корзина мягкая',\n",
       " 'корзина на',\n",
       " 'корзина пластиковая',\n",
       " 'корзинка с',\n",
       " 'кориандр в',\n",
       " 'кориандр стимул',\n",
       " 'короб стеллажный',\n",
       " 'коробка infinity',\n",
       " 'коробка для',\n",
       " 'коробка прямоугольная',\n",
       " 'корыто оцинкованное',\n",
       " 'космея клюквенный',\n",
       " 'космея кэнди',\n",
       " 'космея лимонад',\n",
       " 'космея очаровашка',\n",
       " 'космея попсокс',\n",
       " 'космея снежный',\n",
       " 'котел алюминиевый',\n",
       " 'котовник блю',\n",
       " 'кофе арабика',\n",
       " 'кофр для',\n",
       " 'кофр малый',\n",
       " 'крассула d-17',\n",
       " 'крассула овата',\n",
       " 'крепеж для',\n",
       " 'крокусы pickwick',\n",
       " 'кружка 350',\n",
       " 'кружка luminarc',\n",
       " 'кружка бамбук',\n",
       " 'кружка для',\n",
       " 'кружка марли',\n",
       " 'кружка мерная',\n",
       " 'кружка нордик',\n",
       " 'кружка о',\n",
       " 'кружка с',\n",
       " 'кружка тачки',\n",
       " 'крышка оцинкованная',\n",
       " 'крючок одежный',\n",
       " 'крючок проволочный',\n",
       " 'кувшин luminarc',\n",
       " 'кувшин пластмассовый',\n",
       " 'кухонное полотенце',\n",
       " 'кухонные ножницы',\n",
       " 'лаванда d-9',\n",
       " 'лаванда в',\n",
       " 'лаванда торх',\n",
       " 'лаватера монт',\n",
       " 'лавр d-9',\n",
       " 'лавр в',\n",
       " 'лавр нобилис',\n",
       " 'лантана d-13',\n",
       " 'лантана в',\n",
       " 'лапчатка огненное',\n",
       " 'лапчатка травянистая',\n",
       " 'левкой рассада',\n",
       " 'лен небесная',\n",
       " 'лестница стремянка',\n",
       " 'лестница-стремянка dogrular',\n",
       " 'лестница-стремянка sarayli',\n",
       " 'лестница-стремянка примус',\n",
       " 'лилейник высокорослый',\n",
       " 'линейка, длина',\n",
       " 'литопс микс',\n",
       " 'лобелия ампельная,',\n",
       " 'лобелия рассада',\n",
       " 'лобелия регатта',\n",
       " 'ложка кухонная',\n",
       " 'ложка обувная',\n",
       " 'ложка столовая',\n",
       " 'ложка чайная',\n",
       " 'лопатка attribute',\n",
       " 'лопатка c',\n",
       " 'лоток knit',\n",
       " 'лоток для',\n",
       " 'лук порей',\n",
       " 'львиный зев',\n",
       " 'любисток удалец',\n",
       " 'мантоварка алюминиевая',\n",
       " 'мантоварка-пароварка webber',\n",
       " 'масленка коровка',\n",
       " 'маттиола ночная',\n",
       " 'махровое полотенце',\n",
       " 'махровый халат',\n",
       " 'мединилла магнифика',\n",
       " 'мелисса лекарственная',\n",
       " 'мерный стакан',\n",
       " 'мешок для',\n",
       " 'миксер delta',\n",
       " 'миксер василиса',\n",
       " 'миксер электрический',\n",
       " 'мимоза стыдливая',\n",
       " 'мини-сковорода marmiton',\n",
       " 'мирт d-20',\n",
       " 'мирт d-9',\n",
       " 'миска для',\n",
       " 'миска пластмассовая',\n",
       " 'миска фазенда',\n",
       " 'многолетнее растение',\n",
       " 'многофункциональный инструмент',\n",
       " 'модульная стеклянная',\n",
       " 'молодило в',\n",
       " 'молодило микс',\n",
       " 'монарда в',\n",
       " 'монарда гибридная',\n",
       " 'морковь детская',\n",
       " 'муляж \"райские',\n",
       " 'муляж ананас',\n",
       " 'муляж апельсин',\n",
       " 'муляж баклажан',\n",
       " 'муляж банан',\n",
       " 'муляж банан,',\n",
       " 'муляж булка',\n",
       " 'муляж виноград',\n",
       " 'муляж виноград,',\n",
       " 'муляж вишня',\n",
       " 'муляж вишня,',\n",
       " 'муляж гранат',\n",
       " 'муляж груша',\n",
       " 'муляж груша,',\n",
       " 'муляж долька',\n",
       " 'муляж желудь',\n",
       " 'муляж зеленое',\n",
       " 'муляж клубника',\n",
       " 'муляж красное',\n",
       " 'муляж лайм',\n",
       " 'муляж лимон',\n",
       " 'муляж лимон,',\n",
       " 'муляж манго',\n",
       " 'муляж мандарин',\n",
       " 'муляж мандарин,',\n",
       " 'муляж морковь',\n",
       " 'муляж оранжевое',\n",
       " 'муляж перец',\n",
       " 'муляж перец,',\n",
       " 'муляж персик',\n",
       " 'муляж персик,',\n",
       " 'муляж персики',\n",
       " 'муляж томат',\n",
       " 'муляж томат,',\n",
       " 'муляж тыквы',\n",
       " 'муляж хлеб',\n",
       " 'муляж черешня',\n",
       " 'муляж чеснок',\n",
       " 'муляж яблоко',\n",
       " 'муляж яблоко,',\n",
       " 'муррайя d-9',\n",
       " 'мускари white',\n",
       " 'мусорный контейнер',\n",
       " 'мыло жидкое',\n",
       " 'мыло ручной',\n",
       " 'мыло-скраб с',\n",
       " 'мыльница пластмассовая',\n",
       " 'мята aura',\n",
       " 'мята d-9',\n",
       " 'мята колосистая',\n",
       " 'мята махито',\n",
       " 'мята перечная',\n",
       " 'набор vileda',\n",
       " 'набор бокалов',\n",
       " 'набор вешалок',\n",
       " 'набор для',\n",
       " 'набор инструментов',\n",
       " 'набор ковров',\n",
       " 'набор кружек',\n",
       " 'набор кухонных',\n",
       " 'набор махровых',\n",
       " 'набор ножей',\n",
       " 'набор посуды',\n",
       " 'набор прецизионных',\n",
       " 'набор прищепок',\n",
       " 'набор сверел',\n",
       " 'набор стаканов',\n",
       " 'набор столовых',\n",
       " 'набор форм',\n",
       " 'набор фужеров',\n",
       " 'набор эмалированных',\n",
       " 'наволочка wellness',\n",
       " 'наматрасник wellness',\n",
       " 'наматрацник natures',\n",
       " 'наматрицник-чехол natures',\n",
       " 'насадка для',\n",
       " 'насадка к',\n",
       " 'насадка на',\n",
       " 'насадка-моп rozenbal',\n",
       " 'насадка-отжим пластиковая',\n",
       " 'настенная сушилка',\n",
       " 'настольная гладильная',\n",
       " 'настурция драгоценность',\n",
       " 'настурция лунный',\n",
       " 'настурция орхидное',\n",
       " 'незабудка смесь',\n",
       " 'нетканые салфетки',\n",
       " 'нефролепис бостон',\n",
       " 'нивянник (ромашка)',\n",
       " 'новогоднее дерево',\n",
       " 'нож для',\n",
       " 'нож кухонный',\n",
       " 'нож поварской',\n",
       " 'нож столовый',\n",
       " 'нож универсальный',\n",
       " 'ножеточка универсальная',\n",
       " 'нолина в',\n",
       " 'обувница-3 квадро',\n",
       " 'овощеварка алюминиевая',\n",
       " 'овощечистка с',\n",
       " 'овсянница сизая',\n",
       " 'огурец алтай',\n",
       " 'огурец аристократ',\n",
       " 'огурец багратион',\n",
       " 'огурец боярский',\n",
       " 'огурец закусочный',\n",
       " 'огурец засолочный',\n",
       " 'одеяло silver',\n",
       " 'одеяло wellness',\n",
       " 'однолетнее растение',\n",
       " 'окномойка с',\n",
       " 'ополаскиватель для',\n",
       " 'орехоколка viva,',\n",
       " 'осина обыкновенная,',\n",
       " 'основание для',\n",
       " 'отбеливатель пероксоль',\n",
       " 'отделитель косточек',\n",
       " 'отжим для',\n",
       " 'папоротник страусник',\n",
       " 'паста для',\n",
       " 'паста зубная',\n",
       " 'патиссон диск',\n",
       " 'патиссон зонтик',\n",
       " 'патиссон нло',\n",
       " 'пахира акватика',\n",
       " 'пеларгония angeleyes',\n",
       " 'пеларгония d-13',\n",
       " 'пеларгония toscana',\n",
       " 'пеларгония грандифлора',\n",
       " 'пеларгония душистая',\n",
       " 'пеларгония зональная',\n",
       " 'пеларгония плющелистная',\n",
       " 'пеларгония розебудная',\n",
       " 'пеларгония розоцветная',\n",
       " 'пеларгония тюльпановидная',\n",
       " 'пена для',\n",
       " 'пеперомия d-12',\n",
       " 'перчатки extra',\n",
       " 'перчатки fabrikators',\n",
       " 'перчатки latex',\n",
       " 'перчатки латексные',\n",
       " 'перчатки резиновые',\n",
       " 'петля приварная',\n",
       " 'петля рояльная',\n",
       " 'петля-стрела пс-286',\n",
       " 'петрушка итальянский',\n",
       " 'петрушка корневая',\n",
       " 'петрушка листовая',\n",
       " 'петуния baby',\n",
       " 'петуния bordeaux',\n",
       " 'петуния crazytunia',\n",
       " 'петуния orange',\n",
       " 'петуния pegasus',\n",
       " 'петуния potunia',\n",
       " 'петуния sanguna',\n",
       " 'петуния sky',\n",
       " 'петуния surfinia',\n",
       " 'петуния surprice',\n",
       " 'петуния surprise',\n",
       " 'петуния sweetunia',\n",
       " 'петуния ампельная',\n",
       " 'петуния гибридная',\n",
       " 'петуния изи',\n",
       " 'петуния каскад',\n",
       " 'петуния крупноцветковая',\n",
       " 'петуния махровая',\n",
       " 'петуния простая',\n",
       " 'петуния рассада',\n",
       " 'петуния свитуния',\n",
       " 'пиретрум робинсон',\n",
       " 'платикодон махровый',\n",
       " 'плед флисовый',\n",
       " 'плечики пластмассовые',\n",
       " 'подарочный набор',\n",
       " 'подвесное кашпо',\n",
       " 'подголовник bacchetta',\n",
       " 'подголовник для',\n",
       " 'подкладка под',\n",
       " 'пододеяльник 214х150',\n",
       " 'подрукавник gimi',\n",
       " 'подрукавник leifheit',\n",
       " 'подрукавник складной',\n",
       " 'подсолнечник низкорослый',\n",
       " 'подставка для',\n",
       " 'подушка 40х40',\n",
       " 'подушка декоративная',\n",
       " 'покрывало karna',\n",
       " 'покрывало жаккард',\n",
       " 'покрывало стеганый',\n",
       " 'покрытие для',\n",
       " 'полка для',\n",
       " 'полки qwerty',\n",
       " 'половник attribute',\n",
       " 'полотенце кухонное',\n",
       " 'полотенце махровое',\n",
       " 'полотенце прессованное',\n",
       " 'портулак рассада',\n",
       " 'пресс для',\n",
       " 'примула акаулис',\n",
       " 'примула желтая',\n",
       " 'примула комнатная',\n",
       " 'примула рассада',\n",
       " 'прищепки для',\n",
       " 'пробка для',\n",
       " 'просеиватель для',\n",
       " 'простынь вафельная',\n",
       " 'простыня двуспальная',\n",
       " 'простыня на',\n",
       " 'простыня сатиновая',\n",
       " 'противень прямоугольный',\n",
       " 'пружина дверная',\n",
       " 'пряные травы',\n",
       " 'пуансетия d-12',\n",
       " 'пуансеттия d-12',\n",
       " 'пуансеттия d-15',\n",
       " 'пуансеттия d-23',\n",
       " 'пуансеттия в',\n",
       " 'пылесос delta',\n",
       " 'пьезозажигалка с',\n",
       " 'радермахера d-12',\n",
       " 'разделочная доска',\n",
       " 'ранункулус клуни',\n",
       " 'рассада арбуза',\n",
       " 'рассада в',\n",
       " 'рассада дыни',\n",
       " 'рассада зелени',\n",
       " 'рассада кабачка',\n",
       " 'рассада кабачок',\n",
       " 'рассада капусты',\n",
       " 'рассада клубники',\n",
       " 'рассада огурец',\n",
       " 'рассада огурца',\n",
       " 'рассада остеоспермум',\n",
       " 'рассада патиссона',\n",
       " 'рассада пеларгония',\n",
       " 'рассада перца',\n",
       " 'рассада пряной',\n",
       " 'рассада томата',\n",
       " 'рассада тыквы',\n",
       " 'рассекатель пламени',\n",
       " 'решетка вентиляционная',\n",
       " 'роза кордана',\n",
       " 'роза кустовая',\n",
       " 'роза мини',\n",
       " 'роза одноголовая',\n",
       " 'роза палас',\n",
       " 'роза патио',\n",
       " 'роза садовая',\n",
       " 'роза чайно-гибридная',\n",
       " 'розмарин d-12',\n",
       " 'розмарин d-9',\n",
       " 'розмарин в',\n",
       " 'ролик для',\n",
       " 'рудбекия тайгер',\n",
       " 'рукав для',\n",
       " 'ручка мебельная',\n",
       " 'ручка-скоба рс-100',\n",
       " 'рыбочистка металлическая,',\n",
       " 'рыбочистка с',\n",
       " 'салат рукола',\n",
       " 'салатник luminarc',\n",
       " 'салатник амори',\n",
       " 'салатник аспен',\n",
       " 'салатник воларэ',\n",
       " 'салатник карин',\n",
       " 'салатник колорама',\n",
       " 'салатник рапсоди',\n",
       " 'салатник романтик',\n",
       " 'салатник эмпилабль',\n",
       " 'салфетка protec',\n",
       " 'салфетка камушки',\n",
       " 'салфетка махровая',\n",
       " 'салфетка на',\n",
       " 'салфетница металлическая',\n",
       " 'сальвия рассада',\n",
       " 'сантолина d-9',\n",
       " 'сахарница фарфоровая',\n",
       " 'сверло по',\n",
       " 'сверло-фреза, 6',\n",
       " 'сверло-фреза, 8',\n",
       " 'светильник настольный',\n",
       " 'седум (очиток)',\n",
       " 'седум почвопокровный',\n",
       " 'сельдерей листовой',\n",
       " 'сервировочная салфетка',\n",
       " 'сетка для',\n",
       " 'сиденье в',\n",
       " 'сиденье для',\n",
       " 'синнингия (глоксиния)',\n",
       " 'сито webber',\n",
       " 'скалка силиконовая,',\n",
       " 'скатерть 150х120',\n",
       " 'скатерть 180',\n",
       " 'скатерть 350х150',\n",
       " 'скатерть 350х180',\n",
       " 'скатерть dasch',\n",
       " 'скатерть meiwa',\n",
       " 'скатерть towa',\n",
       " 'скатерть ажурная',\n",
       " 'скатерть азалия',\n",
       " 'скатерть арлет',\n",
       " 'скатерть беатрис',\n",
       " 'скатерть виниловая',\n",
       " 'скатерть джулия',\n",
       " 'скатерть династия',\n",
       " 'скатерть жаклин',\n",
       " 'скатерть из',\n",
       " 'скатерть круглая',\n",
       " 'скатерть лувр',\n",
       " 'скатерть муза',\n",
       " 'скатерть прямоугольная',\n",
       " 'скатерть рим',\n",
       " 'скатерть сидней',\n",
       " 'скиммия японская',\n",
       " 'складная картонная',\n",
       " 'складной детский',\n",
       " 'сковорода hard',\n",
       " 'сковорода scovo',\n",
       " 'сковорода алюминиевая',\n",
       " 'скребок 44',\n",
       " 'скребок для',\n",
       " 'скребок кондитерский',\n",
       " 'сменная насадка',\n",
       " 'сменный блок',\n",
       " 'сметка с',\n",
       " 'смолевка звездный',\n",
       " 'совок для',\n",
       " 'совок и',\n",
       " 'совок металический',\n",
       " 'соковарка webber',\n",
       " 'соковарка алюминиевая',\n",
       " 'соковыжималка для',\n",
       " 'соланум d-10',\n",
       " 'солидаго желтый',\n",
       " 'сотейник алюминиевый',\n",
       " 'спатифиллум d-7',\n",
       " 'спатифиллум свит',\n",
       " 'спатифиллум шопен',\n",
       " 'средство для',\n",
       " 'стакан для',\n",
       " 'стакан низкий',\n",
       " 'стакан пластмассовый',\n",
       " 'стеклянная крышка',\n",
       " 'стеллаж для',\n",
       " 'стиральный биопорошок',\n",
       " 'столовая ложка',\n",
       " 'столовый нож',\n",
       " 'стремянка 5',\n",
       " 'стремянка 7',\n",
       " 'стремянка colombo',\n",
       " 'стремянка dogrular',\n",
       " 'стремянка eurogold',\n",
       " 'стремянка framar',\n",
       " 'стремянка scab',\n",
       " 'стремянка алюминиевая',\n",
       " 'стремянка бытовая',\n",
       " 'стремянка металлическая',\n",
       " 'стремянка-табурет алюминиевая',\n",
       " 'стремянки colombo',\n",
       " 'стяжка оконная',\n",
       " 'стяжки для',\n",
       " 'суккулент микс',\n",
       " 'сумка для',\n",
       " 'сумка хозяйственная',\n",
       " 'сумка-тележка 2-х',\n",
       " 'сумка-тележка 3-х',\n",
       " 'сумка-тележка brava',\n",
       " 'сумка-тележка delta',\n",
       " 'сумка-тележка gimi',\n",
       " 'сумка-тележка twin',\n",
       " 'сумка-тележка хозяйственная',\n",
       " 'сушилка meliconi',\n",
       " 'сушилка для',\n",
       " 'сушилка мульти',\n",
       " 'сциндапсус в',\n",
       " 'табак бордовый',\n",
       " 'табак душистый',\n",
       " 'табак курительный',\n",
       " 'тагетис крупноцветковый',\n",
       " 'таз алюминиевый,',\n",
       " 'таз пластмассовый',\n",
       " 'тарелка десертная',\n",
       " 'тарелка обеденная',\n",
       " 'тарелка суповая',\n",
       " 'тележка багажная',\n",
       " 'тележка хозяйственная',\n",
       " 'терка webber',\n",
       " 'терка для',\n",
       " 'термокружка alpenkok',\n",
       " 'термокружка вакуумная',\n",
       " 'термокружка забава',\n",
       " 'термокружка яромир',\n",
       " 'термометр на',\n",
       " 'термометр уличный',\n",
       " 'термос 1л',\n",
       " 'термос со',\n",
       " 'термостакан webber',\n",
       " 'тимьян d-9',\n",
       " 'тимьян в',\n",
       " 'тимьян крымский',\n",
       " 'тимьян овощной',\n",
       " 'ткань для',\n",
       " 'ткань универсальная',\n",
       " 'толкушка деревянная',\n",
       " 'толкушка для',\n",
       " 'томат балконное',\n",
       " 'томат государь',\n",
       " 'томат детерминантный',\n",
       " 'томата (помидор)',\n",
       " 'тортница curver',\n",
       " 'тряпка для',\n",
       " 'тряпкодержатель с',\n",
       " 'тыква крупноплодная',\n",
       " 'тюльпан louvre',\n",
       " 'увлажняющая маска',\n",
       " 'уголок оконный',\n",
       " 'укроп обильнолистный',\n",
       " 'универсальное средство',\n",
       " 'универсальный нож',\n",
       " 'урна уличная',\n",
       " 'урна-пепельница из',\n",
       " 'утюг delta',\n",
       " 'утюг электрический',\n",
       " 'фал капроновый',\n",
       " 'фаленопсис желтый',\n",
       " 'фаленопсис королевский',\n",
       " 'фаленопсис люкс',\n",
       " 'фарфоровая кружка',\n",
       " 'фатсия d-17',\n",
       " 'фатсия японская',\n",
       " 'фен дорожный',\n",
       " 'фиалка d-11',\n",
       " 'фиалка d-9',\n",
       " 'фиалка карнавал',\n",
       " 'фиалка махровая',\n",
       " 'фиалка микс',\n",
       " 'фиалка химера',\n",
       " 'физостегия вергинская',\n",
       " 'фиксатор-шар хром',\n",
       " 'фикус каучуконосный',\n",
       " 'фиттония скелетон',\n",
       " 'флокс друммонда',\n",
       " 'флокс метельчатый',\n",
       " 'флокс растопыренный',\n",
       " 'форма аlpenkok',\n",
       " 'форма для',\n",
       " 'фоторамка alparaisa',\n",
       " 'фуксия bella',\n",
       " 'фуксия blue',\n",
       " 'фуксия dark',\n",
       " 'фуксия e4',\n",
       " 'фуксия swingtime',\n",
       " 'фуксия ампельная',\n",
       " 'фуксия ампельная,',\n",
       " 'фуксия прямостоячая',\n",
       " 'халат вафельный',\n",
       " 'хамедорея d-12',\n",
       " 'хлебница webber',\n",
       " 'хлебница деревянная',\n",
       " 'хлебница пластмасовая',\n",
       " 'хлорофитум d-13',\n",
       " 'хлорофитум d-7',\n",
       " 'холодная сварка',\n",
       " 'хоста микс',\n",
       " 'хризантема белая',\n",
       " 'хризантема корейская',\n",
       " 'хризантема космо',\n",
       " 'хризантема красная',\n",
       " 'хризантема кустовая',\n",
       " 'хризантема сиреневая',\n",
       " 'хризолидокарпус лутесценс',\n",
       " 'цветок искусственный',\n",
       " 'цветущее комнатное',\n",
       " 'целозия гребенчатая',\n",
       " 'цикламен d-12',\n",
       " 'цикламен d-13',\n",
       " 'цикламен d-15',\n",
       " 'цикламен комнатный',\n",
       " 'цикламен розовый',\n",
       " 'цикламен, цвет',\n",
       " 'цинерания рассада',\n",
       " 'цинерария серебряная',\n",
       " 'циния рассада',\n",
       " 'цинния ацтек',\n",
       " 'цинния коралловая',\n",
       " 'цинния оранжевый',\n",
       " 'цинния хаага',\n",
       " 'циперус зумула',\n",
       " 'цитрофортунелла кумкват',\n",
       " 'чабер bolero',\n",
       " 'чайная ложка',\n",
       " 'чайник заварочный',\n",
       " 'чайник со',\n",
       " 'чайник электрический',\n",
       " 'чайник эмалированный',\n",
       " 'чайный набор',\n",
       " 'чехол eurogold',\n",
       " 'чехол для',\n",
       " 'чистящий крем',\n",
       " 'шалфей овощной',\n",
       " 'швабра leifheit',\n",
       " 'швабра для',\n",
       " 'швабра многофункциональная',\n",
       " 'швабра многофункциональная,',\n",
       " 'швабра сальса',\n",
       " 'швабра хозяйственная',\n",
       " 'шеффлера голд',\n",
       " 'шеффлера лузеана',\n",
       " 'шило с',\n",
       " 'шнур резиновый',\n",
       " 'шнур хозяйственный',\n",
       " 'шпагат полипропиленовый',\n",
       " 'шпингалет 80',\n",
       " 'шприц кондитерский',\n",
       " 'штанга для',\n",
       " 'штангенциркуль 150',\n",
       " 'штора для',\n",
       " 'штора со',\n",
       " 'штора текстильная',\n",
       " 'щетка для',\n",
       " 'щетка палубная',\n",
       " 'щетка универсальная',\n",
       " 'щетка хозяйственная',\n",
       " 'щетка-сметка 3-х',\n",
       " 'щетка-сметка 4-х',\n",
       " 'щетка-сметка с',\n",
       " 'щетка-утюжок с',\n",
       " 'щётка для',\n",
       " 'эвкалипт гунни',\n",
       " 'эвкалипт сильвердроп',\n",
       " 'электроштопор qwerty',\n",
       " 'энотера миссурийская',\n",
       " 'эпипремнум ауреум',\n",
       " 'этажерка 2',\n",
       " 'этажерка для',\n",
       " 'этажерка цветочная',\n",
       " 'эхеверия лила',\n",
       " 'эхеверия микс',\n",
       " 'эхеверия перл',\n",
       " 'эхинацея микс',\n",
       " 'эхинокактус грузони',\n",
       " 'эшшольция карминный',\n",
       " 'юкка нитчатая',\n",
       " 'ясколка войлочная',\n",
       " 'ящик для',\n",
       " 'ящик почтовый',\n",
       " 'ёрш бутылочный',\n",
       " 'ёрш для',\n",
       " 'ёрш радиаторный',\n",
       " 'ёрш унитазный']"
      ]
     },
     "execution_count": 392,
     "metadata": {},
     "output_type": "execute_result"
    }
   ],
   "source": [
    "# copy the 'product' and 'quantity' columns from the dataframe,\n",
    "# extract the first two words from each product name into a new column 'first_words'\n",
    "# then group the data by 'first_words'\n",
    "products_dict = data[['product','quantity']].copy()\n",
    "products_dict['first_words'] = products_dict['product'].apply(lambda x: ' '.join(x.split()[:2]))\n",
    "products_dict = products_dict.groupby('first_words').agg({'quantity':'sum'})\\\n",
    "                            .sort_values('quantity', ascending=False).index\n",
    "sorted(products_dict)"
   ]
  },
  {
   "cell_type": "code",
   "execution_count": 393,
   "id": "21b49913",
   "metadata": {},
   "outputs": [],
   "source": [
    "# Create a dictionary of keyword entries and corresponding product categories\n",
    "lookup_dict = {\n",
    "    'Trolleys and Bags': ['сумка', 'тележка', 'сумка для тележки'],\n",
    "\n",
    "    'Laundry and Ironing': ['чехол', 'гладильная доска', 'сушилка', 'рукав', 'покрытие', 'утюг', 'прищеп', 'сетка'],\n",
    "\n",
    "    'Textiles': ['полотен', 'скатерть', 'ковр', 'ковёр', 'ковер', 'плед', 'покрывало', 'наматрацник', 'подушка',\n",
    "                 'простыня', 'наматрасник', 'подголовник', 'одеяло', 'пододеяльник', 'халат', 'наволочка'],\n",
    "\n",
    "    'For Celebrations': ['ель', 'пуансеттия', 'кипарисовик', 'подарочный', 'штук в упаковке', 'тюльпан louvre'],\n",
    "\n",
    "    'Artificial Flowers and Imitations': ['искус', 'муляж'],\n",
    "\n",
    "    'Kitchen': ['салатник', 'сковорода', 'тepмокружка', 'термокружка', 'кувшин', 'банка', 'миска', 'просеиватель',\n",
    "                'салфетка', 'измельчитель', 'хлебница', 'контейнер', 'овощеварка', 'кухон', 'столов', 'тарелка', \n",
    "                'чайник', 'кружка', 'кастрюля', 'блюд', 'нож', 'термос', 'банка', 'чайник', 'фужер', 'терка', \n",
    "                'разделочная', 'лоток', 'ёрш бутылочный', 'ёрш для', 'стакан', 'миксер', 'коробка', 'форма', \n",
    "                'емкость', 'половник', 'ложка', 'бидон', 'бокал', 'рыбочистка', 'пьезозажигалка', 'крышка', \n",
    "                'масленка', 'вкладыши', 'толкушка', 'чайный набор', 'набор форм', 'сахарница', 'кисточка', \n",
    "                'соковыжималка', 'сито', 'орехоколка', 'бульонница', 'электроштопор', 'защитный экран', 'для яйца',\n",
    "                'be-', 'лопатка', 'соковарка', 'противень', 'пресс', 'скалка', 'овощечистка', 'тортница', \n",
    "                'корзина', 'венчик', 'кипятильник', 'картофелемялка', 'мантоварка', 'кружек', 'посуды'],\n",
    "\n",
    "    'Household Goods and Cleaning Supplies': ['плечики', 'вешал', 'таз', 'корыто', 'термометр', 'ёрш', 'швабра',\n",
    "                'штанга', 'штора', 'щетка', 'ванной', 'ванну', 'стяжка', 'насадка', 'окномойка', '4660015', \n",
    "                'полки', '1205', 'тремянк', 'обув', 'тряпкодержатель', 'перчатки', 'сиденье', 'мусор', 'зубная', \n",
    "                'крючок', 'мыло', 'кофр', 'весы', 'урна', 'вантуз', 'комплект', 'ведро', 'шнур', 'комод', 'совок', \n",
    "                'петля', 'веник', '1107', 'ковш', 'шпингалет', 'штангенциркуль', 'салфет', 'фиксатор', 'ткань',\n",
    "                'перчатки', 'вакуумный пакет', 'сметка', 'тряпка', 'короб', 'веревка', 'корзин', 'средство для',\n",
    "                'ящик для', 'линейка', 'фал капроновый', 'кольца', 'основание', 'дозатор', 'пробка', 'маска',\n",
    "                'пылесос', 'ключница', 'шпагат', 'решетка', 'сверло', 'ручка', 'концентрат', 'ерш', 'rozenbal',\n",
    "                'пена', 'светильник', 'карниз', 'этажерка', 'чистящий', 'фоторамка', 'стяжки', 'фен', 'мешок',\n",
    "                'губка', 'ванна', 'паста', 'отжим', 'защитная', 'сменный', 'складной', 'бальзам', \n",
    "                'многофункциональный', 'котел', 'инструмент', 'напильников', 'сверел'],\n",
    "\n",
    "    'Flower Seedlings and Seeds': ['рассада однолетних цветов', 'однолетнее растение', 'объем', 'ампельная', 'роза',\n",
    "                'вербейник монетчатый', 'ранункулус', 'флокс', 'бальзамин', 'хризантема', 'бегония', 'примула акаулис',\n",
    "                'примула желтая', 'гортензия', '4650091480', 'эвкалипт', 'петуния', 'подсолнечник низкорослый',\n",
    "                'клен ложноплатановый', 'чабер', 'пуансетия', 'крокус', 'фуксия', 'аптения', 'иссоп',\n",
    "                'кампанула махровая', 'лантана', 'муррайя', 'осина обыкновенная', 'соланум', 'гиностемма',\n",
    "                'цитрофортунелла', 'сантолина', 'цинерария', 'гербера', 'табак', 'крассула', 'суккулент', \n",
    "                'юкка', 'гимнокалициум', 'буддлея'],\n",
    "\n",
    "    'Vegetable and Berry Seedlings': ['томат', 'рассада зелени', 'арбуз', 'капуст', 'дыня', 'дыни', 'тыкв', 'тимьян',\n",
    "                'огурца', 'кабачка', 'базилик', 'лаванда', 'петрушка', 'лавр', 'пчелоопыляемый', 'зверобой', 'кофе',\n",
    "                'клубника', 'мята', 'патиссон', 'гвоздика', 'розмарин', '46500', '466001077', 'перца', 'огурец',\n",
    "                'клубник', 'земляника', 'кабачок', 'шалфей овощной', 'душица', 'кориандр', 'пряные', 'баклажан'],\n",
    "\n",
    "    'Houseplants': ['пеларгония', 'комнатн', 'антуриум', 'афеляндра', 'хлорофитум', 'декабрист', 'мимоза', 'фиалка',\n",
    "                    'гардения', 'эхеверия', 'цикламен', 'калатея', 'спатифиллум', 'диффенбахия', 'дендробиум',\n",
    "                    'эхинокактус', 'циперус', 'мединилла', 'эпипремнум ауреум', 'каланхое каландива',\n",
    "                    'девичий виноград', 'азалия индика', 'драцена фрагранс', 'мирт', 'хамедорея', 'молодило',\n",
    "                    'аспарагус спренжери', 'алоэ', 'фаленопсис', 'нефролепис', 'нолина', 'змееголовник', \n",
    "                    'глоксиния', 'хризолидокарпус', 'шеффлера', 'гиацинт', 'фикус', 'пеперомия', 'радермахера',\n",
    "                    'пахира', 'фиттония', 'скиммия', 'аспарагус', 'артемизия', 'антижир', 'фатсия', 'мускари',\n",
    "                    'валериана', 'джункус', 'бульдозер', 'импатиенс', 'альбука', 'мелисса', 'любисток', 'литопс',\n",
    "                    'кодонанта', 'калла', 'капсикум', 'калоцефалус', 'каллуна', 'амариллис', 'замиокулькас',\n",
    "                    'адиантум', 'вигна', 'монарда', 'сциндапсус'],\n",
    "}"
   ]
  },
  {
   "cell_type": "code",
   "execution_count": 394,
   "id": "274a6710",
   "metadata": {},
   "outputs": [],
   "source": [
    "# Create a function to categorize products based on the lookup_dict\n",
    "def product_cat(row):\n",
    "    \"\"\"\n",
    "    The product_cat function assigns a product category based on the 'product' field\n",
    "    using a predefined dictionary of keyword-category mappings.\n",
    "    \n",
    "    It takes one argument – a row from the DataFrame – and checks whether any of the\n",
    "    keywords from the dictionary appear in the product name.\n",
    "    \n",
    "    If a match is found, it returns the corresponding category name.\n",
    "    If no match is found, it returns None.\n",
    "    \"\"\"\n",
    "    category = None\n",
    "    for cat, texts in lookup_dict.items():\n",
    "        if any(text in row['product'] for text in texts):\n",
    "            category = cat\n",
    "            break\n",
    "    return category"
   ]
  },
  {
   "cell_type": "code",
   "execution_count": 395,
   "id": "7bcfcdff",
   "metadata": {},
   "outputs": [],
   "source": [
    "# Apply the function to create a new column in the DataFrame\n",
    "data['category'] = data.apply(product_cat, axis=1)"
   ]
  },
  {
   "cell_type": "code",
   "execution_count": 396,
   "id": "70ea9719",
   "metadata": {},
   "outputs": [
    {
     "data": {
      "text/plain": [
       "0"
      ]
     },
     "execution_count": 396,
     "metadata": {},
     "output_type": "execute_result"
    }
   ],
   "source": [
    "# Check that all products have been assigned to a category\n",
    "data['category'].isna().sum()"
   ]
  },
  {
   "cell_type": "code",
   "execution_count": 397,
   "id": "fcf70dac",
   "metadata": {},
   "outputs": [
    {
     "data": {
      "text/html": [
       "<div>\n",
       "<style scoped>\n",
       "    .dataframe tbody tr th:only-of-type {\n",
       "        vertical-align: middle;\n",
       "    }\n",
       "\n",
       "    .dataframe tbody tr th {\n",
       "        vertical-align: top;\n",
       "    }\n",
       "\n",
       "    .dataframe thead th {\n",
       "        text-align: right;\n",
       "    }\n",
       "</style>\n",
       "<table border=\"1\" class=\"dataframe\">\n",
       "  <thead>\n",
       "    <tr style=\"text-align: right;\">\n",
       "      <th></th>\n",
       "      <th>category</th>\n",
       "      <th>num_products</th>\n",
       "      <th>num_orders</th>\n",
       "      <th>total/1000</th>\n",
       "      <th>price</th>\n",
       "    </tr>\n",
       "  </thead>\n",
       "  <tbody>\n",
       "    <tr>\n",
       "      <th>0</th>\n",
       "      <td>Household Goods and Cleaning Supplies</td>\n",
       "      <td>389</td>\n",
       "      <td>602</td>\n",
       "      <td>824.0</td>\n",
       "      <td>374.0</td>\n",
       "    </tr>\n",
       "    <tr>\n",
       "      <th>1</th>\n",
       "      <td>Vegetable and Berry Seedlings</td>\n",
       "      <td>337</td>\n",
       "      <td>249</td>\n",
       "      <td>87.1</td>\n",
       "      <td>60.0</td>\n",
       "    </tr>\n",
       "    <tr>\n",
       "      <th>2</th>\n",
       "      <td>Kitchen</td>\n",
       "      <td>302</td>\n",
       "      <td>397</td>\n",
       "      <td>362.5</td>\n",
       "      <td>188.0</td>\n",
       "    </tr>\n",
       "    <tr>\n",
       "      <th>3</th>\n",
       "      <td>Laundry and Ironing</td>\n",
       "      <td>289</td>\n",
       "      <td>621</td>\n",
       "      <td>775.2</td>\n",
       "      <td>652.0</td>\n",
       "    </tr>\n",
       "    <tr>\n",
       "      <th>4</th>\n",
       "      <td>Flower Seedlings and Seeds</td>\n",
       "      <td>283</td>\n",
       "      <td>283</td>\n",
       "      <td>158.0</td>\n",
       "      <td>112.0</td>\n",
       "    </tr>\n",
       "    <tr>\n",
       "      <th>5</th>\n",
       "      <td>Houseplants</td>\n",
       "      <td>208</td>\n",
       "      <td>525</td>\n",
       "      <td>257.5</td>\n",
       "      <td>149.0</td>\n",
       "    </tr>\n",
       "    <tr>\n",
       "      <th>6</th>\n",
       "      <td>Textiles</td>\n",
       "      <td>146</td>\n",
       "      <td>214</td>\n",
       "      <td>306.2</td>\n",
       "      <td>712.0</td>\n",
       "    </tr>\n",
       "    <tr>\n",
       "      <th>7</th>\n",
       "      <td>For Celebrations</td>\n",
       "      <td>134</td>\n",
       "      <td>206</td>\n",
       "      <td>180.7</td>\n",
       "      <td>142.0</td>\n",
       "    </tr>\n",
       "    <tr>\n",
       "      <th>8</th>\n",
       "      <td>Artificial Flowers and Imitations</td>\n",
       "      <td>131</td>\n",
       "      <td>233</td>\n",
       "      <td>114.0</td>\n",
       "      <td>52.0</td>\n",
       "    </tr>\n",
       "    <tr>\n",
       "      <th>9</th>\n",
       "      <td>Trolleys and Bags</td>\n",
       "      <td>106</td>\n",
       "      <td>377</td>\n",
       "      <td>824.9</td>\n",
       "      <td>1087.0</td>\n",
       "    </tr>\n",
       "  </tbody>\n",
       "</table>\n",
       "</div>"
      ],
      "text/plain": [
       "                                category  num_products  num_orders  \\\n",
       "0  Household Goods and Cleaning Supplies           389         602   \n",
       "1          Vegetable and Berry Seedlings           337         249   \n",
       "2                                Kitchen           302         397   \n",
       "3                    Laundry and Ironing           289         621   \n",
       "4             Flower Seedlings and Seeds           283         283   \n",
       "5                            Houseplants           208         525   \n",
       "6                               Textiles           146         214   \n",
       "7                       For Celebrations           134         206   \n",
       "8      Artificial Flowers and Imitations           131         233   \n",
       "9                      Trolleys and Bags           106         377   \n",
       "\n",
       "   total/1000   price  \n",
       "0       824.0   374.0  \n",
       "1        87.1    60.0  \n",
       "2       362.5   188.0  \n",
       "3       775.2   652.0  \n",
       "4       158.0   112.0  \n",
       "5       257.5   149.0  \n",
       "6       306.2   712.0  \n",
       "7       180.7   142.0  \n",
       "8       114.0    52.0  \n",
       "9       824.9  1087.0  "
      ]
     },
     "execution_count": 397,
     "metadata": {},
     "output_type": "execute_result"
    }
   ],
   "source": [
    "pivot_cat = data.groupby('category').agg({'product':'nunique', \n",
    "                                          'order_id':'nunique', \n",
    "                                          'total':'sum', \n",
    "                                          'price':'median'})\\\n",
    "                        .rename(columns={'product':'num_products', \n",
    "                                         'order_id':'num_orders', \n",
    "                                         'total':'total/1000'})\\\n",
    "                        .sort_values('num_products', ascending=False).reset_index()\n",
    "pivot_cat['total/1000'] = round(pivot_cat['total/1000']/1000, 1)\n",
    "pivot_cat"
   ]
  },
  {
   "cell_type": "code",
   "execution_count": 398,
   "id": "2bb416c3",
   "metadata": {
    "scrolled": false
   },
   "outputs": [
    {
     "data": {
      "application/vnd.plotly.v1+json": {
       "config": {
        "plotlyServerURL": "https://plot.ly"
       },
       "data": [
        {
         "alignmentgroup": "True",
         "hovertemplate": "num_products=%{text}<br>category=%{y}<extra></extra>",
         "legendgroup": "",
         "marker": {
          "color": "rgb(102,194,165)",
          "pattern": {
           "shape": ""
          }
         },
         "name": "",
         "offsetgroup": "",
         "orientation": "h",
         "showlegend": false,
         "text": [
          106,
          131,
          134,
          146,
          208,
          283,
          289,
          302,
          337,
          389
         ],
         "textposition": "auto",
         "type": "bar",
         "x": [
          106,
          131,
          134,
          146,
          208,
          283,
          289,
          302,
          337,
          389
         ],
         "xaxis": "x",
         "y": [
          "Trolleys and Bags",
          "Artificial Flowers and Imitations",
          "For Celebrations",
          "Textiles",
          "Houseplants",
          "Flower Seedlings and Seeds",
          "Laundry and Ironing",
          "Kitchen",
          "Vegetable and Berry Seedlings",
          "Household Goods and Cleaning Supplies"
         ],
         "yaxis": "y"
        }
       ],
       "layout": {
        "barmode": "relative",
        "height": 400,
        "legend": {
         "tracegroupgap": 0
        },
        "margin": {
         "t": 60
        },
        "template": {
         "data": {
          "bar": [
           {
            "error_x": {
             "color": "rgb(36,36,36)"
            },
            "error_y": {
             "color": "rgb(36,36,36)"
            },
            "marker": {
             "line": {
              "color": "white",
              "width": 0.5
             },
             "pattern": {
              "fillmode": "overlay",
              "size": 10,
              "solidity": 0.2
             }
            },
            "type": "bar"
           }
          ],
          "barpolar": [
           {
            "marker": {
             "line": {
              "color": "white",
              "width": 0.5
             },
             "pattern": {
              "fillmode": "overlay",
              "size": 10,
              "solidity": 0.2
             }
            },
            "type": "barpolar"
           }
          ],
          "carpet": [
           {
            "aaxis": {
             "endlinecolor": "rgb(36,36,36)",
             "gridcolor": "white",
             "linecolor": "white",
             "minorgridcolor": "white",
             "startlinecolor": "rgb(36,36,36)"
            },
            "baxis": {
             "endlinecolor": "rgb(36,36,36)",
             "gridcolor": "white",
             "linecolor": "white",
             "minorgridcolor": "white",
             "startlinecolor": "rgb(36,36,36)"
            },
            "type": "carpet"
           }
          ],
          "choropleth": [
           {
            "colorbar": {
             "outlinewidth": 1,
             "tickcolor": "rgb(36,36,36)",
             "ticks": "outside"
            },
            "type": "choropleth"
           }
          ],
          "contour": [
           {
            "colorbar": {
             "outlinewidth": 1,
             "tickcolor": "rgb(36,36,36)",
             "ticks": "outside"
            },
            "colorscale": [
             [
              0,
              "#440154"
             ],
             [
              0.1111111111111111,
              "#482878"
             ],
             [
              0.2222222222222222,
              "#3e4989"
             ],
             [
              0.3333333333333333,
              "#31688e"
             ],
             [
              0.4444444444444444,
              "#26828e"
             ],
             [
              0.5555555555555556,
              "#1f9e89"
             ],
             [
              0.6666666666666666,
              "#35b779"
             ],
             [
              0.7777777777777778,
              "#6ece58"
             ],
             [
              0.8888888888888888,
              "#b5de2b"
             ],
             [
              1,
              "#fde725"
             ]
            ],
            "type": "contour"
           }
          ],
          "contourcarpet": [
           {
            "colorbar": {
             "outlinewidth": 1,
             "tickcolor": "rgb(36,36,36)",
             "ticks": "outside"
            },
            "type": "contourcarpet"
           }
          ],
          "heatmap": [
           {
            "colorbar": {
             "outlinewidth": 1,
             "tickcolor": "rgb(36,36,36)",
             "ticks": "outside"
            },
            "colorscale": [
             [
              0,
              "#440154"
             ],
             [
              0.1111111111111111,
              "#482878"
             ],
             [
              0.2222222222222222,
              "#3e4989"
             ],
             [
              0.3333333333333333,
              "#31688e"
             ],
             [
              0.4444444444444444,
              "#26828e"
             ],
             [
              0.5555555555555556,
              "#1f9e89"
             ],
             [
              0.6666666666666666,
              "#35b779"
             ],
             [
              0.7777777777777778,
              "#6ece58"
             ],
             [
              0.8888888888888888,
              "#b5de2b"
             ],
             [
              1,
              "#fde725"
             ]
            ],
            "type": "heatmap"
           }
          ],
          "heatmapgl": [
           {
            "colorbar": {
             "outlinewidth": 1,
             "tickcolor": "rgb(36,36,36)",
             "ticks": "outside"
            },
            "colorscale": [
             [
              0,
              "#440154"
             ],
             [
              0.1111111111111111,
              "#482878"
             ],
             [
              0.2222222222222222,
              "#3e4989"
             ],
             [
              0.3333333333333333,
              "#31688e"
             ],
             [
              0.4444444444444444,
              "#26828e"
             ],
             [
              0.5555555555555556,
              "#1f9e89"
             ],
             [
              0.6666666666666666,
              "#35b779"
             ],
             [
              0.7777777777777778,
              "#6ece58"
             ],
             [
              0.8888888888888888,
              "#b5de2b"
             ],
             [
              1,
              "#fde725"
             ]
            ],
            "type": "heatmapgl"
           }
          ],
          "histogram": [
           {
            "marker": {
             "line": {
              "color": "white",
              "width": 0.6
             }
            },
            "type": "histogram"
           }
          ],
          "histogram2d": [
           {
            "colorbar": {
             "outlinewidth": 1,
             "tickcolor": "rgb(36,36,36)",
             "ticks": "outside"
            },
            "colorscale": [
             [
              0,
              "#440154"
             ],
             [
              0.1111111111111111,
              "#482878"
             ],
             [
              0.2222222222222222,
              "#3e4989"
             ],
             [
              0.3333333333333333,
              "#31688e"
             ],
             [
              0.4444444444444444,
              "#26828e"
             ],
             [
              0.5555555555555556,
              "#1f9e89"
             ],
             [
              0.6666666666666666,
              "#35b779"
             ],
             [
              0.7777777777777778,
              "#6ece58"
             ],
             [
              0.8888888888888888,
              "#b5de2b"
             ],
             [
              1,
              "#fde725"
             ]
            ],
            "type": "histogram2d"
           }
          ],
          "histogram2dcontour": [
           {
            "colorbar": {
             "outlinewidth": 1,
             "tickcolor": "rgb(36,36,36)",
             "ticks": "outside"
            },
            "colorscale": [
             [
              0,
              "#440154"
             ],
             [
              0.1111111111111111,
              "#482878"
             ],
             [
              0.2222222222222222,
              "#3e4989"
             ],
             [
              0.3333333333333333,
              "#31688e"
             ],
             [
              0.4444444444444444,
              "#26828e"
             ],
             [
              0.5555555555555556,
              "#1f9e89"
             ],
             [
              0.6666666666666666,
              "#35b779"
             ],
             [
              0.7777777777777778,
              "#6ece58"
             ],
             [
              0.8888888888888888,
              "#b5de2b"
             ],
             [
              1,
              "#fde725"
             ]
            ],
            "type": "histogram2dcontour"
           }
          ],
          "mesh3d": [
           {
            "colorbar": {
             "outlinewidth": 1,
             "tickcolor": "rgb(36,36,36)",
             "ticks": "outside"
            },
            "type": "mesh3d"
           }
          ],
          "parcoords": [
           {
            "line": {
             "colorbar": {
              "outlinewidth": 1,
              "tickcolor": "rgb(36,36,36)",
              "ticks": "outside"
             }
            },
            "type": "parcoords"
           }
          ],
          "pie": [
           {
            "automargin": true,
            "type": "pie"
           }
          ],
          "scatter": [
           {
            "marker": {
             "colorbar": {
              "outlinewidth": 1,
              "tickcolor": "rgb(36,36,36)",
              "ticks": "outside"
             }
            },
            "type": "scatter"
           }
          ],
          "scatter3d": [
           {
            "line": {
             "colorbar": {
              "outlinewidth": 1,
              "tickcolor": "rgb(36,36,36)",
              "ticks": "outside"
             }
            },
            "marker": {
             "colorbar": {
              "outlinewidth": 1,
              "tickcolor": "rgb(36,36,36)",
              "ticks": "outside"
             }
            },
            "type": "scatter3d"
           }
          ],
          "scattercarpet": [
           {
            "marker": {
             "colorbar": {
              "outlinewidth": 1,
              "tickcolor": "rgb(36,36,36)",
              "ticks": "outside"
             }
            },
            "type": "scattercarpet"
           }
          ],
          "scattergeo": [
           {
            "marker": {
             "colorbar": {
              "outlinewidth": 1,
              "tickcolor": "rgb(36,36,36)",
              "ticks": "outside"
             }
            },
            "type": "scattergeo"
           }
          ],
          "scattergl": [
           {
            "marker": {
             "colorbar": {
              "outlinewidth": 1,
              "tickcolor": "rgb(36,36,36)",
              "ticks": "outside"
             }
            },
            "type": "scattergl"
           }
          ],
          "scattermapbox": [
           {
            "marker": {
             "colorbar": {
              "outlinewidth": 1,
              "tickcolor": "rgb(36,36,36)",
              "ticks": "outside"
             }
            },
            "type": "scattermapbox"
           }
          ],
          "scatterpolar": [
           {
            "marker": {
             "colorbar": {
              "outlinewidth": 1,
              "tickcolor": "rgb(36,36,36)",
              "ticks": "outside"
             }
            },
            "type": "scatterpolar"
           }
          ],
          "scatterpolargl": [
           {
            "marker": {
             "colorbar": {
              "outlinewidth": 1,
              "tickcolor": "rgb(36,36,36)",
              "ticks": "outside"
             }
            },
            "type": "scatterpolargl"
           }
          ],
          "scatterternary": [
           {
            "marker": {
             "colorbar": {
              "outlinewidth": 1,
              "tickcolor": "rgb(36,36,36)",
              "ticks": "outside"
             }
            },
            "type": "scatterternary"
           }
          ],
          "surface": [
           {
            "colorbar": {
             "outlinewidth": 1,
             "tickcolor": "rgb(36,36,36)",
             "ticks": "outside"
            },
            "colorscale": [
             [
              0,
              "#440154"
             ],
             [
              0.1111111111111111,
              "#482878"
             ],
             [
              0.2222222222222222,
              "#3e4989"
             ],
             [
              0.3333333333333333,
              "#31688e"
             ],
             [
              0.4444444444444444,
              "#26828e"
             ],
             [
              0.5555555555555556,
              "#1f9e89"
             ],
             [
              0.6666666666666666,
              "#35b779"
             ],
             [
              0.7777777777777778,
              "#6ece58"
             ],
             [
              0.8888888888888888,
              "#b5de2b"
             ],
             [
              1,
              "#fde725"
             ]
            ],
            "type": "surface"
           }
          ],
          "table": [
           {
            "cells": {
             "fill": {
              "color": "rgb(237,237,237)"
             },
             "line": {
              "color": "white"
             }
            },
            "header": {
             "fill": {
              "color": "rgb(217,217,217)"
             },
             "line": {
              "color": "white"
             }
            },
            "type": "table"
           }
          ]
         },
         "layout": {
          "annotationdefaults": {
           "arrowhead": 0,
           "arrowwidth": 1
          },
          "autotypenumbers": "strict",
          "coloraxis": {
           "colorbar": {
            "outlinewidth": 1,
            "tickcolor": "rgb(36,36,36)",
            "ticks": "outside"
           }
          },
          "colorscale": {
           "diverging": [
            [
             0,
             "rgb(103,0,31)"
            ],
            [
             0.1,
             "rgb(178,24,43)"
            ],
            [
             0.2,
             "rgb(214,96,77)"
            ],
            [
             0.3,
             "rgb(244,165,130)"
            ],
            [
             0.4,
             "rgb(253,219,199)"
            ],
            [
             0.5,
             "rgb(247,247,247)"
            ],
            [
             0.6,
             "rgb(209,229,240)"
            ],
            [
             0.7,
             "rgb(146,197,222)"
            ],
            [
             0.8,
             "rgb(67,147,195)"
            ],
            [
             0.9,
             "rgb(33,102,172)"
            ],
            [
             1,
             "rgb(5,48,97)"
            ]
           ],
           "sequential": [
            [
             0,
             "#440154"
            ],
            [
             0.1111111111111111,
             "#482878"
            ],
            [
             0.2222222222222222,
             "#3e4989"
            ],
            [
             0.3333333333333333,
             "#31688e"
            ],
            [
             0.4444444444444444,
             "#26828e"
            ],
            [
             0.5555555555555556,
             "#1f9e89"
            ],
            [
             0.6666666666666666,
             "#35b779"
            ],
            [
             0.7777777777777778,
             "#6ece58"
            ],
            [
             0.8888888888888888,
             "#b5de2b"
            ],
            [
             1,
             "#fde725"
            ]
           ],
           "sequentialminus": [
            [
             0,
             "#440154"
            ],
            [
             0.1111111111111111,
             "#482878"
            ],
            [
             0.2222222222222222,
             "#3e4989"
            ],
            [
             0.3333333333333333,
             "#31688e"
            ],
            [
             0.4444444444444444,
             "#26828e"
            ],
            [
             0.5555555555555556,
             "#1f9e89"
            ],
            [
             0.6666666666666666,
             "#35b779"
            ],
            [
             0.7777777777777778,
             "#6ece58"
            ],
            [
             0.8888888888888888,
             "#b5de2b"
            ],
            [
             1,
             "#fde725"
            ]
           ]
          },
          "colorway": [
           "#1F77B4",
           "#FF7F0E",
           "#2CA02C",
           "#D62728",
           "#9467BD",
           "#8C564B",
           "#E377C2",
           "#7F7F7F",
           "#BCBD22",
           "#17BECF"
          ],
          "font": {
           "color": "rgb(36,36,36)"
          },
          "geo": {
           "bgcolor": "white",
           "lakecolor": "white",
           "landcolor": "white",
           "showlakes": true,
           "showland": true,
           "subunitcolor": "white"
          },
          "hoverlabel": {
           "align": "left"
          },
          "hovermode": "closest",
          "mapbox": {
           "style": "light"
          },
          "paper_bgcolor": "white",
          "plot_bgcolor": "white",
          "polar": {
           "angularaxis": {
            "gridcolor": "rgb(232,232,232)",
            "linecolor": "rgb(36,36,36)",
            "showgrid": false,
            "showline": true,
            "ticks": "outside"
           },
           "bgcolor": "white",
           "radialaxis": {
            "gridcolor": "rgb(232,232,232)",
            "linecolor": "rgb(36,36,36)",
            "showgrid": false,
            "showline": true,
            "ticks": "outside"
           }
          },
          "scene": {
           "xaxis": {
            "backgroundcolor": "white",
            "gridcolor": "rgb(232,232,232)",
            "gridwidth": 2,
            "linecolor": "rgb(36,36,36)",
            "showbackground": true,
            "showgrid": false,
            "showline": true,
            "ticks": "outside",
            "zeroline": false,
            "zerolinecolor": "rgb(36,36,36)"
           },
           "yaxis": {
            "backgroundcolor": "white",
            "gridcolor": "rgb(232,232,232)",
            "gridwidth": 2,
            "linecolor": "rgb(36,36,36)",
            "showbackground": true,
            "showgrid": false,
            "showline": true,
            "ticks": "outside",
            "zeroline": false,
            "zerolinecolor": "rgb(36,36,36)"
           },
           "zaxis": {
            "backgroundcolor": "white",
            "gridcolor": "rgb(232,232,232)",
            "gridwidth": 2,
            "linecolor": "rgb(36,36,36)",
            "showbackground": true,
            "showgrid": false,
            "showline": true,
            "ticks": "outside",
            "zeroline": false,
            "zerolinecolor": "rgb(36,36,36)"
           }
          },
          "shapedefaults": {
           "fillcolor": "black",
           "line": {
            "width": 0
           },
           "opacity": 0.3
          },
          "ternary": {
           "aaxis": {
            "gridcolor": "rgb(232,232,232)",
            "linecolor": "rgb(36,36,36)",
            "showgrid": false,
            "showline": true,
            "ticks": "outside"
           },
           "baxis": {
            "gridcolor": "rgb(232,232,232)",
            "linecolor": "rgb(36,36,36)",
            "showgrid": false,
            "showline": true,
            "ticks": "outside"
           },
           "bgcolor": "white",
           "caxis": {
            "gridcolor": "rgb(232,232,232)",
            "linecolor": "rgb(36,36,36)",
            "showgrid": false,
            "showline": true,
            "ticks": "outside"
           }
          },
          "title": {
           "x": 0.05
          },
          "xaxis": {
           "automargin": true,
           "gridcolor": "rgb(232,232,232)",
           "linecolor": "rgb(36,36,36)",
           "showgrid": false,
           "showline": true,
           "ticks": "outside",
           "title": {
            "standoff": 15
           },
           "zeroline": false,
           "zerolinecolor": "rgb(36,36,36)"
          },
          "yaxis": {
           "automargin": true,
           "gridcolor": "rgb(232,232,232)",
           "linecolor": "rgb(36,36,36)",
           "showgrid": false,
           "showline": true,
           "ticks": "outside",
           "title": {
            "standoff": 15
           },
           "zeroline": false,
           "zerolinecolor": "rgb(36,36,36)"
          }
         }
        },
        "title": {
         "text": "Distribution of Products by Category"
        },
        "width": 650,
        "xaxis": {
         "anchor": "y",
         "domain": [
          0,
          1
         ],
         "title": {
          "text": "Number of Products in Category"
         }
        },
        "yaxis": {
         "anchor": "x",
         "domain": [
          0,
          1
         ],
         "title": {
          "text": "Product Category"
         }
        }
       }
      },
      "text/html": [
       "<div>                            <div id=\"bc38e75a-437e-4bed-b210-7beb9672c1e5\" class=\"plotly-graph-div\" style=\"height:400px; width:650px;\"></div>            <script type=\"text/javascript\">                require([\"plotly\"], function(Plotly) {                    window.PLOTLYENV=window.PLOTLYENV || {};                                    if (document.getElementById(\"bc38e75a-437e-4bed-b210-7beb9672c1e5\")) {                    Plotly.newPlot(                        \"bc38e75a-437e-4bed-b210-7beb9672c1e5\",                        [{\"alignmentgroup\":\"True\",\"hovertemplate\":\"num_products=%{text}<br>category=%{y}<extra></extra>\",\"legendgroup\":\"\",\"marker\":{\"color\":\"rgb(102,194,165)\",\"pattern\":{\"shape\":\"\"}},\"name\":\"\",\"offsetgroup\":\"\",\"orientation\":\"h\",\"showlegend\":false,\"text\":[106.0,131.0,134.0,146.0,208.0,283.0,289.0,302.0,337.0,389.0],\"textposition\":\"auto\",\"x\":[106,131,134,146,208,283,289,302,337,389],\"xaxis\":\"x\",\"y\":[\"Trolleys and Bags\",\"Artificial Flowers and Imitations\",\"For Celebrations\",\"Textiles\",\"Houseplants\",\"Flower Seedlings and Seeds\",\"Laundry and Ironing\",\"Kitchen\",\"Vegetable and Berry Seedlings\",\"Household Goods and Cleaning Supplies\"],\"yaxis\":\"y\",\"type\":\"bar\"}],                        {\"template\":{\"data\":{\"barpolar\":[{\"marker\":{\"line\":{\"color\":\"white\",\"width\":0.5},\"pattern\":{\"fillmode\":\"overlay\",\"size\":10,\"solidity\":0.2}},\"type\":\"barpolar\"}],\"bar\":[{\"error_x\":{\"color\":\"rgb(36,36,36)\"},\"error_y\":{\"color\":\"rgb(36,36,36)\"},\"marker\":{\"line\":{\"color\":\"white\",\"width\":0.5},\"pattern\":{\"fillmode\":\"overlay\",\"size\":10,\"solidity\":0.2}},\"type\":\"bar\"}],\"carpet\":[{\"aaxis\":{\"endlinecolor\":\"rgb(36,36,36)\",\"gridcolor\":\"white\",\"linecolor\":\"white\",\"minorgridcolor\":\"white\",\"startlinecolor\":\"rgb(36,36,36)\"},\"baxis\":{\"endlinecolor\":\"rgb(36,36,36)\",\"gridcolor\":\"white\",\"linecolor\":\"white\",\"minorgridcolor\":\"white\",\"startlinecolor\":\"rgb(36,36,36)\"},\"type\":\"carpet\"}],\"choropleth\":[{\"colorbar\":{\"outlinewidth\":1,\"tickcolor\":\"rgb(36,36,36)\",\"ticks\":\"outside\"},\"type\":\"choropleth\"}],\"contourcarpet\":[{\"colorbar\":{\"outlinewidth\":1,\"tickcolor\":\"rgb(36,36,36)\",\"ticks\":\"outside\"},\"type\":\"contourcarpet\"}],\"contour\":[{\"colorbar\":{\"outlinewidth\":1,\"tickcolor\":\"rgb(36,36,36)\",\"ticks\":\"outside\"},\"colorscale\":[[0.0,\"#440154\"],[0.1111111111111111,\"#482878\"],[0.2222222222222222,\"#3e4989\"],[0.3333333333333333,\"#31688e\"],[0.4444444444444444,\"#26828e\"],[0.5555555555555556,\"#1f9e89\"],[0.6666666666666666,\"#35b779\"],[0.7777777777777778,\"#6ece58\"],[0.8888888888888888,\"#b5de2b\"],[1.0,\"#fde725\"]],\"type\":\"contour\"}],\"heatmapgl\":[{\"colorbar\":{\"outlinewidth\":1,\"tickcolor\":\"rgb(36,36,36)\",\"ticks\":\"outside\"},\"colorscale\":[[0.0,\"#440154\"],[0.1111111111111111,\"#482878\"],[0.2222222222222222,\"#3e4989\"],[0.3333333333333333,\"#31688e\"],[0.4444444444444444,\"#26828e\"],[0.5555555555555556,\"#1f9e89\"],[0.6666666666666666,\"#35b779\"],[0.7777777777777778,\"#6ece58\"],[0.8888888888888888,\"#b5de2b\"],[1.0,\"#fde725\"]],\"type\":\"heatmapgl\"}],\"heatmap\":[{\"colorbar\":{\"outlinewidth\":1,\"tickcolor\":\"rgb(36,36,36)\",\"ticks\":\"outside\"},\"colorscale\":[[0.0,\"#440154\"],[0.1111111111111111,\"#482878\"],[0.2222222222222222,\"#3e4989\"],[0.3333333333333333,\"#31688e\"],[0.4444444444444444,\"#26828e\"],[0.5555555555555556,\"#1f9e89\"],[0.6666666666666666,\"#35b779\"],[0.7777777777777778,\"#6ece58\"],[0.8888888888888888,\"#b5de2b\"],[1.0,\"#fde725\"]],\"type\":\"heatmap\"}],\"histogram2dcontour\":[{\"colorbar\":{\"outlinewidth\":1,\"tickcolor\":\"rgb(36,36,36)\",\"ticks\":\"outside\"},\"colorscale\":[[0.0,\"#440154\"],[0.1111111111111111,\"#482878\"],[0.2222222222222222,\"#3e4989\"],[0.3333333333333333,\"#31688e\"],[0.4444444444444444,\"#26828e\"],[0.5555555555555556,\"#1f9e89\"],[0.6666666666666666,\"#35b779\"],[0.7777777777777778,\"#6ece58\"],[0.8888888888888888,\"#b5de2b\"],[1.0,\"#fde725\"]],\"type\":\"histogram2dcontour\"}],\"histogram2d\":[{\"colorbar\":{\"outlinewidth\":1,\"tickcolor\":\"rgb(36,36,36)\",\"ticks\":\"outside\"},\"colorscale\":[[0.0,\"#440154\"],[0.1111111111111111,\"#482878\"],[0.2222222222222222,\"#3e4989\"],[0.3333333333333333,\"#31688e\"],[0.4444444444444444,\"#26828e\"],[0.5555555555555556,\"#1f9e89\"],[0.6666666666666666,\"#35b779\"],[0.7777777777777778,\"#6ece58\"],[0.8888888888888888,\"#b5de2b\"],[1.0,\"#fde725\"]],\"type\":\"histogram2d\"}],\"histogram\":[{\"marker\":{\"line\":{\"color\":\"white\",\"width\":0.6}},\"type\":\"histogram\"}],\"mesh3d\":[{\"colorbar\":{\"outlinewidth\":1,\"tickcolor\":\"rgb(36,36,36)\",\"ticks\":\"outside\"},\"type\":\"mesh3d\"}],\"parcoords\":[{\"line\":{\"colorbar\":{\"outlinewidth\":1,\"tickcolor\":\"rgb(36,36,36)\",\"ticks\":\"outside\"}},\"type\":\"parcoords\"}],\"pie\":[{\"automargin\":true,\"type\":\"pie\"}],\"scatter3d\":[{\"line\":{\"colorbar\":{\"outlinewidth\":1,\"tickcolor\":\"rgb(36,36,36)\",\"ticks\":\"outside\"}},\"marker\":{\"colorbar\":{\"outlinewidth\":1,\"tickcolor\":\"rgb(36,36,36)\",\"ticks\":\"outside\"}},\"type\":\"scatter3d\"}],\"scattercarpet\":[{\"marker\":{\"colorbar\":{\"outlinewidth\":1,\"tickcolor\":\"rgb(36,36,36)\",\"ticks\":\"outside\"}},\"type\":\"scattercarpet\"}],\"scattergeo\":[{\"marker\":{\"colorbar\":{\"outlinewidth\":1,\"tickcolor\":\"rgb(36,36,36)\",\"ticks\":\"outside\"}},\"type\":\"scattergeo\"}],\"scattergl\":[{\"marker\":{\"colorbar\":{\"outlinewidth\":1,\"tickcolor\":\"rgb(36,36,36)\",\"ticks\":\"outside\"}},\"type\":\"scattergl\"}],\"scattermapbox\":[{\"marker\":{\"colorbar\":{\"outlinewidth\":1,\"tickcolor\":\"rgb(36,36,36)\",\"ticks\":\"outside\"}},\"type\":\"scattermapbox\"}],\"scatterpolargl\":[{\"marker\":{\"colorbar\":{\"outlinewidth\":1,\"tickcolor\":\"rgb(36,36,36)\",\"ticks\":\"outside\"}},\"type\":\"scatterpolargl\"}],\"scatterpolar\":[{\"marker\":{\"colorbar\":{\"outlinewidth\":1,\"tickcolor\":\"rgb(36,36,36)\",\"ticks\":\"outside\"}},\"type\":\"scatterpolar\"}],\"scatter\":[{\"marker\":{\"colorbar\":{\"outlinewidth\":1,\"tickcolor\":\"rgb(36,36,36)\",\"ticks\":\"outside\"}},\"type\":\"scatter\"}],\"scatterternary\":[{\"marker\":{\"colorbar\":{\"outlinewidth\":1,\"tickcolor\":\"rgb(36,36,36)\",\"ticks\":\"outside\"}},\"type\":\"scatterternary\"}],\"surface\":[{\"colorbar\":{\"outlinewidth\":1,\"tickcolor\":\"rgb(36,36,36)\",\"ticks\":\"outside\"},\"colorscale\":[[0.0,\"#440154\"],[0.1111111111111111,\"#482878\"],[0.2222222222222222,\"#3e4989\"],[0.3333333333333333,\"#31688e\"],[0.4444444444444444,\"#26828e\"],[0.5555555555555556,\"#1f9e89\"],[0.6666666666666666,\"#35b779\"],[0.7777777777777778,\"#6ece58\"],[0.8888888888888888,\"#b5de2b\"],[1.0,\"#fde725\"]],\"type\":\"surface\"}],\"table\":[{\"cells\":{\"fill\":{\"color\":\"rgb(237,237,237)\"},\"line\":{\"color\":\"white\"}},\"header\":{\"fill\":{\"color\":\"rgb(217,217,217)\"},\"line\":{\"color\":\"white\"}},\"type\":\"table\"}]},\"layout\":{\"annotationdefaults\":{\"arrowhead\":0,\"arrowwidth\":1},\"autotypenumbers\":\"strict\",\"coloraxis\":{\"colorbar\":{\"outlinewidth\":1,\"tickcolor\":\"rgb(36,36,36)\",\"ticks\":\"outside\"}},\"colorscale\":{\"diverging\":[[0.0,\"rgb(103,0,31)\"],[0.1,\"rgb(178,24,43)\"],[0.2,\"rgb(214,96,77)\"],[0.3,\"rgb(244,165,130)\"],[0.4,\"rgb(253,219,199)\"],[0.5,\"rgb(247,247,247)\"],[0.6,\"rgb(209,229,240)\"],[0.7,\"rgb(146,197,222)\"],[0.8,\"rgb(67,147,195)\"],[0.9,\"rgb(33,102,172)\"],[1.0,\"rgb(5,48,97)\"]],\"sequential\":[[0.0,\"#440154\"],[0.1111111111111111,\"#482878\"],[0.2222222222222222,\"#3e4989\"],[0.3333333333333333,\"#31688e\"],[0.4444444444444444,\"#26828e\"],[0.5555555555555556,\"#1f9e89\"],[0.6666666666666666,\"#35b779\"],[0.7777777777777778,\"#6ece58\"],[0.8888888888888888,\"#b5de2b\"],[1.0,\"#fde725\"]],\"sequentialminus\":[[0.0,\"#440154\"],[0.1111111111111111,\"#482878\"],[0.2222222222222222,\"#3e4989\"],[0.3333333333333333,\"#31688e\"],[0.4444444444444444,\"#26828e\"],[0.5555555555555556,\"#1f9e89\"],[0.6666666666666666,\"#35b779\"],[0.7777777777777778,\"#6ece58\"],[0.8888888888888888,\"#b5de2b\"],[1.0,\"#fde725\"]]},\"colorway\":[\"#1F77B4\",\"#FF7F0E\",\"#2CA02C\",\"#D62728\",\"#9467BD\",\"#8C564B\",\"#E377C2\",\"#7F7F7F\",\"#BCBD22\",\"#17BECF\"],\"font\":{\"color\":\"rgb(36,36,36)\"},\"geo\":{\"bgcolor\":\"white\",\"lakecolor\":\"white\",\"landcolor\":\"white\",\"showlakes\":true,\"showland\":true,\"subunitcolor\":\"white\"},\"hoverlabel\":{\"align\":\"left\"},\"hovermode\":\"closest\",\"mapbox\":{\"style\":\"light\"},\"paper_bgcolor\":\"white\",\"plot_bgcolor\":\"white\",\"polar\":{\"angularaxis\":{\"gridcolor\":\"rgb(232,232,232)\",\"linecolor\":\"rgb(36,36,36)\",\"showgrid\":false,\"showline\":true,\"ticks\":\"outside\"},\"bgcolor\":\"white\",\"radialaxis\":{\"gridcolor\":\"rgb(232,232,232)\",\"linecolor\":\"rgb(36,36,36)\",\"showgrid\":false,\"showline\":true,\"ticks\":\"outside\"}},\"scene\":{\"xaxis\":{\"backgroundcolor\":\"white\",\"gridcolor\":\"rgb(232,232,232)\",\"gridwidth\":2,\"linecolor\":\"rgb(36,36,36)\",\"showbackground\":true,\"showgrid\":false,\"showline\":true,\"ticks\":\"outside\",\"zeroline\":false,\"zerolinecolor\":\"rgb(36,36,36)\"},\"yaxis\":{\"backgroundcolor\":\"white\",\"gridcolor\":\"rgb(232,232,232)\",\"gridwidth\":2,\"linecolor\":\"rgb(36,36,36)\",\"showbackground\":true,\"showgrid\":false,\"showline\":true,\"ticks\":\"outside\",\"zeroline\":false,\"zerolinecolor\":\"rgb(36,36,36)\"},\"zaxis\":{\"backgroundcolor\":\"white\",\"gridcolor\":\"rgb(232,232,232)\",\"gridwidth\":2,\"linecolor\":\"rgb(36,36,36)\",\"showbackground\":true,\"showgrid\":false,\"showline\":true,\"ticks\":\"outside\",\"zeroline\":false,\"zerolinecolor\":\"rgb(36,36,36)\"}},\"shapedefaults\":{\"fillcolor\":\"black\",\"line\":{\"width\":0},\"opacity\":0.3},\"ternary\":{\"aaxis\":{\"gridcolor\":\"rgb(232,232,232)\",\"linecolor\":\"rgb(36,36,36)\",\"showgrid\":false,\"showline\":true,\"ticks\":\"outside\"},\"baxis\":{\"gridcolor\":\"rgb(232,232,232)\",\"linecolor\":\"rgb(36,36,36)\",\"showgrid\":false,\"showline\":true,\"ticks\":\"outside\"},\"bgcolor\":\"white\",\"caxis\":{\"gridcolor\":\"rgb(232,232,232)\",\"linecolor\":\"rgb(36,36,36)\",\"showgrid\":false,\"showline\":true,\"ticks\":\"outside\"}},\"title\":{\"x\":0.05},\"xaxis\":{\"automargin\":true,\"gridcolor\":\"rgb(232,232,232)\",\"linecolor\":\"rgb(36,36,36)\",\"showgrid\":false,\"showline\":true,\"ticks\":\"outside\",\"title\":{\"standoff\":15},\"zeroline\":false,\"zerolinecolor\":\"rgb(36,36,36)\"},\"yaxis\":{\"automargin\":true,\"gridcolor\":\"rgb(232,232,232)\",\"linecolor\":\"rgb(36,36,36)\",\"showgrid\":false,\"showline\":true,\"ticks\":\"outside\",\"title\":{\"standoff\":15},\"zeroline\":false,\"zerolinecolor\":\"rgb(36,36,36)\"}}},\"xaxis\":{\"anchor\":\"y\",\"domain\":[0.0,1.0],\"title\":{\"text\":\"Number of Products in Category\"}},\"yaxis\":{\"anchor\":\"x\",\"domain\":[0.0,1.0],\"title\":{\"text\":\"Product Category\"}},\"legend\":{\"tracegroupgap\":0},\"margin\":{\"t\":60},\"barmode\":\"relative\",\"title\":{\"text\":\"Distribution of Products by Category\"},\"width\":650,\"height\":400},                        {\"responsive\": true}                    ).then(function(){\n",
       "                            \n",
       "var gd = document.getElementById('bc38e75a-437e-4bed-b210-7beb9672c1e5');\n",
       "var x = new MutationObserver(function (mutations, observer) {{\n",
       "        var display = window.getComputedStyle(gd).display;\n",
       "        if (!display || display === 'none') {{\n",
       "            console.log([gd, 'removed!']);\n",
       "            Plotly.purge(gd);\n",
       "            observer.disconnect();\n",
       "        }}\n",
       "}});\n",
       "\n",
       "// Listen for the removal of the full notebook cells\n",
       "var notebookContainer = gd.closest('#notebook-container');\n",
       "if (notebookContainer) {{\n",
       "    x.observe(notebookContainer, {childList: true});\n",
       "}}\n",
       "\n",
       "// Listen for the clearing of the current output cell\n",
       "var outputEl = gd.closest('.output');\n",
       "if (outputEl) {{\n",
       "    x.observe(outputEl, {childList: true});\n",
       "}}\n",
       "\n",
       "                        })                };                });            </script>        </div>"
      ]
     },
     "metadata": {},
     "output_type": "display_data"
    },
    {
     "data": {
      "application/vnd.plotly.v1+json": {
       "config": {
        "plotlyServerURL": "https://plot.ly"
       },
       "data": [
        {
         "alignmentgroup": "True",
         "hovertemplate": "num_orders=%{text}<br>category=%{y}<extra></extra>",
         "legendgroup": "",
         "marker": {
          "color": "rgb(102,194,165)",
          "pattern": {
           "shape": ""
          }
         },
         "name": "",
         "offsetgroup": "",
         "orientation": "h",
         "showlegend": false,
         "text": [
          206,
          214,
          233,
          249,
          283,
          377,
          397,
          525,
          602,
          621
         ],
         "textposition": "auto",
         "type": "bar",
         "x": [
          206,
          214,
          233,
          249,
          283,
          377,
          397,
          525,
          602,
          621
         ],
         "xaxis": "x",
         "y": [
          "For Celebrations",
          "Textiles",
          "Artificial Flowers and Imitations",
          "Vegetable and Berry Seedlings",
          "Flower Seedlings and Seeds",
          "Trolleys and Bags",
          "Kitchen",
          "Houseplants",
          "Household Goods and Cleaning Supplies",
          "Laundry and Ironing"
         ],
         "yaxis": "y"
        }
       ],
       "layout": {
        "barmode": "relative",
        "height": 400,
        "legend": {
         "tracegroupgap": 0
        },
        "margin": {
         "t": 60
        },
        "template": {
         "data": {
          "bar": [
           {
            "error_x": {
             "color": "rgb(36,36,36)"
            },
            "error_y": {
             "color": "rgb(36,36,36)"
            },
            "marker": {
             "line": {
              "color": "white",
              "width": 0.5
             },
             "pattern": {
              "fillmode": "overlay",
              "size": 10,
              "solidity": 0.2
             }
            },
            "type": "bar"
           }
          ],
          "barpolar": [
           {
            "marker": {
             "line": {
              "color": "white",
              "width": 0.5
             },
             "pattern": {
              "fillmode": "overlay",
              "size": 10,
              "solidity": 0.2
             }
            },
            "type": "barpolar"
           }
          ],
          "carpet": [
           {
            "aaxis": {
             "endlinecolor": "rgb(36,36,36)",
             "gridcolor": "white",
             "linecolor": "white",
             "minorgridcolor": "white",
             "startlinecolor": "rgb(36,36,36)"
            },
            "baxis": {
             "endlinecolor": "rgb(36,36,36)",
             "gridcolor": "white",
             "linecolor": "white",
             "minorgridcolor": "white",
             "startlinecolor": "rgb(36,36,36)"
            },
            "type": "carpet"
           }
          ],
          "choropleth": [
           {
            "colorbar": {
             "outlinewidth": 1,
             "tickcolor": "rgb(36,36,36)",
             "ticks": "outside"
            },
            "type": "choropleth"
           }
          ],
          "contour": [
           {
            "colorbar": {
             "outlinewidth": 1,
             "tickcolor": "rgb(36,36,36)",
             "ticks": "outside"
            },
            "colorscale": [
             [
              0,
              "#440154"
             ],
             [
              0.1111111111111111,
              "#482878"
             ],
             [
              0.2222222222222222,
              "#3e4989"
             ],
             [
              0.3333333333333333,
              "#31688e"
             ],
             [
              0.4444444444444444,
              "#26828e"
             ],
             [
              0.5555555555555556,
              "#1f9e89"
             ],
             [
              0.6666666666666666,
              "#35b779"
             ],
             [
              0.7777777777777778,
              "#6ece58"
             ],
             [
              0.8888888888888888,
              "#b5de2b"
             ],
             [
              1,
              "#fde725"
             ]
            ],
            "type": "contour"
           }
          ],
          "contourcarpet": [
           {
            "colorbar": {
             "outlinewidth": 1,
             "tickcolor": "rgb(36,36,36)",
             "ticks": "outside"
            },
            "type": "contourcarpet"
           }
          ],
          "heatmap": [
           {
            "colorbar": {
             "outlinewidth": 1,
             "tickcolor": "rgb(36,36,36)",
             "ticks": "outside"
            },
            "colorscale": [
             [
              0,
              "#440154"
             ],
             [
              0.1111111111111111,
              "#482878"
             ],
             [
              0.2222222222222222,
              "#3e4989"
             ],
             [
              0.3333333333333333,
              "#31688e"
             ],
             [
              0.4444444444444444,
              "#26828e"
             ],
             [
              0.5555555555555556,
              "#1f9e89"
             ],
             [
              0.6666666666666666,
              "#35b779"
             ],
             [
              0.7777777777777778,
              "#6ece58"
             ],
             [
              0.8888888888888888,
              "#b5de2b"
             ],
             [
              1,
              "#fde725"
             ]
            ],
            "type": "heatmap"
           }
          ],
          "heatmapgl": [
           {
            "colorbar": {
             "outlinewidth": 1,
             "tickcolor": "rgb(36,36,36)",
             "ticks": "outside"
            },
            "colorscale": [
             [
              0,
              "#440154"
             ],
             [
              0.1111111111111111,
              "#482878"
             ],
             [
              0.2222222222222222,
              "#3e4989"
             ],
             [
              0.3333333333333333,
              "#31688e"
             ],
             [
              0.4444444444444444,
              "#26828e"
             ],
             [
              0.5555555555555556,
              "#1f9e89"
             ],
             [
              0.6666666666666666,
              "#35b779"
             ],
             [
              0.7777777777777778,
              "#6ece58"
             ],
             [
              0.8888888888888888,
              "#b5de2b"
             ],
             [
              1,
              "#fde725"
             ]
            ],
            "type": "heatmapgl"
           }
          ],
          "histogram": [
           {
            "marker": {
             "line": {
              "color": "white",
              "width": 0.6
             }
            },
            "type": "histogram"
           }
          ],
          "histogram2d": [
           {
            "colorbar": {
             "outlinewidth": 1,
             "tickcolor": "rgb(36,36,36)",
             "ticks": "outside"
            },
            "colorscale": [
             [
              0,
              "#440154"
             ],
             [
              0.1111111111111111,
              "#482878"
             ],
             [
              0.2222222222222222,
              "#3e4989"
             ],
             [
              0.3333333333333333,
              "#31688e"
             ],
             [
              0.4444444444444444,
              "#26828e"
             ],
             [
              0.5555555555555556,
              "#1f9e89"
             ],
             [
              0.6666666666666666,
              "#35b779"
             ],
             [
              0.7777777777777778,
              "#6ece58"
             ],
             [
              0.8888888888888888,
              "#b5de2b"
             ],
             [
              1,
              "#fde725"
             ]
            ],
            "type": "histogram2d"
           }
          ],
          "histogram2dcontour": [
           {
            "colorbar": {
             "outlinewidth": 1,
             "tickcolor": "rgb(36,36,36)",
             "ticks": "outside"
            },
            "colorscale": [
             [
              0,
              "#440154"
             ],
             [
              0.1111111111111111,
              "#482878"
             ],
             [
              0.2222222222222222,
              "#3e4989"
             ],
             [
              0.3333333333333333,
              "#31688e"
             ],
             [
              0.4444444444444444,
              "#26828e"
             ],
             [
              0.5555555555555556,
              "#1f9e89"
             ],
             [
              0.6666666666666666,
              "#35b779"
             ],
             [
              0.7777777777777778,
              "#6ece58"
             ],
             [
              0.8888888888888888,
              "#b5de2b"
             ],
             [
              1,
              "#fde725"
             ]
            ],
            "type": "histogram2dcontour"
           }
          ],
          "mesh3d": [
           {
            "colorbar": {
             "outlinewidth": 1,
             "tickcolor": "rgb(36,36,36)",
             "ticks": "outside"
            },
            "type": "mesh3d"
           }
          ],
          "parcoords": [
           {
            "line": {
             "colorbar": {
              "outlinewidth": 1,
              "tickcolor": "rgb(36,36,36)",
              "ticks": "outside"
             }
            },
            "type": "parcoords"
           }
          ],
          "pie": [
           {
            "automargin": true,
            "type": "pie"
           }
          ],
          "scatter": [
           {
            "marker": {
             "colorbar": {
              "outlinewidth": 1,
              "tickcolor": "rgb(36,36,36)",
              "ticks": "outside"
             }
            },
            "type": "scatter"
           }
          ],
          "scatter3d": [
           {
            "line": {
             "colorbar": {
              "outlinewidth": 1,
              "tickcolor": "rgb(36,36,36)",
              "ticks": "outside"
             }
            },
            "marker": {
             "colorbar": {
              "outlinewidth": 1,
              "tickcolor": "rgb(36,36,36)",
              "ticks": "outside"
             }
            },
            "type": "scatter3d"
           }
          ],
          "scattercarpet": [
           {
            "marker": {
             "colorbar": {
              "outlinewidth": 1,
              "tickcolor": "rgb(36,36,36)",
              "ticks": "outside"
             }
            },
            "type": "scattercarpet"
           }
          ],
          "scattergeo": [
           {
            "marker": {
             "colorbar": {
              "outlinewidth": 1,
              "tickcolor": "rgb(36,36,36)",
              "ticks": "outside"
             }
            },
            "type": "scattergeo"
           }
          ],
          "scattergl": [
           {
            "marker": {
             "colorbar": {
              "outlinewidth": 1,
              "tickcolor": "rgb(36,36,36)",
              "ticks": "outside"
             }
            },
            "type": "scattergl"
           }
          ],
          "scattermapbox": [
           {
            "marker": {
             "colorbar": {
              "outlinewidth": 1,
              "tickcolor": "rgb(36,36,36)",
              "ticks": "outside"
             }
            },
            "type": "scattermapbox"
           }
          ],
          "scatterpolar": [
           {
            "marker": {
             "colorbar": {
              "outlinewidth": 1,
              "tickcolor": "rgb(36,36,36)",
              "ticks": "outside"
             }
            },
            "type": "scatterpolar"
           }
          ],
          "scatterpolargl": [
           {
            "marker": {
             "colorbar": {
              "outlinewidth": 1,
              "tickcolor": "rgb(36,36,36)",
              "ticks": "outside"
             }
            },
            "type": "scatterpolargl"
           }
          ],
          "scatterternary": [
           {
            "marker": {
             "colorbar": {
              "outlinewidth": 1,
              "tickcolor": "rgb(36,36,36)",
              "ticks": "outside"
             }
            },
            "type": "scatterternary"
           }
          ],
          "surface": [
           {
            "colorbar": {
             "outlinewidth": 1,
             "tickcolor": "rgb(36,36,36)",
             "ticks": "outside"
            },
            "colorscale": [
             [
              0,
              "#440154"
             ],
             [
              0.1111111111111111,
              "#482878"
             ],
             [
              0.2222222222222222,
              "#3e4989"
             ],
             [
              0.3333333333333333,
              "#31688e"
             ],
             [
              0.4444444444444444,
              "#26828e"
             ],
             [
              0.5555555555555556,
              "#1f9e89"
             ],
             [
              0.6666666666666666,
              "#35b779"
             ],
             [
              0.7777777777777778,
              "#6ece58"
             ],
             [
              0.8888888888888888,
              "#b5de2b"
             ],
             [
              1,
              "#fde725"
             ]
            ],
            "type": "surface"
           }
          ],
          "table": [
           {
            "cells": {
             "fill": {
              "color": "rgb(237,237,237)"
             },
             "line": {
              "color": "white"
             }
            },
            "header": {
             "fill": {
              "color": "rgb(217,217,217)"
             },
             "line": {
              "color": "white"
             }
            },
            "type": "table"
           }
          ]
         },
         "layout": {
          "annotationdefaults": {
           "arrowhead": 0,
           "arrowwidth": 1
          },
          "autotypenumbers": "strict",
          "coloraxis": {
           "colorbar": {
            "outlinewidth": 1,
            "tickcolor": "rgb(36,36,36)",
            "ticks": "outside"
           }
          },
          "colorscale": {
           "diverging": [
            [
             0,
             "rgb(103,0,31)"
            ],
            [
             0.1,
             "rgb(178,24,43)"
            ],
            [
             0.2,
             "rgb(214,96,77)"
            ],
            [
             0.3,
             "rgb(244,165,130)"
            ],
            [
             0.4,
             "rgb(253,219,199)"
            ],
            [
             0.5,
             "rgb(247,247,247)"
            ],
            [
             0.6,
             "rgb(209,229,240)"
            ],
            [
             0.7,
             "rgb(146,197,222)"
            ],
            [
             0.8,
             "rgb(67,147,195)"
            ],
            [
             0.9,
             "rgb(33,102,172)"
            ],
            [
             1,
             "rgb(5,48,97)"
            ]
           ],
           "sequential": [
            [
             0,
             "#440154"
            ],
            [
             0.1111111111111111,
             "#482878"
            ],
            [
             0.2222222222222222,
             "#3e4989"
            ],
            [
             0.3333333333333333,
             "#31688e"
            ],
            [
             0.4444444444444444,
             "#26828e"
            ],
            [
             0.5555555555555556,
             "#1f9e89"
            ],
            [
             0.6666666666666666,
             "#35b779"
            ],
            [
             0.7777777777777778,
             "#6ece58"
            ],
            [
             0.8888888888888888,
             "#b5de2b"
            ],
            [
             1,
             "#fde725"
            ]
           ],
           "sequentialminus": [
            [
             0,
             "#440154"
            ],
            [
             0.1111111111111111,
             "#482878"
            ],
            [
             0.2222222222222222,
             "#3e4989"
            ],
            [
             0.3333333333333333,
             "#31688e"
            ],
            [
             0.4444444444444444,
             "#26828e"
            ],
            [
             0.5555555555555556,
             "#1f9e89"
            ],
            [
             0.6666666666666666,
             "#35b779"
            ],
            [
             0.7777777777777778,
             "#6ece58"
            ],
            [
             0.8888888888888888,
             "#b5de2b"
            ],
            [
             1,
             "#fde725"
            ]
           ]
          },
          "colorway": [
           "#1F77B4",
           "#FF7F0E",
           "#2CA02C",
           "#D62728",
           "#9467BD",
           "#8C564B",
           "#E377C2",
           "#7F7F7F",
           "#BCBD22",
           "#17BECF"
          ],
          "font": {
           "color": "rgb(36,36,36)"
          },
          "geo": {
           "bgcolor": "white",
           "lakecolor": "white",
           "landcolor": "white",
           "showlakes": true,
           "showland": true,
           "subunitcolor": "white"
          },
          "hoverlabel": {
           "align": "left"
          },
          "hovermode": "closest",
          "mapbox": {
           "style": "light"
          },
          "paper_bgcolor": "white",
          "plot_bgcolor": "white",
          "polar": {
           "angularaxis": {
            "gridcolor": "rgb(232,232,232)",
            "linecolor": "rgb(36,36,36)",
            "showgrid": false,
            "showline": true,
            "ticks": "outside"
           },
           "bgcolor": "white",
           "radialaxis": {
            "gridcolor": "rgb(232,232,232)",
            "linecolor": "rgb(36,36,36)",
            "showgrid": false,
            "showline": true,
            "ticks": "outside"
           }
          },
          "scene": {
           "xaxis": {
            "backgroundcolor": "white",
            "gridcolor": "rgb(232,232,232)",
            "gridwidth": 2,
            "linecolor": "rgb(36,36,36)",
            "showbackground": true,
            "showgrid": false,
            "showline": true,
            "ticks": "outside",
            "zeroline": false,
            "zerolinecolor": "rgb(36,36,36)"
           },
           "yaxis": {
            "backgroundcolor": "white",
            "gridcolor": "rgb(232,232,232)",
            "gridwidth": 2,
            "linecolor": "rgb(36,36,36)",
            "showbackground": true,
            "showgrid": false,
            "showline": true,
            "ticks": "outside",
            "zeroline": false,
            "zerolinecolor": "rgb(36,36,36)"
           },
           "zaxis": {
            "backgroundcolor": "white",
            "gridcolor": "rgb(232,232,232)",
            "gridwidth": 2,
            "linecolor": "rgb(36,36,36)",
            "showbackground": true,
            "showgrid": false,
            "showline": true,
            "ticks": "outside",
            "zeroline": false,
            "zerolinecolor": "rgb(36,36,36)"
           }
          },
          "shapedefaults": {
           "fillcolor": "black",
           "line": {
            "width": 0
           },
           "opacity": 0.3
          },
          "ternary": {
           "aaxis": {
            "gridcolor": "rgb(232,232,232)",
            "linecolor": "rgb(36,36,36)",
            "showgrid": false,
            "showline": true,
            "ticks": "outside"
           },
           "baxis": {
            "gridcolor": "rgb(232,232,232)",
            "linecolor": "rgb(36,36,36)",
            "showgrid": false,
            "showline": true,
            "ticks": "outside"
           },
           "bgcolor": "white",
           "caxis": {
            "gridcolor": "rgb(232,232,232)",
            "linecolor": "rgb(36,36,36)",
            "showgrid": false,
            "showline": true,
            "ticks": "outside"
           }
          },
          "title": {
           "x": 0.05
          },
          "xaxis": {
           "automargin": true,
           "gridcolor": "rgb(232,232,232)",
           "linecolor": "rgb(36,36,36)",
           "showgrid": false,
           "showline": true,
           "ticks": "outside",
           "title": {
            "standoff": 15
           },
           "zeroline": false,
           "zerolinecolor": "rgb(36,36,36)"
          },
          "yaxis": {
           "automargin": true,
           "gridcolor": "rgb(232,232,232)",
           "linecolor": "rgb(36,36,36)",
           "showgrid": false,
           "showline": true,
           "ticks": "outside",
           "title": {
            "standoff": 15
           },
           "zeroline": false,
           "zerolinecolor": "rgb(36,36,36)"
          }
         }
        },
        "title": {
         "text": "Distribution of Orders by Category"
        },
        "width": 650,
        "xaxis": {
         "anchor": "y",
         "domain": [
          0,
          1
         ],
         "title": {
          "text": "Number of Orders in Category"
         }
        },
        "yaxis": {
         "anchor": "x",
         "domain": [
          0,
          1
         ],
         "title": {
          "text": "Product Category"
         }
        }
       }
      },
      "text/html": [
       "<div>                            <div id=\"ac6bd782-d6b6-4173-8567-787285770365\" class=\"plotly-graph-div\" style=\"height:400px; width:650px;\"></div>            <script type=\"text/javascript\">                require([\"plotly\"], function(Plotly) {                    window.PLOTLYENV=window.PLOTLYENV || {};                                    if (document.getElementById(\"ac6bd782-d6b6-4173-8567-787285770365\")) {                    Plotly.newPlot(                        \"ac6bd782-d6b6-4173-8567-787285770365\",                        [{\"alignmentgroup\":\"True\",\"hovertemplate\":\"num_orders=%{text}<br>category=%{y}<extra></extra>\",\"legendgroup\":\"\",\"marker\":{\"color\":\"rgb(102,194,165)\",\"pattern\":{\"shape\":\"\"}},\"name\":\"\",\"offsetgroup\":\"\",\"orientation\":\"h\",\"showlegend\":false,\"text\":[206.0,214.0,233.0,249.0,283.0,377.0,397.0,525.0,602.0,621.0],\"textposition\":\"auto\",\"x\":[206,214,233,249,283,377,397,525,602,621],\"xaxis\":\"x\",\"y\":[\"For Celebrations\",\"Textiles\",\"Artificial Flowers and Imitations\",\"Vegetable and Berry Seedlings\",\"Flower Seedlings and Seeds\",\"Trolleys and Bags\",\"Kitchen\",\"Houseplants\",\"Household Goods and Cleaning Supplies\",\"Laundry and Ironing\"],\"yaxis\":\"y\",\"type\":\"bar\"}],                        {\"template\":{\"data\":{\"barpolar\":[{\"marker\":{\"line\":{\"color\":\"white\",\"width\":0.5},\"pattern\":{\"fillmode\":\"overlay\",\"size\":10,\"solidity\":0.2}},\"type\":\"barpolar\"}],\"bar\":[{\"error_x\":{\"color\":\"rgb(36,36,36)\"},\"error_y\":{\"color\":\"rgb(36,36,36)\"},\"marker\":{\"line\":{\"color\":\"white\",\"width\":0.5},\"pattern\":{\"fillmode\":\"overlay\",\"size\":10,\"solidity\":0.2}},\"type\":\"bar\"}],\"carpet\":[{\"aaxis\":{\"endlinecolor\":\"rgb(36,36,36)\",\"gridcolor\":\"white\",\"linecolor\":\"white\",\"minorgridcolor\":\"white\",\"startlinecolor\":\"rgb(36,36,36)\"},\"baxis\":{\"endlinecolor\":\"rgb(36,36,36)\",\"gridcolor\":\"white\",\"linecolor\":\"white\",\"minorgridcolor\":\"white\",\"startlinecolor\":\"rgb(36,36,36)\"},\"type\":\"carpet\"}],\"choropleth\":[{\"colorbar\":{\"outlinewidth\":1,\"tickcolor\":\"rgb(36,36,36)\",\"ticks\":\"outside\"},\"type\":\"choropleth\"}],\"contourcarpet\":[{\"colorbar\":{\"outlinewidth\":1,\"tickcolor\":\"rgb(36,36,36)\",\"ticks\":\"outside\"},\"type\":\"contourcarpet\"}],\"contour\":[{\"colorbar\":{\"outlinewidth\":1,\"tickcolor\":\"rgb(36,36,36)\",\"ticks\":\"outside\"},\"colorscale\":[[0.0,\"#440154\"],[0.1111111111111111,\"#482878\"],[0.2222222222222222,\"#3e4989\"],[0.3333333333333333,\"#31688e\"],[0.4444444444444444,\"#26828e\"],[0.5555555555555556,\"#1f9e89\"],[0.6666666666666666,\"#35b779\"],[0.7777777777777778,\"#6ece58\"],[0.8888888888888888,\"#b5de2b\"],[1.0,\"#fde725\"]],\"type\":\"contour\"}],\"heatmapgl\":[{\"colorbar\":{\"outlinewidth\":1,\"tickcolor\":\"rgb(36,36,36)\",\"ticks\":\"outside\"},\"colorscale\":[[0.0,\"#440154\"],[0.1111111111111111,\"#482878\"],[0.2222222222222222,\"#3e4989\"],[0.3333333333333333,\"#31688e\"],[0.4444444444444444,\"#26828e\"],[0.5555555555555556,\"#1f9e89\"],[0.6666666666666666,\"#35b779\"],[0.7777777777777778,\"#6ece58\"],[0.8888888888888888,\"#b5de2b\"],[1.0,\"#fde725\"]],\"type\":\"heatmapgl\"}],\"heatmap\":[{\"colorbar\":{\"outlinewidth\":1,\"tickcolor\":\"rgb(36,36,36)\",\"ticks\":\"outside\"},\"colorscale\":[[0.0,\"#440154\"],[0.1111111111111111,\"#482878\"],[0.2222222222222222,\"#3e4989\"],[0.3333333333333333,\"#31688e\"],[0.4444444444444444,\"#26828e\"],[0.5555555555555556,\"#1f9e89\"],[0.6666666666666666,\"#35b779\"],[0.7777777777777778,\"#6ece58\"],[0.8888888888888888,\"#b5de2b\"],[1.0,\"#fde725\"]],\"type\":\"heatmap\"}],\"histogram2dcontour\":[{\"colorbar\":{\"outlinewidth\":1,\"tickcolor\":\"rgb(36,36,36)\",\"ticks\":\"outside\"},\"colorscale\":[[0.0,\"#440154\"],[0.1111111111111111,\"#482878\"],[0.2222222222222222,\"#3e4989\"],[0.3333333333333333,\"#31688e\"],[0.4444444444444444,\"#26828e\"],[0.5555555555555556,\"#1f9e89\"],[0.6666666666666666,\"#35b779\"],[0.7777777777777778,\"#6ece58\"],[0.8888888888888888,\"#b5de2b\"],[1.0,\"#fde725\"]],\"type\":\"histogram2dcontour\"}],\"histogram2d\":[{\"colorbar\":{\"outlinewidth\":1,\"tickcolor\":\"rgb(36,36,36)\",\"ticks\":\"outside\"},\"colorscale\":[[0.0,\"#440154\"],[0.1111111111111111,\"#482878\"],[0.2222222222222222,\"#3e4989\"],[0.3333333333333333,\"#31688e\"],[0.4444444444444444,\"#26828e\"],[0.5555555555555556,\"#1f9e89\"],[0.6666666666666666,\"#35b779\"],[0.7777777777777778,\"#6ece58\"],[0.8888888888888888,\"#b5de2b\"],[1.0,\"#fde725\"]],\"type\":\"histogram2d\"}],\"histogram\":[{\"marker\":{\"line\":{\"color\":\"white\",\"width\":0.6}},\"type\":\"histogram\"}],\"mesh3d\":[{\"colorbar\":{\"outlinewidth\":1,\"tickcolor\":\"rgb(36,36,36)\",\"ticks\":\"outside\"},\"type\":\"mesh3d\"}],\"parcoords\":[{\"line\":{\"colorbar\":{\"outlinewidth\":1,\"tickcolor\":\"rgb(36,36,36)\",\"ticks\":\"outside\"}},\"type\":\"parcoords\"}],\"pie\":[{\"automargin\":true,\"type\":\"pie\"}],\"scatter3d\":[{\"line\":{\"colorbar\":{\"outlinewidth\":1,\"tickcolor\":\"rgb(36,36,36)\",\"ticks\":\"outside\"}},\"marker\":{\"colorbar\":{\"outlinewidth\":1,\"tickcolor\":\"rgb(36,36,36)\",\"ticks\":\"outside\"}},\"type\":\"scatter3d\"}],\"scattercarpet\":[{\"marker\":{\"colorbar\":{\"outlinewidth\":1,\"tickcolor\":\"rgb(36,36,36)\",\"ticks\":\"outside\"}},\"type\":\"scattercarpet\"}],\"scattergeo\":[{\"marker\":{\"colorbar\":{\"outlinewidth\":1,\"tickcolor\":\"rgb(36,36,36)\",\"ticks\":\"outside\"}},\"type\":\"scattergeo\"}],\"scattergl\":[{\"marker\":{\"colorbar\":{\"outlinewidth\":1,\"tickcolor\":\"rgb(36,36,36)\",\"ticks\":\"outside\"}},\"type\":\"scattergl\"}],\"scattermapbox\":[{\"marker\":{\"colorbar\":{\"outlinewidth\":1,\"tickcolor\":\"rgb(36,36,36)\",\"ticks\":\"outside\"}},\"type\":\"scattermapbox\"}],\"scatterpolargl\":[{\"marker\":{\"colorbar\":{\"outlinewidth\":1,\"tickcolor\":\"rgb(36,36,36)\",\"ticks\":\"outside\"}},\"type\":\"scatterpolargl\"}],\"scatterpolar\":[{\"marker\":{\"colorbar\":{\"outlinewidth\":1,\"tickcolor\":\"rgb(36,36,36)\",\"ticks\":\"outside\"}},\"type\":\"scatterpolar\"}],\"scatter\":[{\"marker\":{\"colorbar\":{\"outlinewidth\":1,\"tickcolor\":\"rgb(36,36,36)\",\"ticks\":\"outside\"}},\"type\":\"scatter\"}],\"scatterternary\":[{\"marker\":{\"colorbar\":{\"outlinewidth\":1,\"tickcolor\":\"rgb(36,36,36)\",\"ticks\":\"outside\"}},\"type\":\"scatterternary\"}],\"surface\":[{\"colorbar\":{\"outlinewidth\":1,\"tickcolor\":\"rgb(36,36,36)\",\"ticks\":\"outside\"},\"colorscale\":[[0.0,\"#440154\"],[0.1111111111111111,\"#482878\"],[0.2222222222222222,\"#3e4989\"],[0.3333333333333333,\"#31688e\"],[0.4444444444444444,\"#26828e\"],[0.5555555555555556,\"#1f9e89\"],[0.6666666666666666,\"#35b779\"],[0.7777777777777778,\"#6ece58\"],[0.8888888888888888,\"#b5de2b\"],[1.0,\"#fde725\"]],\"type\":\"surface\"}],\"table\":[{\"cells\":{\"fill\":{\"color\":\"rgb(237,237,237)\"},\"line\":{\"color\":\"white\"}},\"header\":{\"fill\":{\"color\":\"rgb(217,217,217)\"},\"line\":{\"color\":\"white\"}},\"type\":\"table\"}]},\"layout\":{\"annotationdefaults\":{\"arrowhead\":0,\"arrowwidth\":1},\"autotypenumbers\":\"strict\",\"coloraxis\":{\"colorbar\":{\"outlinewidth\":1,\"tickcolor\":\"rgb(36,36,36)\",\"ticks\":\"outside\"}},\"colorscale\":{\"diverging\":[[0.0,\"rgb(103,0,31)\"],[0.1,\"rgb(178,24,43)\"],[0.2,\"rgb(214,96,77)\"],[0.3,\"rgb(244,165,130)\"],[0.4,\"rgb(253,219,199)\"],[0.5,\"rgb(247,247,247)\"],[0.6,\"rgb(209,229,240)\"],[0.7,\"rgb(146,197,222)\"],[0.8,\"rgb(67,147,195)\"],[0.9,\"rgb(33,102,172)\"],[1.0,\"rgb(5,48,97)\"]],\"sequential\":[[0.0,\"#440154\"],[0.1111111111111111,\"#482878\"],[0.2222222222222222,\"#3e4989\"],[0.3333333333333333,\"#31688e\"],[0.4444444444444444,\"#26828e\"],[0.5555555555555556,\"#1f9e89\"],[0.6666666666666666,\"#35b779\"],[0.7777777777777778,\"#6ece58\"],[0.8888888888888888,\"#b5de2b\"],[1.0,\"#fde725\"]],\"sequentialminus\":[[0.0,\"#440154\"],[0.1111111111111111,\"#482878\"],[0.2222222222222222,\"#3e4989\"],[0.3333333333333333,\"#31688e\"],[0.4444444444444444,\"#26828e\"],[0.5555555555555556,\"#1f9e89\"],[0.6666666666666666,\"#35b779\"],[0.7777777777777778,\"#6ece58\"],[0.8888888888888888,\"#b5de2b\"],[1.0,\"#fde725\"]]},\"colorway\":[\"#1F77B4\",\"#FF7F0E\",\"#2CA02C\",\"#D62728\",\"#9467BD\",\"#8C564B\",\"#E377C2\",\"#7F7F7F\",\"#BCBD22\",\"#17BECF\"],\"font\":{\"color\":\"rgb(36,36,36)\"},\"geo\":{\"bgcolor\":\"white\",\"lakecolor\":\"white\",\"landcolor\":\"white\",\"showlakes\":true,\"showland\":true,\"subunitcolor\":\"white\"},\"hoverlabel\":{\"align\":\"left\"},\"hovermode\":\"closest\",\"mapbox\":{\"style\":\"light\"},\"paper_bgcolor\":\"white\",\"plot_bgcolor\":\"white\",\"polar\":{\"angularaxis\":{\"gridcolor\":\"rgb(232,232,232)\",\"linecolor\":\"rgb(36,36,36)\",\"showgrid\":false,\"showline\":true,\"ticks\":\"outside\"},\"bgcolor\":\"white\",\"radialaxis\":{\"gridcolor\":\"rgb(232,232,232)\",\"linecolor\":\"rgb(36,36,36)\",\"showgrid\":false,\"showline\":true,\"ticks\":\"outside\"}},\"scene\":{\"xaxis\":{\"backgroundcolor\":\"white\",\"gridcolor\":\"rgb(232,232,232)\",\"gridwidth\":2,\"linecolor\":\"rgb(36,36,36)\",\"showbackground\":true,\"showgrid\":false,\"showline\":true,\"ticks\":\"outside\",\"zeroline\":false,\"zerolinecolor\":\"rgb(36,36,36)\"},\"yaxis\":{\"backgroundcolor\":\"white\",\"gridcolor\":\"rgb(232,232,232)\",\"gridwidth\":2,\"linecolor\":\"rgb(36,36,36)\",\"showbackground\":true,\"showgrid\":false,\"showline\":true,\"ticks\":\"outside\",\"zeroline\":false,\"zerolinecolor\":\"rgb(36,36,36)\"},\"zaxis\":{\"backgroundcolor\":\"white\",\"gridcolor\":\"rgb(232,232,232)\",\"gridwidth\":2,\"linecolor\":\"rgb(36,36,36)\",\"showbackground\":true,\"showgrid\":false,\"showline\":true,\"ticks\":\"outside\",\"zeroline\":false,\"zerolinecolor\":\"rgb(36,36,36)\"}},\"shapedefaults\":{\"fillcolor\":\"black\",\"line\":{\"width\":0},\"opacity\":0.3},\"ternary\":{\"aaxis\":{\"gridcolor\":\"rgb(232,232,232)\",\"linecolor\":\"rgb(36,36,36)\",\"showgrid\":false,\"showline\":true,\"ticks\":\"outside\"},\"baxis\":{\"gridcolor\":\"rgb(232,232,232)\",\"linecolor\":\"rgb(36,36,36)\",\"showgrid\":false,\"showline\":true,\"ticks\":\"outside\"},\"bgcolor\":\"white\",\"caxis\":{\"gridcolor\":\"rgb(232,232,232)\",\"linecolor\":\"rgb(36,36,36)\",\"showgrid\":false,\"showline\":true,\"ticks\":\"outside\"}},\"title\":{\"x\":0.05},\"xaxis\":{\"automargin\":true,\"gridcolor\":\"rgb(232,232,232)\",\"linecolor\":\"rgb(36,36,36)\",\"showgrid\":false,\"showline\":true,\"ticks\":\"outside\",\"title\":{\"standoff\":15},\"zeroline\":false,\"zerolinecolor\":\"rgb(36,36,36)\"},\"yaxis\":{\"automargin\":true,\"gridcolor\":\"rgb(232,232,232)\",\"linecolor\":\"rgb(36,36,36)\",\"showgrid\":false,\"showline\":true,\"ticks\":\"outside\",\"title\":{\"standoff\":15},\"zeroline\":false,\"zerolinecolor\":\"rgb(36,36,36)\"}}},\"xaxis\":{\"anchor\":\"y\",\"domain\":[0.0,1.0],\"title\":{\"text\":\"Number of Orders in Category\"}},\"yaxis\":{\"anchor\":\"x\",\"domain\":[0.0,1.0],\"title\":{\"text\":\"Product Category\"}},\"legend\":{\"tracegroupgap\":0},\"margin\":{\"t\":60},\"barmode\":\"relative\",\"title\":{\"text\":\"Distribution of Orders by Category\"},\"width\":650,\"height\":400},                        {\"responsive\": true}                    ).then(function(){\n",
       "                            \n",
       "var gd = document.getElementById('ac6bd782-d6b6-4173-8567-787285770365');\n",
       "var x = new MutationObserver(function (mutations, observer) {{\n",
       "        var display = window.getComputedStyle(gd).display;\n",
       "        if (!display || display === 'none') {{\n",
       "            console.log([gd, 'removed!']);\n",
       "            Plotly.purge(gd);\n",
       "            observer.disconnect();\n",
       "        }}\n",
       "}});\n",
       "\n",
       "// Listen for the removal of the full notebook cells\n",
       "var notebookContainer = gd.closest('#notebook-container');\n",
       "if (notebookContainer) {{\n",
       "    x.observe(notebookContainer, {childList: true});\n",
       "}}\n",
       "\n",
       "// Listen for the clearing of the current output cell\n",
       "var outputEl = gd.closest('.output');\n",
       "if (outputEl) {{\n",
       "    x.observe(outputEl, {childList: true});\n",
       "}}\n",
       "\n",
       "                        })                };                });            </script>        </div>"
      ]
     },
     "metadata": {},
     "output_type": "display_data"
    },
    {
     "data": {
      "application/vnd.plotly.v1+json": {
       "config": {
        "plotlyServerURL": "https://plot.ly"
       },
       "data": [
        {
         "alignmentgroup": "True",
         "hovertemplate": "total/1000=%{text}<br>category=%{y}<extra></extra>",
         "legendgroup": "",
         "marker": {
          "color": "rgb(102,194,165)",
          "pattern": {
           "shape": ""
          }
         },
         "name": "",
         "offsetgroup": "",
         "orientation": "h",
         "showlegend": false,
         "text": [
          87.1,
          114,
          158,
          180.7,
          257.5,
          306.2,
          362.5,
          775.2,
          824,
          824.9
         ],
         "textposition": "auto",
         "type": "bar",
         "x": [
          87.1,
          114,
          158,
          180.7,
          257.5,
          306.2,
          362.5,
          775.2,
          824,
          824.9
         ],
         "xaxis": "x",
         "y": [
          "Vegetable and Berry Seedlings",
          "Artificial Flowers and Imitations",
          "Flower Seedlings and Seeds",
          "For Celebrations",
          "Houseplants",
          "Textiles",
          "Kitchen",
          "Laundry and Ironing",
          "Household Goods and Cleaning Supplies",
          "Trolleys and Bags"
         ],
         "yaxis": "y"
        }
       ],
       "layout": {
        "barmode": "relative",
        "height": 400,
        "legend": {
         "tracegroupgap": 0
        },
        "margin": {
         "t": 60
        },
        "template": {
         "data": {
          "bar": [
           {
            "error_x": {
             "color": "rgb(36,36,36)"
            },
            "error_y": {
             "color": "rgb(36,36,36)"
            },
            "marker": {
             "line": {
              "color": "white",
              "width": 0.5
             },
             "pattern": {
              "fillmode": "overlay",
              "size": 10,
              "solidity": 0.2
             }
            },
            "type": "bar"
           }
          ],
          "barpolar": [
           {
            "marker": {
             "line": {
              "color": "white",
              "width": 0.5
             },
             "pattern": {
              "fillmode": "overlay",
              "size": 10,
              "solidity": 0.2
             }
            },
            "type": "barpolar"
           }
          ],
          "carpet": [
           {
            "aaxis": {
             "endlinecolor": "rgb(36,36,36)",
             "gridcolor": "white",
             "linecolor": "white",
             "minorgridcolor": "white",
             "startlinecolor": "rgb(36,36,36)"
            },
            "baxis": {
             "endlinecolor": "rgb(36,36,36)",
             "gridcolor": "white",
             "linecolor": "white",
             "minorgridcolor": "white",
             "startlinecolor": "rgb(36,36,36)"
            },
            "type": "carpet"
           }
          ],
          "choropleth": [
           {
            "colorbar": {
             "outlinewidth": 1,
             "tickcolor": "rgb(36,36,36)",
             "ticks": "outside"
            },
            "type": "choropleth"
           }
          ],
          "contour": [
           {
            "colorbar": {
             "outlinewidth": 1,
             "tickcolor": "rgb(36,36,36)",
             "ticks": "outside"
            },
            "colorscale": [
             [
              0,
              "#440154"
             ],
             [
              0.1111111111111111,
              "#482878"
             ],
             [
              0.2222222222222222,
              "#3e4989"
             ],
             [
              0.3333333333333333,
              "#31688e"
             ],
             [
              0.4444444444444444,
              "#26828e"
             ],
             [
              0.5555555555555556,
              "#1f9e89"
             ],
             [
              0.6666666666666666,
              "#35b779"
             ],
             [
              0.7777777777777778,
              "#6ece58"
             ],
             [
              0.8888888888888888,
              "#b5de2b"
             ],
             [
              1,
              "#fde725"
             ]
            ],
            "type": "contour"
           }
          ],
          "contourcarpet": [
           {
            "colorbar": {
             "outlinewidth": 1,
             "tickcolor": "rgb(36,36,36)",
             "ticks": "outside"
            },
            "type": "contourcarpet"
           }
          ],
          "heatmap": [
           {
            "colorbar": {
             "outlinewidth": 1,
             "tickcolor": "rgb(36,36,36)",
             "ticks": "outside"
            },
            "colorscale": [
             [
              0,
              "#440154"
             ],
             [
              0.1111111111111111,
              "#482878"
             ],
             [
              0.2222222222222222,
              "#3e4989"
             ],
             [
              0.3333333333333333,
              "#31688e"
             ],
             [
              0.4444444444444444,
              "#26828e"
             ],
             [
              0.5555555555555556,
              "#1f9e89"
             ],
             [
              0.6666666666666666,
              "#35b779"
             ],
             [
              0.7777777777777778,
              "#6ece58"
             ],
             [
              0.8888888888888888,
              "#b5de2b"
             ],
             [
              1,
              "#fde725"
             ]
            ],
            "type": "heatmap"
           }
          ],
          "heatmapgl": [
           {
            "colorbar": {
             "outlinewidth": 1,
             "tickcolor": "rgb(36,36,36)",
             "ticks": "outside"
            },
            "colorscale": [
             [
              0,
              "#440154"
             ],
             [
              0.1111111111111111,
              "#482878"
             ],
             [
              0.2222222222222222,
              "#3e4989"
             ],
             [
              0.3333333333333333,
              "#31688e"
             ],
             [
              0.4444444444444444,
              "#26828e"
             ],
             [
              0.5555555555555556,
              "#1f9e89"
             ],
             [
              0.6666666666666666,
              "#35b779"
             ],
             [
              0.7777777777777778,
              "#6ece58"
             ],
             [
              0.8888888888888888,
              "#b5de2b"
             ],
             [
              1,
              "#fde725"
             ]
            ],
            "type": "heatmapgl"
           }
          ],
          "histogram": [
           {
            "marker": {
             "line": {
              "color": "white",
              "width": 0.6
             }
            },
            "type": "histogram"
           }
          ],
          "histogram2d": [
           {
            "colorbar": {
             "outlinewidth": 1,
             "tickcolor": "rgb(36,36,36)",
             "ticks": "outside"
            },
            "colorscale": [
             [
              0,
              "#440154"
             ],
             [
              0.1111111111111111,
              "#482878"
             ],
             [
              0.2222222222222222,
              "#3e4989"
             ],
             [
              0.3333333333333333,
              "#31688e"
             ],
             [
              0.4444444444444444,
              "#26828e"
             ],
             [
              0.5555555555555556,
              "#1f9e89"
             ],
             [
              0.6666666666666666,
              "#35b779"
             ],
             [
              0.7777777777777778,
              "#6ece58"
             ],
             [
              0.8888888888888888,
              "#b5de2b"
             ],
             [
              1,
              "#fde725"
             ]
            ],
            "type": "histogram2d"
           }
          ],
          "histogram2dcontour": [
           {
            "colorbar": {
             "outlinewidth": 1,
             "tickcolor": "rgb(36,36,36)",
             "ticks": "outside"
            },
            "colorscale": [
             [
              0,
              "#440154"
             ],
             [
              0.1111111111111111,
              "#482878"
             ],
             [
              0.2222222222222222,
              "#3e4989"
             ],
             [
              0.3333333333333333,
              "#31688e"
             ],
             [
              0.4444444444444444,
              "#26828e"
             ],
             [
              0.5555555555555556,
              "#1f9e89"
             ],
             [
              0.6666666666666666,
              "#35b779"
             ],
             [
              0.7777777777777778,
              "#6ece58"
             ],
             [
              0.8888888888888888,
              "#b5de2b"
             ],
             [
              1,
              "#fde725"
             ]
            ],
            "type": "histogram2dcontour"
           }
          ],
          "mesh3d": [
           {
            "colorbar": {
             "outlinewidth": 1,
             "tickcolor": "rgb(36,36,36)",
             "ticks": "outside"
            },
            "type": "mesh3d"
           }
          ],
          "parcoords": [
           {
            "line": {
             "colorbar": {
              "outlinewidth": 1,
              "tickcolor": "rgb(36,36,36)",
              "ticks": "outside"
             }
            },
            "type": "parcoords"
           }
          ],
          "pie": [
           {
            "automargin": true,
            "type": "pie"
           }
          ],
          "scatter": [
           {
            "marker": {
             "colorbar": {
              "outlinewidth": 1,
              "tickcolor": "rgb(36,36,36)",
              "ticks": "outside"
             }
            },
            "type": "scatter"
           }
          ],
          "scatter3d": [
           {
            "line": {
             "colorbar": {
              "outlinewidth": 1,
              "tickcolor": "rgb(36,36,36)",
              "ticks": "outside"
             }
            },
            "marker": {
             "colorbar": {
              "outlinewidth": 1,
              "tickcolor": "rgb(36,36,36)",
              "ticks": "outside"
             }
            },
            "type": "scatter3d"
           }
          ],
          "scattercarpet": [
           {
            "marker": {
             "colorbar": {
              "outlinewidth": 1,
              "tickcolor": "rgb(36,36,36)",
              "ticks": "outside"
             }
            },
            "type": "scattercarpet"
           }
          ],
          "scattergeo": [
           {
            "marker": {
             "colorbar": {
              "outlinewidth": 1,
              "tickcolor": "rgb(36,36,36)",
              "ticks": "outside"
             }
            },
            "type": "scattergeo"
           }
          ],
          "scattergl": [
           {
            "marker": {
             "colorbar": {
              "outlinewidth": 1,
              "tickcolor": "rgb(36,36,36)",
              "ticks": "outside"
             }
            },
            "type": "scattergl"
           }
          ],
          "scattermapbox": [
           {
            "marker": {
             "colorbar": {
              "outlinewidth": 1,
              "tickcolor": "rgb(36,36,36)",
              "ticks": "outside"
             }
            },
            "type": "scattermapbox"
           }
          ],
          "scatterpolar": [
           {
            "marker": {
             "colorbar": {
              "outlinewidth": 1,
              "tickcolor": "rgb(36,36,36)",
              "ticks": "outside"
             }
            },
            "type": "scatterpolar"
           }
          ],
          "scatterpolargl": [
           {
            "marker": {
             "colorbar": {
              "outlinewidth": 1,
              "tickcolor": "rgb(36,36,36)",
              "ticks": "outside"
             }
            },
            "type": "scatterpolargl"
           }
          ],
          "scatterternary": [
           {
            "marker": {
             "colorbar": {
              "outlinewidth": 1,
              "tickcolor": "rgb(36,36,36)",
              "ticks": "outside"
             }
            },
            "type": "scatterternary"
           }
          ],
          "surface": [
           {
            "colorbar": {
             "outlinewidth": 1,
             "tickcolor": "rgb(36,36,36)",
             "ticks": "outside"
            },
            "colorscale": [
             [
              0,
              "#440154"
             ],
             [
              0.1111111111111111,
              "#482878"
             ],
             [
              0.2222222222222222,
              "#3e4989"
             ],
             [
              0.3333333333333333,
              "#31688e"
             ],
             [
              0.4444444444444444,
              "#26828e"
             ],
             [
              0.5555555555555556,
              "#1f9e89"
             ],
             [
              0.6666666666666666,
              "#35b779"
             ],
             [
              0.7777777777777778,
              "#6ece58"
             ],
             [
              0.8888888888888888,
              "#b5de2b"
             ],
             [
              1,
              "#fde725"
             ]
            ],
            "type": "surface"
           }
          ],
          "table": [
           {
            "cells": {
             "fill": {
              "color": "rgb(237,237,237)"
             },
             "line": {
              "color": "white"
             }
            },
            "header": {
             "fill": {
              "color": "rgb(217,217,217)"
             },
             "line": {
              "color": "white"
             }
            },
            "type": "table"
           }
          ]
         },
         "layout": {
          "annotationdefaults": {
           "arrowhead": 0,
           "arrowwidth": 1
          },
          "autotypenumbers": "strict",
          "coloraxis": {
           "colorbar": {
            "outlinewidth": 1,
            "tickcolor": "rgb(36,36,36)",
            "ticks": "outside"
           }
          },
          "colorscale": {
           "diverging": [
            [
             0,
             "rgb(103,0,31)"
            ],
            [
             0.1,
             "rgb(178,24,43)"
            ],
            [
             0.2,
             "rgb(214,96,77)"
            ],
            [
             0.3,
             "rgb(244,165,130)"
            ],
            [
             0.4,
             "rgb(253,219,199)"
            ],
            [
             0.5,
             "rgb(247,247,247)"
            ],
            [
             0.6,
             "rgb(209,229,240)"
            ],
            [
             0.7,
             "rgb(146,197,222)"
            ],
            [
             0.8,
             "rgb(67,147,195)"
            ],
            [
             0.9,
             "rgb(33,102,172)"
            ],
            [
             1,
             "rgb(5,48,97)"
            ]
           ],
           "sequential": [
            [
             0,
             "#440154"
            ],
            [
             0.1111111111111111,
             "#482878"
            ],
            [
             0.2222222222222222,
             "#3e4989"
            ],
            [
             0.3333333333333333,
             "#31688e"
            ],
            [
             0.4444444444444444,
             "#26828e"
            ],
            [
             0.5555555555555556,
             "#1f9e89"
            ],
            [
             0.6666666666666666,
             "#35b779"
            ],
            [
             0.7777777777777778,
             "#6ece58"
            ],
            [
             0.8888888888888888,
             "#b5de2b"
            ],
            [
             1,
             "#fde725"
            ]
           ],
           "sequentialminus": [
            [
             0,
             "#440154"
            ],
            [
             0.1111111111111111,
             "#482878"
            ],
            [
             0.2222222222222222,
             "#3e4989"
            ],
            [
             0.3333333333333333,
             "#31688e"
            ],
            [
             0.4444444444444444,
             "#26828e"
            ],
            [
             0.5555555555555556,
             "#1f9e89"
            ],
            [
             0.6666666666666666,
             "#35b779"
            ],
            [
             0.7777777777777778,
             "#6ece58"
            ],
            [
             0.8888888888888888,
             "#b5de2b"
            ],
            [
             1,
             "#fde725"
            ]
           ]
          },
          "colorway": [
           "#1F77B4",
           "#FF7F0E",
           "#2CA02C",
           "#D62728",
           "#9467BD",
           "#8C564B",
           "#E377C2",
           "#7F7F7F",
           "#BCBD22",
           "#17BECF"
          ],
          "font": {
           "color": "rgb(36,36,36)"
          },
          "geo": {
           "bgcolor": "white",
           "lakecolor": "white",
           "landcolor": "white",
           "showlakes": true,
           "showland": true,
           "subunitcolor": "white"
          },
          "hoverlabel": {
           "align": "left"
          },
          "hovermode": "closest",
          "mapbox": {
           "style": "light"
          },
          "paper_bgcolor": "white",
          "plot_bgcolor": "white",
          "polar": {
           "angularaxis": {
            "gridcolor": "rgb(232,232,232)",
            "linecolor": "rgb(36,36,36)",
            "showgrid": false,
            "showline": true,
            "ticks": "outside"
           },
           "bgcolor": "white",
           "radialaxis": {
            "gridcolor": "rgb(232,232,232)",
            "linecolor": "rgb(36,36,36)",
            "showgrid": false,
            "showline": true,
            "ticks": "outside"
           }
          },
          "scene": {
           "xaxis": {
            "backgroundcolor": "white",
            "gridcolor": "rgb(232,232,232)",
            "gridwidth": 2,
            "linecolor": "rgb(36,36,36)",
            "showbackground": true,
            "showgrid": false,
            "showline": true,
            "ticks": "outside",
            "zeroline": false,
            "zerolinecolor": "rgb(36,36,36)"
           },
           "yaxis": {
            "backgroundcolor": "white",
            "gridcolor": "rgb(232,232,232)",
            "gridwidth": 2,
            "linecolor": "rgb(36,36,36)",
            "showbackground": true,
            "showgrid": false,
            "showline": true,
            "ticks": "outside",
            "zeroline": false,
            "zerolinecolor": "rgb(36,36,36)"
           },
           "zaxis": {
            "backgroundcolor": "white",
            "gridcolor": "rgb(232,232,232)",
            "gridwidth": 2,
            "linecolor": "rgb(36,36,36)",
            "showbackground": true,
            "showgrid": false,
            "showline": true,
            "ticks": "outside",
            "zeroline": false,
            "zerolinecolor": "rgb(36,36,36)"
           }
          },
          "shapedefaults": {
           "fillcolor": "black",
           "line": {
            "width": 0
           },
           "opacity": 0.3
          },
          "ternary": {
           "aaxis": {
            "gridcolor": "rgb(232,232,232)",
            "linecolor": "rgb(36,36,36)",
            "showgrid": false,
            "showline": true,
            "ticks": "outside"
           },
           "baxis": {
            "gridcolor": "rgb(232,232,232)",
            "linecolor": "rgb(36,36,36)",
            "showgrid": false,
            "showline": true,
            "ticks": "outside"
           },
           "bgcolor": "white",
           "caxis": {
            "gridcolor": "rgb(232,232,232)",
            "linecolor": "rgb(36,36,36)",
            "showgrid": false,
            "showline": true,
            "ticks": "outside"
           }
          },
          "title": {
           "x": 0.05
          },
          "xaxis": {
           "automargin": true,
           "gridcolor": "rgb(232,232,232)",
           "linecolor": "rgb(36,36,36)",
           "showgrid": false,
           "showline": true,
           "ticks": "outside",
           "title": {
            "standoff": 15
           },
           "zeroline": false,
           "zerolinecolor": "rgb(36,36,36)"
          },
          "yaxis": {
           "automargin": true,
           "gridcolor": "rgb(232,232,232)",
           "linecolor": "rgb(36,36,36)",
           "showgrid": false,
           "showline": true,
           "ticks": "outside",
           "title": {
            "standoff": 15
           },
           "zeroline": false,
           "zerolinecolor": "rgb(36,36,36)"
          }
         }
        },
        "title": {
         "text": "Total Revenue by Category"
        },
        "width": 650,
        "xaxis": {
         "anchor": "y",
         "domain": [
          0,
          1
         ],
         "title": {
          "text": "Revenue, Thousand Rubles"
         }
        },
        "yaxis": {
         "anchor": "x",
         "domain": [
          0,
          1
         ],
         "title": {
          "text": "Product Category"
         }
        }
       }
      },
      "text/html": [
       "<div>                            <div id=\"c6604400-fb08-491b-bcde-d693a1489ecf\" class=\"plotly-graph-div\" style=\"height:400px; width:650px;\"></div>            <script type=\"text/javascript\">                require([\"plotly\"], function(Plotly) {                    window.PLOTLYENV=window.PLOTLYENV || {};                                    if (document.getElementById(\"c6604400-fb08-491b-bcde-d693a1489ecf\")) {                    Plotly.newPlot(                        \"c6604400-fb08-491b-bcde-d693a1489ecf\",                        [{\"alignmentgroup\":\"True\",\"hovertemplate\":\"total/1000=%{text}<br>category=%{y}<extra></extra>\",\"legendgroup\":\"\",\"marker\":{\"color\":\"rgb(102,194,165)\",\"pattern\":{\"shape\":\"\"}},\"name\":\"\",\"offsetgroup\":\"\",\"orientation\":\"h\",\"showlegend\":false,\"text\":[87.1,114.0,158.0,180.7,257.5,306.2,362.5,775.2,824.0,824.9],\"textposition\":\"auto\",\"x\":[87.1,114.0,158.0,180.7,257.5,306.2,362.5,775.2,824.0,824.9],\"xaxis\":\"x\",\"y\":[\"Vegetable and Berry Seedlings\",\"Artificial Flowers and Imitations\",\"Flower Seedlings and Seeds\",\"For Celebrations\",\"Houseplants\",\"Textiles\",\"Kitchen\",\"Laundry and Ironing\",\"Household Goods and Cleaning Supplies\",\"Trolleys and Bags\"],\"yaxis\":\"y\",\"type\":\"bar\"}],                        {\"template\":{\"data\":{\"barpolar\":[{\"marker\":{\"line\":{\"color\":\"white\",\"width\":0.5},\"pattern\":{\"fillmode\":\"overlay\",\"size\":10,\"solidity\":0.2}},\"type\":\"barpolar\"}],\"bar\":[{\"error_x\":{\"color\":\"rgb(36,36,36)\"},\"error_y\":{\"color\":\"rgb(36,36,36)\"},\"marker\":{\"line\":{\"color\":\"white\",\"width\":0.5},\"pattern\":{\"fillmode\":\"overlay\",\"size\":10,\"solidity\":0.2}},\"type\":\"bar\"}],\"carpet\":[{\"aaxis\":{\"endlinecolor\":\"rgb(36,36,36)\",\"gridcolor\":\"white\",\"linecolor\":\"white\",\"minorgridcolor\":\"white\",\"startlinecolor\":\"rgb(36,36,36)\"},\"baxis\":{\"endlinecolor\":\"rgb(36,36,36)\",\"gridcolor\":\"white\",\"linecolor\":\"white\",\"minorgridcolor\":\"white\",\"startlinecolor\":\"rgb(36,36,36)\"},\"type\":\"carpet\"}],\"choropleth\":[{\"colorbar\":{\"outlinewidth\":1,\"tickcolor\":\"rgb(36,36,36)\",\"ticks\":\"outside\"},\"type\":\"choropleth\"}],\"contourcarpet\":[{\"colorbar\":{\"outlinewidth\":1,\"tickcolor\":\"rgb(36,36,36)\",\"ticks\":\"outside\"},\"type\":\"contourcarpet\"}],\"contour\":[{\"colorbar\":{\"outlinewidth\":1,\"tickcolor\":\"rgb(36,36,36)\",\"ticks\":\"outside\"},\"colorscale\":[[0.0,\"#440154\"],[0.1111111111111111,\"#482878\"],[0.2222222222222222,\"#3e4989\"],[0.3333333333333333,\"#31688e\"],[0.4444444444444444,\"#26828e\"],[0.5555555555555556,\"#1f9e89\"],[0.6666666666666666,\"#35b779\"],[0.7777777777777778,\"#6ece58\"],[0.8888888888888888,\"#b5de2b\"],[1.0,\"#fde725\"]],\"type\":\"contour\"}],\"heatmapgl\":[{\"colorbar\":{\"outlinewidth\":1,\"tickcolor\":\"rgb(36,36,36)\",\"ticks\":\"outside\"},\"colorscale\":[[0.0,\"#440154\"],[0.1111111111111111,\"#482878\"],[0.2222222222222222,\"#3e4989\"],[0.3333333333333333,\"#31688e\"],[0.4444444444444444,\"#26828e\"],[0.5555555555555556,\"#1f9e89\"],[0.6666666666666666,\"#35b779\"],[0.7777777777777778,\"#6ece58\"],[0.8888888888888888,\"#b5de2b\"],[1.0,\"#fde725\"]],\"type\":\"heatmapgl\"}],\"heatmap\":[{\"colorbar\":{\"outlinewidth\":1,\"tickcolor\":\"rgb(36,36,36)\",\"ticks\":\"outside\"},\"colorscale\":[[0.0,\"#440154\"],[0.1111111111111111,\"#482878\"],[0.2222222222222222,\"#3e4989\"],[0.3333333333333333,\"#31688e\"],[0.4444444444444444,\"#26828e\"],[0.5555555555555556,\"#1f9e89\"],[0.6666666666666666,\"#35b779\"],[0.7777777777777778,\"#6ece58\"],[0.8888888888888888,\"#b5de2b\"],[1.0,\"#fde725\"]],\"type\":\"heatmap\"}],\"histogram2dcontour\":[{\"colorbar\":{\"outlinewidth\":1,\"tickcolor\":\"rgb(36,36,36)\",\"ticks\":\"outside\"},\"colorscale\":[[0.0,\"#440154\"],[0.1111111111111111,\"#482878\"],[0.2222222222222222,\"#3e4989\"],[0.3333333333333333,\"#31688e\"],[0.4444444444444444,\"#26828e\"],[0.5555555555555556,\"#1f9e89\"],[0.6666666666666666,\"#35b779\"],[0.7777777777777778,\"#6ece58\"],[0.8888888888888888,\"#b5de2b\"],[1.0,\"#fde725\"]],\"type\":\"histogram2dcontour\"}],\"histogram2d\":[{\"colorbar\":{\"outlinewidth\":1,\"tickcolor\":\"rgb(36,36,36)\",\"ticks\":\"outside\"},\"colorscale\":[[0.0,\"#440154\"],[0.1111111111111111,\"#482878\"],[0.2222222222222222,\"#3e4989\"],[0.3333333333333333,\"#31688e\"],[0.4444444444444444,\"#26828e\"],[0.5555555555555556,\"#1f9e89\"],[0.6666666666666666,\"#35b779\"],[0.7777777777777778,\"#6ece58\"],[0.8888888888888888,\"#b5de2b\"],[1.0,\"#fde725\"]],\"type\":\"histogram2d\"}],\"histogram\":[{\"marker\":{\"line\":{\"color\":\"white\",\"width\":0.6}},\"type\":\"histogram\"}],\"mesh3d\":[{\"colorbar\":{\"outlinewidth\":1,\"tickcolor\":\"rgb(36,36,36)\",\"ticks\":\"outside\"},\"type\":\"mesh3d\"}],\"parcoords\":[{\"line\":{\"colorbar\":{\"outlinewidth\":1,\"tickcolor\":\"rgb(36,36,36)\",\"ticks\":\"outside\"}},\"type\":\"parcoords\"}],\"pie\":[{\"automargin\":true,\"type\":\"pie\"}],\"scatter3d\":[{\"line\":{\"colorbar\":{\"outlinewidth\":1,\"tickcolor\":\"rgb(36,36,36)\",\"ticks\":\"outside\"}},\"marker\":{\"colorbar\":{\"outlinewidth\":1,\"tickcolor\":\"rgb(36,36,36)\",\"ticks\":\"outside\"}},\"type\":\"scatter3d\"}],\"scattercarpet\":[{\"marker\":{\"colorbar\":{\"outlinewidth\":1,\"tickcolor\":\"rgb(36,36,36)\",\"ticks\":\"outside\"}},\"type\":\"scattercarpet\"}],\"scattergeo\":[{\"marker\":{\"colorbar\":{\"outlinewidth\":1,\"tickcolor\":\"rgb(36,36,36)\",\"ticks\":\"outside\"}},\"type\":\"scattergeo\"}],\"scattergl\":[{\"marker\":{\"colorbar\":{\"outlinewidth\":1,\"tickcolor\":\"rgb(36,36,36)\",\"ticks\":\"outside\"}},\"type\":\"scattergl\"}],\"scattermapbox\":[{\"marker\":{\"colorbar\":{\"outlinewidth\":1,\"tickcolor\":\"rgb(36,36,36)\",\"ticks\":\"outside\"}},\"type\":\"scattermapbox\"}],\"scatterpolargl\":[{\"marker\":{\"colorbar\":{\"outlinewidth\":1,\"tickcolor\":\"rgb(36,36,36)\",\"ticks\":\"outside\"}},\"type\":\"scatterpolargl\"}],\"scatterpolar\":[{\"marker\":{\"colorbar\":{\"outlinewidth\":1,\"tickcolor\":\"rgb(36,36,36)\",\"ticks\":\"outside\"}},\"type\":\"scatterpolar\"}],\"scatter\":[{\"marker\":{\"colorbar\":{\"outlinewidth\":1,\"tickcolor\":\"rgb(36,36,36)\",\"ticks\":\"outside\"}},\"type\":\"scatter\"}],\"scatterternary\":[{\"marker\":{\"colorbar\":{\"outlinewidth\":1,\"tickcolor\":\"rgb(36,36,36)\",\"ticks\":\"outside\"}},\"type\":\"scatterternary\"}],\"surface\":[{\"colorbar\":{\"outlinewidth\":1,\"tickcolor\":\"rgb(36,36,36)\",\"ticks\":\"outside\"},\"colorscale\":[[0.0,\"#440154\"],[0.1111111111111111,\"#482878\"],[0.2222222222222222,\"#3e4989\"],[0.3333333333333333,\"#31688e\"],[0.4444444444444444,\"#26828e\"],[0.5555555555555556,\"#1f9e89\"],[0.6666666666666666,\"#35b779\"],[0.7777777777777778,\"#6ece58\"],[0.8888888888888888,\"#b5de2b\"],[1.0,\"#fde725\"]],\"type\":\"surface\"}],\"table\":[{\"cells\":{\"fill\":{\"color\":\"rgb(237,237,237)\"},\"line\":{\"color\":\"white\"}},\"header\":{\"fill\":{\"color\":\"rgb(217,217,217)\"},\"line\":{\"color\":\"white\"}},\"type\":\"table\"}]},\"layout\":{\"annotationdefaults\":{\"arrowhead\":0,\"arrowwidth\":1},\"autotypenumbers\":\"strict\",\"coloraxis\":{\"colorbar\":{\"outlinewidth\":1,\"tickcolor\":\"rgb(36,36,36)\",\"ticks\":\"outside\"}},\"colorscale\":{\"diverging\":[[0.0,\"rgb(103,0,31)\"],[0.1,\"rgb(178,24,43)\"],[0.2,\"rgb(214,96,77)\"],[0.3,\"rgb(244,165,130)\"],[0.4,\"rgb(253,219,199)\"],[0.5,\"rgb(247,247,247)\"],[0.6,\"rgb(209,229,240)\"],[0.7,\"rgb(146,197,222)\"],[0.8,\"rgb(67,147,195)\"],[0.9,\"rgb(33,102,172)\"],[1.0,\"rgb(5,48,97)\"]],\"sequential\":[[0.0,\"#440154\"],[0.1111111111111111,\"#482878\"],[0.2222222222222222,\"#3e4989\"],[0.3333333333333333,\"#31688e\"],[0.4444444444444444,\"#26828e\"],[0.5555555555555556,\"#1f9e89\"],[0.6666666666666666,\"#35b779\"],[0.7777777777777778,\"#6ece58\"],[0.8888888888888888,\"#b5de2b\"],[1.0,\"#fde725\"]],\"sequentialminus\":[[0.0,\"#440154\"],[0.1111111111111111,\"#482878\"],[0.2222222222222222,\"#3e4989\"],[0.3333333333333333,\"#31688e\"],[0.4444444444444444,\"#26828e\"],[0.5555555555555556,\"#1f9e89\"],[0.6666666666666666,\"#35b779\"],[0.7777777777777778,\"#6ece58\"],[0.8888888888888888,\"#b5de2b\"],[1.0,\"#fde725\"]]},\"colorway\":[\"#1F77B4\",\"#FF7F0E\",\"#2CA02C\",\"#D62728\",\"#9467BD\",\"#8C564B\",\"#E377C2\",\"#7F7F7F\",\"#BCBD22\",\"#17BECF\"],\"font\":{\"color\":\"rgb(36,36,36)\"},\"geo\":{\"bgcolor\":\"white\",\"lakecolor\":\"white\",\"landcolor\":\"white\",\"showlakes\":true,\"showland\":true,\"subunitcolor\":\"white\"},\"hoverlabel\":{\"align\":\"left\"},\"hovermode\":\"closest\",\"mapbox\":{\"style\":\"light\"},\"paper_bgcolor\":\"white\",\"plot_bgcolor\":\"white\",\"polar\":{\"angularaxis\":{\"gridcolor\":\"rgb(232,232,232)\",\"linecolor\":\"rgb(36,36,36)\",\"showgrid\":false,\"showline\":true,\"ticks\":\"outside\"},\"bgcolor\":\"white\",\"radialaxis\":{\"gridcolor\":\"rgb(232,232,232)\",\"linecolor\":\"rgb(36,36,36)\",\"showgrid\":false,\"showline\":true,\"ticks\":\"outside\"}},\"scene\":{\"xaxis\":{\"backgroundcolor\":\"white\",\"gridcolor\":\"rgb(232,232,232)\",\"gridwidth\":2,\"linecolor\":\"rgb(36,36,36)\",\"showbackground\":true,\"showgrid\":false,\"showline\":true,\"ticks\":\"outside\",\"zeroline\":false,\"zerolinecolor\":\"rgb(36,36,36)\"},\"yaxis\":{\"backgroundcolor\":\"white\",\"gridcolor\":\"rgb(232,232,232)\",\"gridwidth\":2,\"linecolor\":\"rgb(36,36,36)\",\"showbackground\":true,\"showgrid\":false,\"showline\":true,\"ticks\":\"outside\",\"zeroline\":false,\"zerolinecolor\":\"rgb(36,36,36)\"},\"zaxis\":{\"backgroundcolor\":\"white\",\"gridcolor\":\"rgb(232,232,232)\",\"gridwidth\":2,\"linecolor\":\"rgb(36,36,36)\",\"showbackground\":true,\"showgrid\":false,\"showline\":true,\"ticks\":\"outside\",\"zeroline\":false,\"zerolinecolor\":\"rgb(36,36,36)\"}},\"shapedefaults\":{\"fillcolor\":\"black\",\"line\":{\"width\":0},\"opacity\":0.3},\"ternary\":{\"aaxis\":{\"gridcolor\":\"rgb(232,232,232)\",\"linecolor\":\"rgb(36,36,36)\",\"showgrid\":false,\"showline\":true,\"ticks\":\"outside\"},\"baxis\":{\"gridcolor\":\"rgb(232,232,232)\",\"linecolor\":\"rgb(36,36,36)\",\"showgrid\":false,\"showline\":true,\"ticks\":\"outside\"},\"bgcolor\":\"white\",\"caxis\":{\"gridcolor\":\"rgb(232,232,232)\",\"linecolor\":\"rgb(36,36,36)\",\"showgrid\":false,\"showline\":true,\"ticks\":\"outside\"}},\"title\":{\"x\":0.05},\"xaxis\":{\"automargin\":true,\"gridcolor\":\"rgb(232,232,232)\",\"linecolor\":\"rgb(36,36,36)\",\"showgrid\":false,\"showline\":true,\"ticks\":\"outside\",\"title\":{\"standoff\":15},\"zeroline\":false,\"zerolinecolor\":\"rgb(36,36,36)\"},\"yaxis\":{\"automargin\":true,\"gridcolor\":\"rgb(232,232,232)\",\"linecolor\":\"rgb(36,36,36)\",\"showgrid\":false,\"showline\":true,\"ticks\":\"outside\",\"title\":{\"standoff\":15},\"zeroline\":false,\"zerolinecolor\":\"rgb(36,36,36)\"}}},\"xaxis\":{\"anchor\":\"y\",\"domain\":[0.0,1.0],\"title\":{\"text\":\"Revenue, Thousand Rubles\"}},\"yaxis\":{\"anchor\":\"x\",\"domain\":[0.0,1.0],\"title\":{\"text\":\"Product Category\"}},\"legend\":{\"tracegroupgap\":0},\"margin\":{\"t\":60},\"barmode\":\"relative\",\"title\":{\"text\":\"Total Revenue by Category\"},\"width\":650,\"height\":400},                        {\"responsive\": true}                    ).then(function(){\n",
       "                            \n",
       "var gd = document.getElementById('c6604400-fb08-491b-bcde-d693a1489ecf');\n",
       "var x = new MutationObserver(function (mutations, observer) {{\n",
       "        var display = window.getComputedStyle(gd).display;\n",
       "        if (!display || display === 'none') {{\n",
       "            console.log([gd, 'removed!']);\n",
       "            Plotly.purge(gd);\n",
       "            observer.disconnect();\n",
       "        }}\n",
       "}});\n",
       "\n",
       "// Listen for the removal of the full notebook cells\n",
       "var notebookContainer = gd.closest('#notebook-container');\n",
       "if (notebookContainer) {{\n",
       "    x.observe(notebookContainer, {childList: true});\n",
       "}}\n",
       "\n",
       "// Listen for the clearing of the current output cell\n",
       "var outputEl = gd.closest('.output');\n",
       "if (outputEl) {{\n",
       "    x.observe(outputEl, {childList: true});\n",
       "}}\n",
       "\n",
       "                        })                };                });            </script>        </div>"
      ]
     },
     "metadata": {},
     "output_type": "display_data"
    },
    {
     "data": {
      "application/vnd.plotly.v1+json": {
       "config": {
        "plotlyServerURL": "https://plot.ly"
       },
       "data": [
        {
         "alignmentgroup": "True",
         "hovertemplate": "price=%{text}<br>category=%{y}<extra></extra>",
         "legendgroup": "",
         "marker": {
          "color": "rgb(102,194,165)",
          "pattern": {
           "shape": ""
          }
         },
         "name": "",
         "offsetgroup": "",
         "orientation": "h",
         "showlegend": false,
         "text": [
          52,
          60,
          112,
          142,
          149,
          188,
          374,
          652,
          712,
          1087
         ],
         "textposition": "auto",
         "type": "bar",
         "x": [
          52,
          60,
          112,
          142,
          149,
          188,
          374,
          652,
          712,
          1087
         ],
         "xaxis": "x",
         "y": [
          "Artificial Flowers and Imitations",
          "Vegetable and Berry Seedlings",
          "Flower Seedlings and Seeds",
          "For Celebrations",
          "Houseplants",
          "Kitchen",
          "Household Goods and Cleaning Supplies",
          "Laundry and Ironing",
          "Textiles",
          "Trolleys and Bags"
         ],
         "yaxis": "y"
        }
       ],
       "layout": {
        "barmode": "relative",
        "height": 400,
        "legend": {
         "tracegroupgap": 0
        },
        "margin": {
         "t": 60
        },
        "template": {
         "data": {
          "bar": [
           {
            "error_x": {
             "color": "rgb(36,36,36)"
            },
            "error_y": {
             "color": "rgb(36,36,36)"
            },
            "marker": {
             "line": {
              "color": "white",
              "width": 0.5
             },
             "pattern": {
              "fillmode": "overlay",
              "size": 10,
              "solidity": 0.2
             }
            },
            "type": "bar"
           }
          ],
          "barpolar": [
           {
            "marker": {
             "line": {
              "color": "white",
              "width": 0.5
             },
             "pattern": {
              "fillmode": "overlay",
              "size": 10,
              "solidity": 0.2
             }
            },
            "type": "barpolar"
           }
          ],
          "carpet": [
           {
            "aaxis": {
             "endlinecolor": "rgb(36,36,36)",
             "gridcolor": "white",
             "linecolor": "white",
             "minorgridcolor": "white",
             "startlinecolor": "rgb(36,36,36)"
            },
            "baxis": {
             "endlinecolor": "rgb(36,36,36)",
             "gridcolor": "white",
             "linecolor": "white",
             "minorgridcolor": "white",
             "startlinecolor": "rgb(36,36,36)"
            },
            "type": "carpet"
           }
          ],
          "choropleth": [
           {
            "colorbar": {
             "outlinewidth": 1,
             "tickcolor": "rgb(36,36,36)",
             "ticks": "outside"
            },
            "type": "choropleth"
           }
          ],
          "contour": [
           {
            "colorbar": {
             "outlinewidth": 1,
             "tickcolor": "rgb(36,36,36)",
             "ticks": "outside"
            },
            "colorscale": [
             [
              0,
              "#440154"
             ],
             [
              0.1111111111111111,
              "#482878"
             ],
             [
              0.2222222222222222,
              "#3e4989"
             ],
             [
              0.3333333333333333,
              "#31688e"
             ],
             [
              0.4444444444444444,
              "#26828e"
             ],
             [
              0.5555555555555556,
              "#1f9e89"
             ],
             [
              0.6666666666666666,
              "#35b779"
             ],
             [
              0.7777777777777778,
              "#6ece58"
             ],
             [
              0.8888888888888888,
              "#b5de2b"
             ],
             [
              1,
              "#fde725"
             ]
            ],
            "type": "contour"
           }
          ],
          "contourcarpet": [
           {
            "colorbar": {
             "outlinewidth": 1,
             "tickcolor": "rgb(36,36,36)",
             "ticks": "outside"
            },
            "type": "contourcarpet"
           }
          ],
          "heatmap": [
           {
            "colorbar": {
             "outlinewidth": 1,
             "tickcolor": "rgb(36,36,36)",
             "ticks": "outside"
            },
            "colorscale": [
             [
              0,
              "#440154"
             ],
             [
              0.1111111111111111,
              "#482878"
             ],
             [
              0.2222222222222222,
              "#3e4989"
             ],
             [
              0.3333333333333333,
              "#31688e"
             ],
             [
              0.4444444444444444,
              "#26828e"
             ],
             [
              0.5555555555555556,
              "#1f9e89"
             ],
             [
              0.6666666666666666,
              "#35b779"
             ],
             [
              0.7777777777777778,
              "#6ece58"
             ],
             [
              0.8888888888888888,
              "#b5de2b"
             ],
             [
              1,
              "#fde725"
             ]
            ],
            "type": "heatmap"
           }
          ],
          "heatmapgl": [
           {
            "colorbar": {
             "outlinewidth": 1,
             "tickcolor": "rgb(36,36,36)",
             "ticks": "outside"
            },
            "colorscale": [
             [
              0,
              "#440154"
             ],
             [
              0.1111111111111111,
              "#482878"
             ],
             [
              0.2222222222222222,
              "#3e4989"
             ],
             [
              0.3333333333333333,
              "#31688e"
             ],
             [
              0.4444444444444444,
              "#26828e"
             ],
             [
              0.5555555555555556,
              "#1f9e89"
             ],
             [
              0.6666666666666666,
              "#35b779"
             ],
             [
              0.7777777777777778,
              "#6ece58"
             ],
             [
              0.8888888888888888,
              "#b5de2b"
             ],
             [
              1,
              "#fde725"
             ]
            ],
            "type": "heatmapgl"
           }
          ],
          "histogram": [
           {
            "marker": {
             "line": {
              "color": "white",
              "width": 0.6
             }
            },
            "type": "histogram"
           }
          ],
          "histogram2d": [
           {
            "colorbar": {
             "outlinewidth": 1,
             "tickcolor": "rgb(36,36,36)",
             "ticks": "outside"
            },
            "colorscale": [
             [
              0,
              "#440154"
             ],
             [
              0.1111111111111111,
              "#482878"
             ],
             [
              0.2222222222222222,
              "#3e4989"
             ],
             [
              0.3333333333333333,
              "#31688e"
             ],
             [
              0.4444444444444444,
              "#26828e"
             ],
             [
              0.5555555555555556,
              "#1f9e89"
             ],
             [
              0.6666666666666666,
              "#35b779"
             ],
             [
              0.7777777777777778,
              "#6ece58"
             ],
             [
              0.8888888888888888,
              "#b5de2b"
             ],
             [
              1,
              "#fde725"
             ]
            ],
            "type": "histogram2d"
           }
          ],
          "histogram2dcontour": [
           {
            "colorbar": {
             "outlinewidth": 1,
             "tickcolor": "rgb(36,36,36)",
             "ticks": "outside"
            },
            "colorscale": [
             [
              0,
              "#440154"
             ],
             [
              0.1111111111111111,
              "#482878"
             ],
             [
              0.2222222222222222,
              "#3e4989"
             ],
             [
              0.3333333333333333,
              "#31688e"
             ],
             [
              0.4444444444444444,
              "#26828e"
             ],
             [
              0.5555555555555556,
              "#1f9e89"
             ],
             [
              0.6666666666666666,
              "#35b779"
             ],
             [
              0.7777777777777778,
              "#6ece58"
             ],
             [
              0.8888888888888888,
              "#b5de2b"
             ],
             [
              1,
              "#fde725"
             ]
            ],
            "type": "histogram2dcontour"
           }
          ],
          "mesh3d": [
           {
            "colorbar": {
             "outlinewidth": 1,
             "tickcolor": "rgb(36,36,36)",
             "ticks": "outside"
            },
            "type": "mesh3d"
           }
          ],
          "parcoords": [
           {
            "line": {
             "colorbar": {
              "outlinewidth": 1,
              "tickcolor": "rgb(36,36,36)",
              "ticks": "outside"
             }
            },
            "type": "parcoords"
           }
          ],
          "pie": [
           {
            "automargin": true,
            "type": "pie"
           }
          ],
          "scatter": [
           {
            "marker": {
             "colorbar": {
              "outlinewidth": 1,
              "tickcolor": "rgb(36,36,36)",
              "ticks": "outside"
             }
            },
            "type": "scatter"
           }
          ],
          "scatter3d": [
           {
            "line": {
             "colorbar": {
              "outlinewidth": 1,
              "tickcolor": "rgb(36,36,36)",
              "ticks": "outside"
             }
            },
            "marker": {
             "colorbar": {
              "outlinewidth": 1,
              "tickcolor": "rgb(36,36,36)",
              "ticks": "outside"
             }
            },
            "type": "scatter3d"
           }
          ],
          "scattercarpet": [
           {
            "marker": {
             "colorbar": {
              "outlinewidth": 1,
              "tickcolor": "rgb(36,36,36)",
              "ticks": "outside"
             }
            },
            "type": "scattercarpet"
           }
          ],
          "scattergeo": [
           {
            "marker": {
             "colorbar": {
              "outlinewidth": 1,
              "tickcolor": "rgb(36,36,36)",
              "ticks": "outside"
             }
            },
            "type": "scattergeo"
           }
          ],
          "scattergl": [
           {
            "marker": {
             "colorbar": {
              "outlinewidth": 1,
              "tickcolor": "rgb(36,36,36)",
              "ticks": "outside"
             }
            },
            "type": "scattergl"
           }
          ],
          "scattermapbox": [
           {
            "marker": {
             "colorbar": {
              "outlinewidth": 1,
              "tickcolor": "rgb(36,36,36)",
              "ticks": "outside"
             }
            },
            "type": "scattermapbox"
           }
          ],
          "scatterpolar": [
           {
            "marker": {
             "colorbar": {
              "outlinewidth": 1,
              "tickcolor": "rgb(36,36,36)",
              "ticks": "outside"
             }
            },
            "type": "scatterpolar"
           }
          ],
          "scatterpolargl": [
           {
            "marker": {
             "colorbar": {
              "outlinewidth": 1,
              "tickcolor": "rgb(36,36,36)",
              "ticks": "outside"
             }
            },
            "type": "scatterpolargl"
           }
          ],
          "scatterternary": [
           {
            "marker": {
             "colorbar": {
              "outlinewidth": 1,
              "tickcolor": "rgb(36,36,36)",
              "ticks": "outside"
             }
            },
            "type": "scatterternary"
           }
          ],
          "surface": [
           {
            "colorbar": {
             "outlinewidth": 1,
             "tickcolor": "rgb(36,36,36)",
             "ticks": "outside"
            },
            "colorscale": [
             [
              0,
              "#440154"
             ],
             [
              0.1111111111111111,
              "#482878"
             ],
             [
              0.2222222222222222,
              "#3e4989"
             ],
             [
              0.3333333333333333,
              "#31688e"
             ],
             [
              0.4444444444444444,
              "#26828e"
             ],
             [
              0.5555555555555556,
              "#1f9e89"
             ],
             [
              0.6666666666666666,
              "#35b779"
             ],
             [
              0.7777777777777778,
              "#6ece58"
             ],
             [
              0.8888888888888888,
              "#b5de2b"
             ],
             [
              1,
              "#fde725"
             ]
            ],
            "type": "surface"
           }
          ],
          "table": [
           {
            "cells": {
             "fill": {
              "color": "rgb(237,237,237)"
             },
             "line": {
              "color": "white"
             }
            },
            "header": {
             "fill": {
              "color": "rgb(217,217,217)"
             },
             "line": {
              "color": "white"
             }
            },
            "type": "table"
           }
          ]
         },
         "layout": {
          "annotationdefaults": {
           "arrowhead": 0,
           "arrowwidth": 1
          },
          "autotypenumbers": "strict",
          "coloraxis": {
           "colorbar": {
            "outlinewidth": 1,
            "tickcolor": "rgb(36,36,36)",
            "ticks": "outside"
           }
          },
          "colorscale": {
           "diverging": [
            [
             0,
             "rgb(103,0,31)"
            ],
            [
             0.1,
             "rgb(178,24,43)"
            ],
            [
             0.2,
             "rgb(214,96,77)"
            ],
            [
             0.3,
             "rgb(244,165,130)"
            ],
            [
             0.4,
             "rgb(253,219,199)"
            ],
            [
             0.5,
             "rgb(247,247,247)"
            ],
            [
             0.6,
             "rgb(209,229,240)"
            ],
            [
             0.7,
             "rgb(146,197,222)"
            ],
            [
             0.8,
             "rgb(67,147,195)"
            ],
            [
             0.9,
             "rgb(33,102,172)"
            ],
            [
             1,
             "rgb(5,48,97)"
            ]
           ],
           "sequential": [
            [
             0,
             "#440154"
            ],
            [
             0.1111111111111111,
             "#482878"
            ],
            [
             0.2222222222222222,
             "#3e4989"
            ],
            [
             0.3333333333333333,
             "#31688e"
            ],
            [
             0.4444444444444444,
             "#26828e"
            ],
            [
             0.5555555555555556,
             "#1f9e89"
            ],
            [
             0.6666666666666666,
             "#35b779"
            ],
            [
             0.7777777777777778,
             "#6ece58"
            ],
            [
             0.8888888888888888,
             "#b5de2b"
            ],
            [
             1,
             "#fde725"
            ]
           ],
           "sequentialminus": [
            [
             0,
             "#440154"
            ],
            [
             0.1111111111111111,
             "#482878"
            ],
            [
             0.2222222222222222,
             "#3e4989"
            ],
            [
             0.3333333333333333,
             "#31688e"
            ],
            [
             0.4444444444444444,
             "#26828e"
            ],
            [
             0.5555555555555556,
             "#1f9e89"
            ],
            [
             0.6666666666666666,
             "#35b779"
            ],
            [
             0.7777777777777778,
             "#6ece58"
            ],
            [
             0.8888888888888888,
             "#b5de2b"
            ],
            [
             1,
             "#fde725"
            ]
           ]
          },
          "colorway": [
           "#1F77B4",
           "#FF7F0E",
           "#2CA02C",
           "#D62728",
           "#9467BD",
           "#8C564B",
           "#E377C2",
           "#7F7F7F",
           "#BCBD22",
           "#17BECF"
          ],
          "font": {
           "color": "rgb(36,36,36)"
          },
          "geo": {
           "bgcolor": "white",
           "lakecolor": "white",
           "landcolor": "white",
           "showlakes": true,
           "showland": true,
           "subunitcolor": "white"
          },
          "hoverlabel": {
           "align": "left"
          },
          "hovermode": "closest",
          "mapbox": {
           "style": "light"
          },
          "paper_bgcolor": "white",
          "plot_bgcolor": "white",
          "polar": {
           "angularaxis": {
            "gridcolor": "rgb(232,232,232)",
            "linecolor": "rgb(36,36,36)",
            "showgrid": false,
            "showline": true,
            "ticks": "outside"
           },
           "bgcolor": "white",
           "radialaxis": {
            "gridcolor": "rgb(232,232,232)",
            "linecolor": "rgb(36,36,36)",
            "showgrid": false,
            "showline": true,
            "ticks": "outside"
           }
          },
          "scene": {
           "xaxis": {
            "backgroundcolor": "white",
            "gridcolor": "rgb(232,232,232)",
            "gridwidth": 2,
            "linecolor": "rgb(36,36,36)",
            "showbackground": true,
            "showgrid": false,
            "showline": true,
            "ticks": "outside",
            "zeroline": false,
            "zerolinecolor": "rgb(36,36,36)"
           },
           "yaxis": {
            "backgroundcolor": "white",
            "gridcolor": "rgb(232,232,232)",
            "gridwidth": 2,
            "linecolor": "rgb(36,36,36)",
            "showbackground": true,
            "showgrid": false,
            "showline": true,
            "ticks": "outside",
            "zeroline": false,
            "zerolinecolor": "rgb(36,36,36)"
           },
           "zaxis": {
            "backgroundcolor": "white",
            "gridcolor": "rgb(232,232,232)",
            "gridwidth": 2,
            "linecolor": "rgb(36,36,36)",
            "showbackground": true,
            "showgrid": false,
            "showline": true,
            "ticks": "outside",
            "zeroline": false,
            "zerolinecolor": "rgb(36,36,36)"
           }
          },
          "shapedefaults": {
           "fillcolor": "black",
           "line": {
            "width": 0
           },
           "opacity": 0.3
          },
          "ternary": {
           "aaxis": {
            "gridcolor": "rgb(232,232,232)",
            "linecolor": "rgb(36,36,36)",
            "showgrid": false,
            "showline": true,
            "ticks": "outside"
           },
           "baxis": {
            "gridcolor": "rgb(232,232,232)",
            "linecolor": "rgb(36,36,36)",
            "showgrid": false,
            "showline": true,
            "ticks": "outside"
           },
           "bgcolor": "white",
           "caxis": {
            "gridcolor": "rgb(232,232,232)",
            "linecolor": "rgb(36,36,36)",
            "showgrid": false,
            "showline": true,
            "ticks": "outside"
           }
          },
          "title": {
           "x": 0.05
          },
          "xaxis": {
           "automargin": true,
           "gridcolor": "rgb(232,232,232)",
           "linecolor": "rgb(36,36,36)",
           "showgrid": false,
           "showline": true,
           "ticks": "outside",
           "title": {
            "standoff": 15
           },
           "zeroline": false,
           "zerolinecolor": "rgb(36,36,36)"
          },
          "yaxis": {
           "automargin": true,
           "gridcolor": "rgb(232,232,232)",
           "linecolor": "rgb(36,36,36)",
           "showgrid": false,
           "showline": true,
           "ticks": "outside",
           "title": {
            "standoff": 15
           },
           "zeroline": false,
           "zerolinecolor": "rgb(36,36,36)"
          }
         }
        },
        "title": {
         "text": "Median Product Price by Category"
        },
        "width": 650,
        "xaxis": {
         "anchor": "y",
         "domain": [
          0,
          1
         ],
         "title": {
          "text": "Median Price"
         }
        },
        "yaxis": {
         "anchor": "x",
         "domain": [
          0,
          1
         ],
         "title": {
          "text": "Product Category"
         }
        }
       }
      },
      "text/html": [
       "<div>                            <div id=\"bc93d912-cbcc-449e-8704-2c2bfa37ad50\" class=\"plotly-graph-div\" style=\"height:400px; width:650px;\"></div>            <script type=\"text/javascript\">                require([\"plotly\"], function(Plotly) {                    window.PLOTLYENV=window.PLOTLYENV || {};                                    if (document.getElementById(\"bc93d912-cbcc-449e-8704-2c2bfa37ad50\")) {                    Plotly.newPlot(                        \"bc93d912-cbcc-449e-8704-2c2bfa37ad50\",                        [{\"alignmentgroup\":\"True\",\"hovertemplate\":\"price=%{text}<br>category=%{y}<extra></extra>\",\"legendgroup\":\"\",\"marker\":{\"color\":\"rgb(102,194,165)\",\"pattern\":{\"shape\":\"\"}},\"name\":\"\",\"offsetgroup\":\"\",\"orientation\":\"h\",\"showlegend\":false,\"text\":[52.0,60.0,112.0,142.0,149.0,188.0,374.0,652.0,712.0,1087.0],\"textposition\":\"auto\",\"x\":[52.0,60.0,112.0,142.0,149.0,188.0,374.0,652.0,712.0,1087.0],\"xaxis\":\"x\",\"y\":[\"Artificial Flowers and Imitations\",\"Vegetable and Berry Seedlings\",\"Flower Seedlings and Seeds\",\"For Celebrations\",\"Houseplants\",\"Kitchen\",\"Household Goods and Cleaning Supplies\",\"Laundry and Ironing\",\"Textiles\",\"Trolleys and Bags\"],\"yaxis\":\"y\",\"type\":\"bar\"}],                        {\"template\":{\"data\":{\"barpolar\":[{\"marker\":{\"line\":{\"color\":\"white\",\"width\":0.5},\"pattern\":{\"fillmode\":\"overlay\",\"size\":10,\"solidity\":0.2}},\"type\":\"barpolar\"}],\"bar\":[{\"error_x\":{\"color\":\"rgb(36,36,36)\"},\"error_y\":{\"color\":\"rgb(36,36,36)\"},\"marker\":{\"line\":{\"color\":\"white\",\"width\":0.5},\"pattern\":{\"fillmode\":\"overlay\",\"size\":10,\"solidity\":0.2}},\"type\":\"bar\"}],\"carpet\":[{\"aaxis\":{\"endlinecolor\":\"rgb(36,36,36)\",\"gridcolor\":\"white\",\"linecolor\":\"white\",\"minorgridcolor\":\"white\",\"startlinecolor\":\"rgb(36,36,36)\"},\"baxis\":{\"endlinecolor\":\"rgb(36,36,36)\",\"gridcolor\":\"white\",\"linecolor\":\"white\",\"minorgridcolor\":\"white\",\"startlinecolor\":\"rgb(36,36,36)\"},\"type\":\"carpet\"}],\"choropleth\":[{\"colorbar\":{\"outlinewidth\":1,\"tickcolor\":\"rgb(36,36,36)\",\"ticks\":\"outside\"},\"type\":\"choropleth\"}],\"contourcarpet\":[{\"colorbar\":{\"outlinewidth\":1,\"tickcolor\":\"rgb(36,36,36)\",\"ticks\":\"outside\"},\"type\":\"contourcarpet\"}],\"contour\":[{\"colorbar\":{\"outlinewidth\":1,\"tickcolor\":\"rgb(36,36,36)\",\"ticks\":\"outside\"},\"colorscale\":[[0.0,\"#440154\"],[0.1111111111111111,\"#482878\"],[0.2222222222222222,\"#3e4989\"],[0.3333333333333333,\"#31688e\"],[0.4444444444444444,\"#26828e\"],[0.5555555555555556,\"#1f9e89\"],[0.6666666666666666,\"#35b779\"],[0.7777777777777778,\"#6ece58\"],[0.8888888888888888,\"#b5de2b\"],[1.0,\"#fde725\"]],\"type\":\"contour\"}],\"heatmapgl\":[{\"colorbar\":{\"outlinewidth\":1,\"tickcolor\":\"rgb(36,36,36)\",\"ticks\":\"outside\"},\"colorscale\":[[0.0,\"#440154\"],[0.1111111111111111,\"#482878\"],[0.2222222222222222,\"#3e4989\"],[0.3333333333333333,\"#31688e\"],[0.4444444444444444,\"#26828e\"],[0.5555555555555556,\"#1f9e89\"],[0.6666666666666666,\"#35b779\"],[0.7777777777777778,\"#6ece58\"],[0.8888888888888888,\"#b5de2b\"],[1.0,\"#fde725\"]],\"type\":\"heatmapgl\"}],\"heatmap\":[{\"colorbar\":{\"outlinewidth\":1,\"tickcolor\":\"rgb(36,36,36)\",\"ticks\":\"outside\"},\"colorscale\":[[0.0,\"#440154\"],[0.1111111111111111,\"#482878\"],[0.2222222222222222,\"#3e4989\"],[0.3333333333333333,\"#31688e\"],[0.4444444444444444,\"#26828e\"],[0.5555555555555556,\"#1f9e89\"],[0.6666666666666666,\"#35b779\"],[0.7777777777777778,\"#6ece58\"],[0.8888888888888888,\"#b5de2b\"],[1.0,\"#fde725\"]],\"type\":\"heatmap\"}],\"histogram2dcontour\":[{\"colorbar\":{\"outlinewidth\":1,\"tickcolor\":\"rgb(36,36,36)\",\"ticks\":\"outside\"},\"colorscale\":[[0.0,\"#440154\"],[0.1111111111111111,\"#482878\"],[0.2222222222222222,\"#3e4989\"],[0.3333333333333333,\"#31688e\"],[0.4444444444444444,\"#26828e\"],[0.5555555555555556,\"#1f9e89\"],[0.6666666666666666,\"#35b779\"],[0.7777777777777778,\"#6ece58\"],[0.8888888888888888,\"#b5de2b\"],[1.0,\"#fde725\"]],\"type\":\"histogram2dcontour\"}],\"histogram2d\":[{\"colorbar\":{\"outlinewidth\":1,\"tickcolor\":\"rgb(36,36,36)\",\"ticks\":\"outside\"},\"colorscale\":[[0.0,\"#440154\"],[0.1111111111111111,\"#482878\"],[0.2222222222222222,\"#3e4989\"],[0.3333333333333333,\"#31688e\"],[0.4444444444444444,\"#26828e\"],[0.5555555555555556,\"#1f9e89\"],[0.6666666666666666,\"#35b779\"],[0.7777777777777778,\"#6ece58\"],[0.8888888888888888,\"#b5de2b\"],[1.0,\"#fde725\"]],\"type\":\"histogram2d\"}],\"histogram\":[{\"marker\":{\"line\":{\"color\":\"white\",\"width\":0.6}},\"type\":\"histogram\"}],\"mesh3d\":[{\"colorbar\":{\"outlinewidth\":1,\"tickcolor\":\"rgb(36,36,36)\",\"ticks\":\"outside\"},\"type\":\"mesh3d\"}],\"parcoords\":[{\"line\":{\"colorbar\":{\"outlinewidth\":1,\"tickcolor\":\"rgb(36,36,36)\",\"ticks\":\"outside\"}},\"type\":\"parcoords\"}],\"pie\":[{\"automargin\":true,\"type\":\"pie\"}],\"scatter3d\":[{\"line\":{\"colorbar\":{\"outlinewidth\":1,\"tickcolor\":\"rgb(36,36,36)\",\"ticks\":\"outside\"}},\"marker\":{\"colorbar\":{\"outlinewidth\":1,\"tickcolor\":\"rgb(36,36,36)\",\"ticks\":\"outside\"}},\"type\":\"scatter3d\"}],\"scattercarpet\":[{\"marker\":{\"colorbar\":{\"outlinewidth\":1,\"tickcolor\":\"rgb(36,36,36)\",\"ticks\":\"outside\"}},\"type\":\"scattercarpet\"}],\"scattergeo\":[{\"marker\":{\"colorbar\":{\"outlinewidth\":1,\"tickcolor\":\"rgb(36,36,36)\",\"ticks\":\"outside\"}},\"type\":\"scattergeo\"}],\"scattergl\":[{\"marker\":{\"colorbar\":{\"outlinewidth\":1,\"tickcolor\":\"rgb(36,36,36)\",\"ticks\":\"outside\"}},\"type\":\"scattergl\"}],\"scattermapbox\":[{\"marker\":{\"colorbar\":{\"outlinewidth\":1,\"tickcolor\":\"rgb(36,36,36)\",\"ticks\":\"outside\"}},\"type\":\"scattermapbox\"}],\"scatterpolargl\":[{\"marker\":{\"colorbar\":{\"outlinewidth\":1,\"tickcolor\":\"rgb(36,36,36)\",\"ticks\":\"outside\"}},\"type\":\"scatterpolargl\"}],\"scatterpolar\":[{\"marker\":{\"colorbar\":{\"outlinewidth\":1,\"tickcolor\":\"rgb(36,36,36)\",\"ticks\":\"outside\"}},\"type\":\"scatterpolar\"}],\"scatter\":[{\"marker\":{\"colorbar\":{\"outlinewidth\":1,\"tickcolor\":\"rgb(36,36,36)\",\"ticks\":\"outside\"}},\"type\":\"scatter\"}],\"scatterternary\":[{\"marker\":{\"colorbar\":{\"outlinewidth\":1,\"tickcolor\":\"rgb(36,36,36)\",\"ticks\":\"outside\"}},\"type\":\"scatterternary\"}],\"surface\":[{\"colorbar\":{\"outlinewidth\":1,\"tickcolor\":\"rgb(36,36,36)\",\"ticks\":\"outside\"},\"colorscale\":[[0.0,\"#440154\"],[0.1111111111111111,\"#482878\"],[0.2222222222222222,\"#3e4989\"],[0.3333333333333333,\"#31688e\"],[0.4444444444444444,\"#26828e\"],[0.5555555555555556,\"#1f9e89\"],[0.6666666666666666,\"#35b779\"],[0.7777777777777778,\"#6ece58\"],[0.8888888888888888,\"#b5de2b\"],[1.0,\"#fde725\"]],\"type\":\"surface\"}],\"table\":[{\"cells\":{\"fill\":{\"color\":\"rgb(237,237,237)\"},\"line\":{\"color\":\"white\"}},\"header\":{\"fill\":{\"color\":\"rgb(217,217,217)\"},\"line\":{\"color\":\"white\"}},\"type\":\"table\"}]},\"layout\":{\"annotationdefaults\":{\"arrowhead\":0,\"arrowwidth\":1},\"autotypenumbers\":\"strict\",\"coloraxis\":{\"colorbar\":{\"outlinewidth\":1,\"tickcolor\":\"rgb(36,36,36)\",\"ticks\":\"outside\"}},\"colorscale\":{\"diverging\":[[0.0,\"rgb(103,0,31)\"],[0.1,\"rgb(178,24,43)\"],[0.2,\"rgb(214,96,77)\"],[0.3,\"rgb(244,165,130)\"],[0.4,\"rgb(253,219,199)\"],[0.5,\"rgb(247,247,247)\"],[0.6,\"rgb(209,229,240)\"],[0.7,\"rgb(146,197,222)\"],[0.8,\"rgb(67,147,195)\"],[0.9,\"rgb(33,102,172)\"],[1.0,\"rgb(5,48,97)\"]],\"sequential\":[[0.0,\"#440154\"],[0.1111111111111111,\"#482878\"],[0.2222222222222222,\"#3e4989\"],[0.3333333333333333,\"#31688e\"],[0.4444444444444444,\"#26828e\"],[0.5555555555555556,\"#1f9e89\"],[0.6666666666666666,\"#35b779\"],[0.7777777777777778,\"#6ece58\"],[0.8888888888888888,\"#b5de2b\"],[1.0,\"#fde725\"]],\"sequentialminus\":[[0.0,\"#440154\"],[0.1111111111111111,\"#482878\"],[0.2222222222222222,\"#3e4989\"],[0.3333333333333333,\"#31688e\"],[0.4444444444444444,\"#26828e\"],[0.5555555555555556,\"#1f9e89\"],[0.6666666666666666,\"#35b779\"],[0.7777777777777778,\"#6ece58\"],[0.8888888888888888,\"#b5de2b\"],[1.0,\"#fde725\"]]},\"colorway\":[\"#1F77B4\",\"#FF7F0E\",\"#2CA02C\",\"#D62728\",\"#9467BD\",\"#8C564B\",\"#E377C2\",\"#7F7F7F\",\"#BCBD22\",\"#17BECF\"],\"font\":{\"color\":\"rgb(36,36,36)\"},\"geo\":{\"bgcolor\":\"white\",\"lakecolor\":\"white\",\"landcolor\":\"white\",\"showlakes\":true,\"showland\":true,\"subunitcolor\":\"white\"},\"hoverlabel\":{\"align\":\"left\"},\"hovermode\":\"closest\",\"mapbox\":{\"style\":\"light\"},\"paper_bgcolor\":\"white\",\"plot_bgcolor\":\"white\",\"polar\":{\"angularaxis\":{\"gridcolor\":\"rgb(232,232,232)\",\"linecolor\":\"rgb(36,36,36)\",\"showgrid\":false,\"showline\":true,\"ticks\":\"outside\"},\"bgcolor\":\"white\",\"radialaxis\":{\"gridcolor\":\"rgb(232,232,232)\",\"linecolor\":\"rgb(36,36,36)\",\"showgrid\":false,\"showline\":true,\"ticks\":\"outside\"}},\"scene\":{\"xaxis\":{\"backgroundcolor\":\"white\",\"gridcolor\":\"rgb(232,232,232)\",\"gridwidth\":2,\"linecolor\":\"rgb(36,36,36)\",\"showbackground\":true,\"showgrid\":false,\"showline\":true,\"ticks\":\"outside\",\"zeroline\":false,\"zerolinecolor\":\"rgb(36,36,36)\"},\"yaxis\":{\"backgroundcolor\":\"white\",\"gridcolor\":\"rgb(232,232,232)\",\"gridwidth\":2,\"linecolor\":\"rgb(36,36,36)\",\"showbackground\":true,\"showgrid\":false,\"showline\":true,\"ticks\":\"outside\",\"zeroline\":false,\"zerolinecolor\":\"rgb(36,36,36)\"},\"zaxis\":{\"backgroundcolor\":\"white\",\"gridcolor\":\"rgb(232,232,232)\",\"gridwidth\":2,\"linecolor\":\"rgb(36,36,36)\",\"showbackground\":true,\"showgrid\":false,\"showline\":true,\"ticks\":\"outside\",\"zeroline\":false,\"zerolinecolor\":\"rgb(36,36,36)\"}},\"shapedefaults\":{\"fillcolor\":\"black\",\"line\":{\"width\":0},\"opacity\":0.3},\"ternary\":{\"aaxis\":{\"gridcolor\":\"rgb(232,232,232)\",\"linecolor\":\"rgb(36,36,36)\",\"showgrid\":false,\"showline\":true,\"ticks\":\"outside\"},\"baxis\":{\"gridcolor\":\"rgb(232,232,232)\",\"linecolor\":\"rgb(36,36,36)\",\"showgrid\":false,\"showline\":true,\"ticks\":\"outside\"},\"bgcolor\":\"white\",\"caxis\":{\"gridcolor\":\"rgb(232,232,232)\",\"linecolor\":\"rgb(36,36,36)\",\"showgrid\":false,\"showline\":true,\"ticks\":\"outside\"}},\"title\":{\"x\":0.05},\"xaxis\":{\"automargin\":true,\"gridcolor\":\"rgb(232,232,232)\",\"linecolor\":\"rgb(36,36,36)\",\"showgrid\":false,\"showline\":true,\"ticks\":\"outside\",\"title\":{\"standoff\":15},\"zeroline\":false,\"zerolinecolor\":\"rgb(36,36,36)\"},\"yaxis\":{\"automargin\":true,\"gridcolor\":\"rgb(232,232,232)\",\"linecolor\":\"rgb(36,36,36)\",\"showgrid\":false,\"showline\":true,\"ticks\":\"outside\",\"title\":{\"standoff\":15},\"zeroline\":false,\"zerolinecolor\":\"rgb(36,36,36)\"}}},\"xaxis\":{\"anchor\":\"y\",\"domain\":[0.0,1.0],\"title\":{\"text\":\"Median Price\"}},\"yaxis\":{\"anchor\":\"x\",\"domain\":[0.0,1.0],\"title\":{\"text\":\"Product Category\"}},\"legend\":{\"tracegroupgap\":0},\"margin\":{\"t\":60},\"barmode\":\"relative\",\"title\":{\"text\":\"Median Product Price by Category\"},\"width\":650,\"height\":400},                        {\"responsive\": true}                    ).then(function(){\n",
       "                            \n",
       "var gd = document.getElementById('bc93d912-cbcc-449e-8704-2c2bfa37ad50');\n",
       "var x = new MutationObserver(function (mutations, observer) {{\n",
       "        var display = window.getComputedStyle(gd).display;\n",
       "        if (!display || display === 'none') {{\n",
       "            console.log([gd, 'removed!']);\n",
       "            Plotly.purge(gd);\n",
       "            observer.disconnect();\n",
       "        }}\n",
       "}});\n",
       "\n",
       "// Listen for the removal of the full notebook cells\n",
       "var notebookContainer = gd.closest('#notebook-container');\n",
       "if (notebookContainer) {{\n",
       "    x.observe(notebookContainer, {childList: true});\n",
       "}}\n",
       "\n",
       "// Listen for the clearing of the current output cell\n",
       "var outputEl = gd.closest('.output');\n",
       "if (outputEl) {{\n",
       "    x.observe(outputEl, {childList: true});\n",
       "}}\n",
       "\n",
       "                        })                };                });            </script>        </div>"
      ]
     },
     "metadata": {},
     "output_type": "display_data"
    }
   ],
   "source": [
    "# Build visualizations from the 'pivot_cat' table\n",
    "\n",
    "fig1 = px.bar(pivot_cat.sort_values('num_products'), x='num_products', y='category',\n",
    "              text='num_products', color_discrete_sequence=px_palette)\n",
    "fig1.update_layout(title='Distribution of Products by Category',\n",
    "                   xaxis_title='Number of Products in Category',\n",
    "                   yaxis_title='Product Category', template=px_template,\n",
    "                   width=650,\n",
    "                   height=400)\n",
    "\n",
    "fig2 = px.bar(pivot_cat.sort_values('num_orders'), x='num_orders', y='category',\n",
    "              text='num_orders', color_discrete_sequence=px_palette)\n",
    "fig2.update_layout(title='Distribution of Orders by Category',\n",
    "                   xaxis_title='Number of Orders in Category',\n",
    "                   yaxis_title='Product Category', template=px_template,\n",
    "                   width=650,\n",
    "                   height=400)\n",
    "\n",
    "fig3 = px.bar(pivot_cat.sort_values('total/1000'), x='total/1000', y='category',\n",
    "              text='total/1000', color_discrete_sequence=px_palette)\n",
    "fig3.update_layout(title='Total Revenue by Category',\n",
    "                   xaxis_title='Revenue, Thousand Rubles',\n",
    "                   yaxis_title='Product Category', template=px_template,\n",
    "                   width=650,\n",
    "                   height=400)\n",
    "\n",
    "fig4 = px.bar(pivot_cat.sort_values('price'), x='price', y='category',\n",
    "              text='price', color_discrete_sequence=px_palette)\n",
    "fig4.update_layout(title='Median Product Price by Category',\n",
    "                   xaxis_title='Median Price',\n",
    "                   yaxis_title='Product Category', template=px_template,\n",
    "                   width=650,\n",
    "                   height=400)\n",
    "\n",
    "fig1.show()\n",
    "fig2.show()\n",
    "fig3.show()\n",
    "fig4.show()"
   ]
  },
  {
   "cell_type": "markdown",
   "id": "16703063",
   "metadata": {},
   "source": [
    "Analyzing which product categories exhibit seasonality in demand."
   ]
  },
  {
   "cell_type": "code",
   "execution_count": 399,
   "id": "2e747c09",
   "metadata": {
    "scrolled": false
   },
   "outputs": [
    {
     "data": {
      "image/png": "[encoded data removed]",
      "text/plain": [
       "<Figure size 720x432 with 2 Axes>"
      ]
     },
     "metadata": {},
     "output_type": "display_data"
    }
   ],
   "source": [
    "# Create a pivot table: number of unique orders per category per month\n",
    "pivot_cat_din = data.pivot_table(index='category', columns='month', aggfunc='nunique', values='order_id')\n",
    "\n",
    "# Plot heatmap\n",
    "fig = plt.figure(figsize=figsize_norm)\n",
    "sns.heatmap(pivot_cat_din, cmap=cmap, annot=True, xticklabels=(pivot_cat_din.columns).date)\n",
    "\n",
    "# Add titles and axis labels\n",
    "plt.title('Number of Orders by Category and Month', fontsize=fontsize)\n",
    "plt.xlabel('Date', fontsize=fontsize)\n",
    "plt.ylabel('Product Category', fontsize=fontsize)\n",
    "\n",
    "# Show plot\n",
    "plt.show()"
   ]
  },
  {
   "cell_type": "markdown",
   "id": "8768351f",
   "metadata": {},
   "source": [
    "Some product categories exhibit seasonal demand patterns:\n",
    "\n",
    "- *For Celebrations* peaks in December and from March to May;\n",
    "\n",
    "- *Artificial Flowers and Imitations* — from February to April;\n",
    "\n",
    "- *Houseplants* — from February to April;\n",
    "\n",
    "- *Kitchen* — during the winter months.\n",
    "\n",
    "In the *Laundry and Ironing*, *Trolleys and Bags*, and *Textiles* categories, a peak in orders was observed in the final months of 2018, but this trend did not repeat in 2019 — the spike was likely driven by other factors.\n",
    "\n",
    "An unusual pattern was seen in *Flower Seedlings and Seeds* and *Vegetable and Berry Seedlings*. In 2019, the peak in orders occurred in April and May, which is logical — this coincides with the beginning of the gardening season. However, another surge in orders for these categories occurred between November 2019 and January 2020 — an effect that was not observed during the winter of 2018–2019."
   ]
  },
  {
   "cell_type": "markdown",
   "id": "35dafad1",
   "metadata": {},
   "source": [
    "**Conclusion**\n",
    "\n",
    "All products in the dataset were divided into the following 10 categories: *Household Goods and Cleaning Supplies, Vegetable and Berry Seedlings, Kitchen, Laundry and Ironing, Flower Seedlings and Seeds, Houseplants, Textiles, For Celebrations, Artificial Flowers and Imitations, and Trolleys and Bags*. The distribution is fairly balanced: each category includes between 106 and 389 items, represented in 206 to 621 orders, and generated revenue from ~87 to 825 thousand rubles.\n",
    "\n",
    "The most interesting category is *Trolleys and Bags*: despite having the smallest assortment, it ranks 4th in the number of orders and leads in revenue, mainly due to the highest median product price (1,087 rubles).\n",
    "\n",
    "The second-highest revenue comes from *Household Goods and Cleaning Supplies*, which has the widest assortment (389 items), ranks 2nd in number of orders, and features mid-priced goods (374 rubles median).\n",
    "\n",
    "*Laundry and Ironing* also shows strong performance (775.2 thousand rubles) — it leads in order count, ranks 4th in assortment volume, and has a relatively high median price (652 rubles).\n",
    "\n",
    "*Textiles* performs decently as well: despite ranking 7th in assortment size and 9th in order count, it brings in notable revenue (306 thousand rubles, 5th place), thanks to relatively high product prices (712 rubles median).\n",
    "\n",
    "The least profitable categories are *Vegetable and Berry Seedlings*, *Artificial Flowers and Imitations*, and *Flower Seedlings and Seeds*. Products in these categories are among the cheapest (52–112 rubles). Notably, the seedling categories have a large product assortment.\n",
    "\n",
    "Some product categories show seasonality in demand:\n",
    "\n",
    "*For Celebrations* peaks in December and from March to May;\n",
    "\n",
    "*Artificial Flowers and Imitations* and *Houseplants* from February to April;\n",
    "\n",
    "*Kitchen* in the winter months;\n",
    "\n",
    "*Flower Seedlings and Seeds* and *Vegetable and Berry Seedlings* in April and May.\n",
    "\n",
    "In six categories, sales patterns differ between November–January in the 2018–2019 and 2019–2020 seasons. In *Laundry and Ironing*, *Trolleys and Bags*, *Textiles*, and *Household Goods and Cleaning Supplies*, the number of orders declined in the second season. Meanwhile, in *Flower Seedlings and Seeds* and *Vegetable and Berry Seedlings*, it increased. This may explain the overall decline in the store’s financial performance: customers increasingly ordered from lower-priced categories and less from higher-priced ones. This trend may be caused by external factors or reflect internal issues within the store."
   ]
  },
  {
   "cell_type": "markdown",
   "id": "24ac81e5",
   "metadata": {},
   "source": [
    "## Customer Segmentation Based on Purchase History"
   ]
  },
  {
   "cell_type": "markdown",
   "id": "e072e983",
   "metadata": {},
   "source": [
    "### Segmenting Customers Using RFM Analysis"
   ]
  },
  {
   "cell_type": "markdown",
   "id": "dbf7d080",
   "metadata": {},
   "source": [
    "Customers will be grouped based on three key metrics:\n",
    "\n",
    "- Recency — how recently the customer made a purchase\n",
    "- Frequency — how often the customer has made purchases\n",
    "- Monetary Value — how much the customer has spent\n",
    "\n",
    "First, we'll create a summary table `pivot_rfm` to compile the necessary information for each unique customer."
   ]
  },
  {
   "cell_type": "code",
   "execution_count": 400,
   "id": "9ea856bc",
   "metadata": {},
   "outputs": [],
   "source": [
    "# Determine the latest purchase date in the dataset\n",
    "last_order = data['date'].max()\n",
    "pivot_rfm=data.groupby('customer_id').agg({'date': lambda x: (last_order - x.max()).days,\n",
    "                                           'order_id': lambda x: len(x.unique()),\n",
    "                                           'total': lambda x: x.sum()})\\\n",
    "                                     .rename(columns={'date': 'recency',\n",
    "                                                      'order_id': 'frequency', \n",
    "                                                      'total': 'monetary_value'})\\\n",
    "                                     .reset_index()"
   ]
  },
  {
   "cell_type": "markdown",
   "id": "063cca21",
   "metadata": {},
   "source": [
    "Next, we’ll calculate the first and second terciles (`q1` and `q2`) for the fields `recency`, `frequency`, and `monetary_value`, which will allow us to split customers into three equally sized groups for each metric.\n",
    "\n",
    "Using these thresholds, we’ll define and apply a function that assigns a score from 1 to 3 to each customer for each metric. According to this classification:\n",
    "\n",
    "1 represents the best score (i.e., the fewest days since last order, the highest purchase frequency, and the highest spending),\n",
    "\n",
    "3 indicates the lowest performance."
   ]
  },
  {
   "cell_type": "code",
   "execution_count": 401,
   "id": "76fac053",
   "metadata": {},
   "outputs": [
    {
     "data": {
      "text/plain": [
       "'Recency limits 105.0-301.0'"
      ]
     },
     "metadata": {},
     "output_type": "display_data"
    },
    {
     "data": {
      "text/plain": [
       "'Frequency 1.0-2.0'"
      ]
     },
     "metadata": {},
     "output_type": "display_data"
    },
    {
     "data": {
      "text/plain": [
       "'Monetary_value 524.0-1350.0'"
      ]
     },
     "metadata": {},
     "output_type": "display_data"
    }
   ],
   "source": [
    "q1_r, q2_r = np.percentile(pivot_rfm['recency'], [33.3, 66.6])\n",
    "q1_f, q2_f = np.percentile(pivot_rfm['frequency'], [33.3, 66.6])\n",
    "q1_m, q2_m = np.percentile(pivot_rfm['monetary_value'], [33.3, 66.6])\n",
    "display('Recency limits {}-{}'.format(q1_r, q2_r),\n",
    "        'Frequency {}-{}'.format(q1_f, q2_f),\n",
    "        'Monetary_value {}-{}'.format(q1_m, q2_m))"
   ]
  },
  {
   "cell_type": "code",
   "execution_count": 402,
   "id": "c24e5e9d",
   "metadata": {},
   "outputs": [],
   "source": [
    "# Create a function to categorize users based on RFM metrics\n",
    "def rfm_cat(row, q1, q2, column):\n",
    "    \"\"\"\n",
    "    The rfm_cat function assigns a customer category based on the\n",
    "    Recency, Frequency, or Monetary Value metric.\n",
    "\n",
    "    The function takes four arguments: a row from the DataFrame, \n",
    "    the category thresholds q1 and q2, and the name of the column \n",
    "    to be categorized.\n",
    "\n",
    "    It compares the value in the specified column with the thresholds \n",
    "    and returns a category from 1 to 3.\n",
    "    \"\"\"\n",
    "    if column != 'recency':\n",
    "        if row[column] <= q1:\n",
    "            return 3\n",
    "        elif row[column] > q2:\n",
    "            return 1\n",
    "        else:\n",
    "            return 2\n",
    "    else:\n",
    "        if row[column] > q2:\n",
    "            return 3\n",
    "        elif row[column] <= q1:\n",
    "            return 1\n",
    "        else:\n",
    "            return 2"
   ]
  },
  {
   "cell_type": "code",
   "execution_count": 403,
   "id": "938c6653",
   "metadata": {},
   "outputs": [
    {
     "data": {
      "text/html": [
       "<div>\n",
       "<style scoped>\n",
       "    .dataframe tbody tr th:only-of-type {\n",
       "        vertical-align: middle;\n",
       "    }\n",
       "\n",
       "    .dataframe tbody tr th {\n",
       "        vertical-align: top;\n",
       "    }\n",
       "\n",
       "    .dataframe thead th {\n",
       "        text-align: right;\n",
       "    }\n",
       "</style>\n",
       "<table border=\"1\" class=\"dataframe\">\n",
       "  <thead>\n",
       "    <tr style=\"text-align: right;\">\n",
       "      <th></th>\n",
       "      <th>customer_id</th>\n",
       "      <th>recency</th>\n",
       "      <th>frequency</th>\n",
       "      <th>monetary_value</th>\n",
       "      <th>recency_cat</th>\n",
       "      <th>frequency_cat</th>\n",
       "      <th>monetary_v_cat</th>\n",
       "      <th>rfm</th>\n",
       "    </tr>\n",
       "  </thead>\n",
       "  <tbody>\n",
       "    <tr>\n",
       "      <th>0</th>\n",
       "      <td>000d6849-084e-4d9f-ac03-37174eaf60c4</td>\n",
       "      <td>107</td>\n",
       "      <td>1</td>\n",
       "      <td>555.0</td>\n",
       "      <td>2</td>\n",
       "      <td>3</td>\n",
       "      <td>2</td>\n",
       "      <td>232</td>\n",
       "    </tr>\n",
       "    <tr>\n",
       "      <th>1</th>\n",
       "      <td>001cee7f-0b29-4716-b202-0042213ab038</td>\n",
       "      <td>349</td>\n",
       "      <td>1</td>\n",
       "      <td>442.0</td>\n",
       "      <td>3</td>\n",
       "      <td>3</td>\n",
       "      <td>3</td>\n",
       "      <td>333</td>\n",
       "    </tr>\n",
       "    <tr>\n",
       "      <th>2</th>\n",
       "      <td>00299f34-5385-4d13-9aea-c80b81658e1b</td>\n",
       "      <td>108</td>\n",
       "      <td>1</td>\n",
       "      <td>914.0</td>\n",
       "      <td>2</td>\n",
       "      <td>3</td>\n",
       "      <td>2</td>\n",
       "      <td>232</td>\n",
       "    </tr>\n",
       "    <tr>\n",
       "      <th>3</th>\n",
       "      <td>002d4d3a-4a59-406b-86ec-c3314357e498</td>\n",
       "      <td>368</td>\n",
       "      <td>1</td>\n",
       "      <td>1649.0</td>\n",
       "      <td>3</td>\n",
       "      <td>3</td>\n",
       "      <td>1</td>\n",
       "      <td>331</td>\n",
       "    </tr>\n",
       "    <tr>\n",
       "      <th>4</th>\n",
       "      <td>003bbd39-0000-41ff-b7f9-2ddaec152037</td>\n",
       "      <td>123</td>\n",
       "      <td>1</td>\n",
       "      <td>2324.0</td>\n",
       "      <td>2</td>\n",
       "      <td>3</td>\n",
       "      <td>1</td>\n",
       "      <td>231</td>\n",
       "    </tr>\n",
       "  </tbody>\n",
       "</table>\n",
       "</div>"
      ],
      "text/plain": [
       "                            customer_id  recency  frequency  monetary_value  \\\n",
       "0  000d6849-084e-4d9f-ac03-37174eaf60c4      107          1           555.0   \n",
       "1  001cee7f-0b29-4716-b202-0042213ab038      349          1           442.0   \n",
       "2  00299f34-5385-4d13-9aea-c80b81658e1b      108          1           914.0   \n",
       "3  002d4d3a-4a59-406b-86ec-c3314357e498      368          1          1649.0   \n",
       "4  003bbd39-0000-41ff-b7f9-2ddaec152037      123          1          2324.0   \n",
       "\n",
       "   recency_cat  frequency_cat  monetary_v_cat  rfm  \n",
       "0            2              3               2  232  \n",
       "1            3              3               3  333  \n",
       "2            2              3               2  232  \n",
       "3            3              3               1  331  \n",
       "4            2              3               1  231  "
      ]
     },
     "execution_count": 403,
     "metadata": {},
     "output_type": "execute_result"
    }
   ],
   "source": [
    "# Apply the function to create new columns with RFM categories\n",
    "pivot_rfm['recency_cat'] = pivot_rfm.apply(rfm_cat, q1=q1_r, q2=q2_r, column='recency', axis=1)\n",
    "pivot_rfm['frequency_cat'] = pivot_rfm.apply(rfm_cat, q1=q1_f, q2=q2_f, column='frequency', axis=1)\n",
    "pivot_rfm['monetary_v_cat'] = pivot_rfm.apply(rfm_cat, q1=q1_m, q2=q2_m, column='monetary_value', axis=1)\n",
    "\n",
    "# Create the overall RFM score\n",
    "pivot_rfm['rfm'] = pivot_rfm.apply(lambda row: ''.join([str(row['recency_cat']), \n",
    "                                                        str(row['frequency_cat']), \n",
    "                                                        str(row['monetary_v_cat'])]), axis=1)\n",
    "pivot_rfm.head()"
   ]
  },
  {
   "cell_type": "code",
   "execution_count": 404,
   "id": "1eb1010e",
   "metadata": {},
   "outputs": [
    {
     "data": {
      "text/html": [
       "<div>\n",
       "<style scoped>\n",
       "    .dataframe tbody tr th:only-of-type {\n",
       "        vertical-align: middle;\n",
       "    }\n",
       "\n",
       "    .dataframe tbody tr th {\n",
       "        vertical-align: top;\n",
       "    }\n",
       "\n",
       "    .dataframe thead th {\n",
       "        text-align: right;\n",
       "    }\n",
       "</style>\n",
       "<table border=\"1\" class=\"dataframe\">\n",
       "  <thead>\n",
       "    <tr style=\"text-align: right;\">\n",
       "      <th></th>\n",
       "      <th>rfm</th>\n",
       "      <th>customer_id</th>\n",
       "    </tr>\n",
       "  </thead>\n",
       "  <tbody>\n",
       "    <tr>\n",
       "      <th>0</th>\n",
       "      <td>111</td>\n",
       "      <td>1</td>\n",
       "    </tr>\n",
       "    <tr>\n",
       "      <th>1</th>\n",
       "      <td>121</td>\n",
       "      <td>313</td>\n",
       "    </tr>\n",
       "    <tr>\n",
       "      <th>2</th>\n",
       "      <td>122</td>\n",
       "      <td>256</td>\n",
       "    </tr>\n",
       "    <tr>\n",
       "      <th>3</th>\n",
       "      <td>123</td>\n",
       "      <td>162</td>\n",
       "    </tr>\n",
       "    <tr>\n",
       "      <th>4</th>\n",
       "      <td>131</td>\n",
       "      <td>13</td>\n",
       "    </tr>\n",
       "    <tr>\n",
       "      <th>5</th>\n",
       "      <td>132</td>\n",
       "      <td>18</td>\n",
       "    </tr>\n",
       "    <tr>\n",
       "      <th>6</th>\n",
       "      <td>133</td>\n",
       "      <td>40</td>\n",
       "    </tr>\n",
       "    <tr>\n",
       "      <th>7</th>\n",
       "      <td>211</td>\n",
       "      <td>12</td>\n",
       "    </tr>\n",
       "    <tr>\n",
       "      <th>8</th>\n",
       "      <td>212</td>\n",
       "      <td>5</td>\n",
       "    </tr>\n",
       "    <tr>\n",
       "      <th>9</th>\n",
       "      <td>213</td>\n",
       "      <td>2</td>\n",
       "    </tr>\n",
       "    <tr>\n",
       "      <th>10</th>\n",
       "      <td>221</td>\n",
       "      <td>36</td>\n",
       "    </tr>\n",
       "    <tr>\n",
       "      <th>11</th>\n",
       "      <td>222</td>\n",
       "      <td>18</td>\n",
       "    </tr>\n",
       "    <tr>\n",
       "      <th>12</th>\n",
       "      <td>223</td>\n",
       "      <td>15</td>\n",
       "    </tr>\n",
       "    <tr>\n",
       "      <th>13</th>\n",
       "      <td>231</td>\n",
       "      <td>182</td>\n",
       "    </tr>\n",
       "    <tr>\n",
       "      <th>14</th>\n",
       "      <td>232</td>\n",
       "      <td>232</td>\n",
       "    </tr>\n",
       "    <tr>\n",
       "      <th>15</th>\n",
       "      <td>233</td>\n",
       "      <td>302</td>\n",
       "    </tr>\n",
       "    <tr>\n",
       "      <th>16</th>\n",
       "      <td>311</td>\n",
       "      <td>7</td>\n",
       "    </tr>\n",
       "    <tr>\n",
       "      <th>17</th>\n",
       "      <td>313</td>\n",
       "      <td>1</td>\n",
       "    </tr>\n",
       "    <tr>\n",
       "      <th>18</th>\n",
       "      <td>321</td>\n",
       "      <td>18</td>\n",
       "    </tr>\n",
       "    <tr>\n",
       "      <th>19</th>\n",
       "      <td>322</td>\n",
       "      <td>19</td>\n",
       "    </tr>\n",
       "    <tr>\n",
       "      <th>20</th>\n",
       "      <td>323</td>\n",
       "      <td>16</td>\n",
       "    </tr>\n",
       "    <tr>\n",
       "      <th>21</th>\n",
       "      <td>331</td>\n",
       "      <td>220</td>\n",
       "    </tr>\n",
       "    <tr>\n",
       "      <th>22</th>\n",
       "      <td>332</td>\n",
       "      <td>255</td>\n",
       "    </tr>\n",
       "    <tr>\n",
       "      <th>23</th>\n",
       "      <td>333</td>\n",
       "      <td>265</td>\n",
       "    </tr>\n",
       "  </tbody>\n",
       "</table>\n",
       "</div>"
      ],
      "text/plain": [
       "    rfm  customer_id\n",
       "0   111            1\n",
       "1   121          313\n",
       "2   122          256\n",
       "3   123          162\n",
       "4   131           13\n",
       "5   132           18\n",
       "6   133           40\n",
       "7   211           12\n",
       "8   212            5\n",
       "9   213            2\n",
       "10  221           36\n",
       "11  222           18\n",
       "12  223           15\n",
       "13  231          182\n",
       "14  232          232\n",
       "15  233          302\n",
       "16  311            7\n",
       "17  313            1\n",
       "18  321           18\n",
       "19  322           19\n",
       "20  323           16\n",
       "21  331          220\n",
       "22  332          255\n",
       "23  333          265"
      ]
     },
     "execution_count": 404,
     "metadata": {},
     "output_type": "execute_result"
    }
   ],
   "source": [
    "# Check how many users fall into each RFM group\n",
    "pivot_rfm.groupby('rfm').agg({'customer_id':'count'}).sort_values('rfm').reset_index()"
   ]
  },
  {
   "cell_type": "markdown",
   "id": "d179b32c",
   "metadata": {},
   "source": [
    "In the final `RFM` table, only 24 unique RFM groups are represented.\n",
    "Let’s divide these groups into the following 5 customer segments:\n",
    "\n",
    "- Best Customers: 111, 121, 211, 221 – these customers buy frequently and spend a lot, with their last purchase being relatively recent.\n",
    "\n",
    "- Thrifty Customers: 123, 213, 133, 223, 233 – they made recent purchases but didn’t spend much.\n",
    "\n",
    "- Average Customers: 122, 212, 222 – characterized by moderate spending and purchase frequency, with a relatively recent last purchase.\n",
    "\n",
    "- At-Risk Customers: 331, 321, 311, 322 – have above-average spending or frequency, but haven't made a purchase in a long time.\n",
    "\n",
    "- Infrequent/New Customers: 131, 132, 231, 232 – spend at average or above-average levels, but purchase rarely.\n",
    "\n",
    "- Low-Value Customers: 333, 323, 313 – they spend little and purchase rarely and/or a long time ago.\n",
    "\n",
    "Let’s assign each user from the RFM table to one of these segments and check how many users fall into each group."
   ]
  },
  {
   "cell_type": "code",
   "execution_count": 405,
   "id": "442e5d3e",
   "metadata": {},
   "outputs": [],
   "source": [
    "# Create a dictionary mapping RFM groups to customer segments\n",
    "segments_dict = {\n",
    "    'Best Customers': ['111', '121', '211', '221'],\n",
    "    'Thrifty Customers': ['123', '213', '133', '223', '233'],\n",
    "    'Average Customers': ['122', '212', '222'],\n",
    "    'At-Risk Customers': ['331', '321', '311', '322', '332'],\n",
    "    'Infrequent/New Customers': ['131', '132', '231', '232'],\n",
    "    'Low-Value Customers': ['333', '323', '313'],\n",
    "}"
   ]
  },
  {
   "cell_type": "code",
   "execution_count": 406,
   "id": "83181625",
   "metadata": {
    "scrolled": true
   },
   "outputs": [],
   "source": [
    "# Create a function that segments customers based on the segments_dict dictionary\n",
    "def customer_segment(row):\n",
    "    \"\"\"\n",
    "    The customer_segment function determines the customer's segment based on the RFM value \n",
    "    using a predefined mapping dictionary.\n",
    "    \n",
    "    The function takes one argument – a row from a DataFrame – and checks whether the RFM value \n",
    "    belongs to one of the predefined RFM groups. \n",
    "    If a match is found, the function returns the corresponding segment name.\n",
    "    If no match is found, the function returns None.\n",
    "    \"\"\"\n",
    "    segment = None\n",
    "    for seg, rfm_groups in segments_dict.items():\n",
    "        if any(rfm_group in row['rfm'] for rfm_group in rfm_groups):\n",
    "            segment = seg\n",
    "            break\n",
    "    return segment"
   ]
  },
  {
   "cell_type": "code",
   "execution_count": 407,
   "id": "5620116b",
   "metadata": {},
   "outputs": [],
   "source": [
    "# Apply the segmentation function to create a new column in the DataFrame\n",
    "pivot_rfm['segment'] = pivot_rfm.apply(customer_segment, axis=1)"
   ]
  },
  {
   "cell_type": "code",
   "execution_count": 408,
   "id": "3ebd1995",
   "metadata": {},
   "outputs": [
    {
     "data": {
      "text/html": [
       "<div>\n",
       "<style scoped>\n",
       "    .dataframe tbody tr th:only-of-type {\n",
       "        vertical-align: middle;\n",
       "    }\n",
       "\n",
       "    .dataframe tbody tr th {\n",
       "        vertical-align: top;\n",
       "    }\n",
       "\n",
       "    .dataframe thead th {\n",
       "        text-align: right;\n",
       "    }\n",
       "</style>\n",
       "<table border=\"1\" class=\"dataframe\">\n",
       "  <thead>\n",
       "    <tr style=\"text-align: right;\">\n",
       "      <th></th>\n",
       "      <th>customer_id</th>\n",
       "    </tr>\n",
       "    <tr>\n",
       "      <th>segment</th>\n",
       "      <th></th>\n",
       "    </tr>\n",
       "  </thead>\n",
       "  <tbody>\n",
       "    <tr>\n",
       "      <th>Thrifty Customers</th>\n",
       "      <td>521</td>\n",
       "    </tr>\n",
       "    <tr>\n",
       "      <th>At-Risk Customers</th>\n",
       "      <td>519</td>\n",
       "    </tr>\n",
       "    <tr>\n",
       "      <th>Infrequent/New Customers</th>\n",
       "      <td>445</td>\n",
       "    </tr>\n",
       "    <tr>\n",
       "      <th>Best Customers</th>\n",
       "      <td>362</td>\n",
       "    </tr>\n",
       "    <tr>\n",
       "      <th>Low-Value Customers</th>\n",
       "      <td>282</td>\n",
       "    </tr>\n",
       "    <tr>\n",
       "      <th>Average Customers</th>\n",
       "      <td>279</td>\n",
       "    </tr>\n",
       "  </tbody>\n",
       "</table>\n",
       "</div>"
      ],
      "text/plain": [
       "                          customer_id\n",
       "segment                              \n",
       "Thrifty Customers                 521\n",
       "At-Risk Customers                 519\n",
       "Infrequent/New Customers          445\n",
       "Best Customers                    362\n",
       "Low-Value Customers               282\n",
       "Average Customers                 279"
      ]
     },
     "execution_count": 408,
     "metadata": {},
     "output_type": "execute_result"
    }
   ],
   "source": [
    "# Check how many users belong to each segment\n",
    "pivot_rfm.groupby('segment').agg({'customer_id':'count'}).sort_values('customer_id', ascending = False)"
   ]
  },
  {
   "cell_type": "markdown",
   "id": "854ee798",
   "metadata": {},
   "source": [
    "The distribution across customer segments is fairly balanced.\n",
    "\n",
    "No resources should be allocated to `Low-Value Customers` — they made their last purchase a long time ago and spent very little overall.\n",
    "\n",
    "`Thrifty Customers` tend to make low-value purchases. These clients should be encouraged to spend more — for example, by offering products from categories they are interested in, or providing discounts for purchases over a certain amount.\n",
    "\n",
    "`At-Risk Customers` haven’t made a purchase in a while, but in the past showed good levels of spending and/or order frequency. It might be worth trying to win them back through special offers, promo codes, and similar marketing efforts.\n",
    "\n",
    "`Infrequent/New Customers` placed an order recently and generated decent revenue, but do so rarely. Some may be new customers. These users can be encouraged to buy more frequently through seasonal or personalized email campaigns, loyalty programs, or recommendations based on previously purchased product categories.\n",
    "\n",
    "`Best Customers` order often and spend the most. Their loyalty can be reinforced through dedicated loyalty programs or exclusive offers.\n",
    "\n",
    "`Average Customers` show moderate behavior in terms of spending and order frequency. They can be motivated to spend more using the same strategies applied to `Thrifty Customers`."
   ]
  },
  {
   "cell_type": "markdown",
   "id": "605c19f3",
   "metadata": {},
   "source": [
    "### Analysis of General Metrics Across Customer Segments "
   ]
  },
  {
   "cell_type": "markdown",
   "id": "09a6a66a",
   "metadata": {},
   "source": [
    "We will transfer customer segment data from the `RFM` table to the main `data` dataset and create a summary table containing the number of orders (total and per user), revenue (total and per user), and average check, broken down by segment."
   ]
  },
  {
   "cell_type": "code",
   "execution_count": 409,
   "id": "f62ba56f",
   "metadata": {},
   "outputs": [],
   "source": [
    "data=data.merge(pivot_rfm[['customer_id', 'segment']], on='customer_id')"
   ]
  },
  {
   "cell_type": "code",
   "execution_count": 410,
   "id": "ec65de17",
   "metadata": {
    "scrolled": false
   },
   "outputs": [
    {
     "data": {
      "text/html": [
       "<div>\n",
       "<style scoped>\n",
       "    .dataframe tbody tr th:only-of-type {\n",
       "        vertical-align: middle;\n",
       "    }\n",
       "\n",
       "    .dataframe tbody tr th {\n",
       "        vertical-align: top;\n",
       "    }\n",
       "\n",
       "    .dataframe thead th {\n",
       "        text-align: right;\n",
       "    }\n",
       "</style>\n",
       "<table border=\"1\" class=\"dataframe\">\n",
       "  <thead>\n",
       "    <tr style=\"text-align: right;\">\n",
       "      <th></th>\n",
       "      <th>n_customers</th>\n",
       "      <th>n_orders</th>\n",
       "      <th>revenue</th>\n",
       "      <th>avg_bill</th>\n",
       "      <th>avg_quantity</th>\n",
       "      <th>revenue_per_customer</th>\n",
       "      <th>orders_per_customer</th>\n",
       "    </tr>\n",
       "    <tr>\n",
       "      <th>segment</th>\n",
       "      <th></th>\n",
       "      <th></th>\n",
       "      <th></th>\n",
       "      <th></th>\n",
       "      <th></th>\n",
       "      <th></th>\n",
       "      <th></th>\n",
       "    </tr>\n",
       "  </thead>\n",
       "  <tbody>\n",
       "    <tr>\n",
       "      <th>At-Risk Customers</th>\n",
       "      <td>519.0</td>\n",
       "      <td>725.0</td>\n",
       "      <td>1326143.0</td>\n",
       "      <td>1829.2</td>\n",
       "      <td>7.3</td>\n",
       "      <td>2555.2</td>\n",
       "      <td>1.4</td>\n",
       "    </tr>\n",
       "    <tr>\n",
       "      <th>Best Customers</th>\n",
       "      <td>362.0</td>\n",
       "      <td>758.0</td>\n",
       "      <td>1240440.8</td>\n",
       "      <td>1636.5</td>\n",
       "      <td>1.8</td>\n",
       "      <td>3426.6</td>\n",
       "      <td>2.1</td>\n",
       "    </tr>\n",
       "    <tr>\n",
       "      <th>Infrequent/New Customers</th>\n",
       "      <td>445.0</td>\n",
       "      <td>445.0</td>\n",
       "      <td>861596.5</td>\n",
       "      <td>1936.2</td>\n",
       "      <td>8.5</td>\n",
       "      <td>1936.2</td>\n",
       "      <td>1.0</td>\n",
       "    </tr>\n",
       "    <tr>\n",
       "      <th>Average Customers</th>\n",
       "      <td>279.0</td>\n",
       "      <td>564.0</td>\n",
       "      <td>244424.0</td>\n",
       "      <td>433.4</td>\n",
       "      <td>1.3</td>\n",
       "      <td>876.1</td>\n",
       "      <td>2.0</td>\n",
       "    </tr>\n",
       "    <tr>\n",
       "      <th>Thrifty Customers</th>\n",
       "      <td>521.0</td>\n",
       "      <td>702.0</td>\n",
       "      <td>138580.2</td>\n",
       "      <td>197.4</td>\n",
       "      <td>1.8</td>\n",
       "      <td>266.0</td>\n",
       "      <td>1.3</td>\n",
       "    </tr>\n",
       "    <tr>\n",
       "      <th>Low-Value Customers</th>\n",
       "      <td>282.0</td>\n",
       "      <td>300.0</td>\n",
       "      <td>79032.0</td>\n",
       "      <td>263.4</td>\n",
       "      <td>2.7</td>\n",
       "      <td>280.3</td>\n",
       "      <td>1.1</td>\n",
       "    </tr>\n",
       "  </tbody>\n",
       "</table>\n",
       "</div>"
      ],
      "text/plain": [
       "                         n_customers n_orders    revenue avg_bill  \\\n",
       "segment                                                             \n",
       "At-Risk Customers              519.0    725.0  1326143.0   1829.2   \n",
       "Best Customers                 362.0    758.0  1240440.8   1636.5   \n",
       "Infrequent/New Customers       445.0    445.0   861596.5   1936.2   \n",
       "Average Customers              279.0    564.0   244424.0    433.4   \n",
       "Thrifty Customers              521.0    702.0   138580.2    197.4   \n",
       "Low-Value Customers            282.0    300.0    79032.0    263.4   \n",
       "\n",
       "                         avg_quantity revenue_per_customer orders_per_customer  \n",
       "segment                                                                         \n",
       "At-Risk Customers                 7.3               2555.2                 1.4  \n",
       "Best Customers                    1.8               3426.6                 2.1  \n",
       "Infrequent/New Customers          8.5               1936.2                 1.0  \n",
       "Average Customers                 1.3                876.1                 2.0  \n",
       "Thrifty Customers                 1.8                266.0                 1.3  \n",
       "Low-Value Customers               2.7                280.3                 1.1  "
      ]
     },
     "execution_count": 410,
     "metadata": {},
     "output_type": "execute_result"
    }
   ],
   "source": [
    "pivot_seg = data.groupby('segment').agg({'customer_id':'nunique', 'order_id':'nunique', 'total':'sum'})\\\n",
    "    .sort_values('total', ascending=False)\\\n",
    "    .merge(data.groupby(['segment', 'order_id']).agg({'total':'sum'}).groupby('segment')\\\n",
    "           .agg({'total':'mean'}), on='segment')\\\n",
    "    .merge(data.groupby(['segment', 'order_id']).agg({'quantity':'sum'}).groupby('segment')\\\n",
    "           .agg({'quantity':'mean'}), on='segment')\\\n",
    "    .rename(columns={'total_x':'revenue', 'total_y':'avg_bill', 'order_id':'n_orders',\n",
    "                     'customer_id':'n_customers', 'quantity':'avg_quantity',})\n",
    "pivot_seg['revenue_per_customer'] = pivot_seg['revenue']/pivot_seg['n_customers']\n",
    "pivot_seg['orders_per_customer'] = pivot_seg['n_orders']/pivot_seg['n_customers']\n",
    "pivot_seg.applymap('{:.1f}'.format)"
   ]
  },
  {
   "cell_type": "markdown",
   "id": "639d27a4",
   "metadata": {},
   "source": [
    "The performance of customer segments aligns with the previously described characteristics.\n",
    "\n",
    "The `Best Customers` segment includes 362 store clients. A customer in this segment generates the highest revenue (3,427 RUB). On average, they placed 2.1 orders during the observed period, with an average check of 1,636 RUB and 1.8 product units per order.\n",
    "\n",
    "The `At-Risk Customers` segment includes 519 users, making it the largest group. Interestingly, the average check for this group is even higher than that of the `Best Customers`, at 1,829 RUB. These clients placed about 1.4 orders each and generated 2,555 RUB in revenue per customer. They tend to buy in larger quantities, averaging 7.3 items per order.\n",
    "\n",
    "The `Infrequent/New Customers` segment consists of 445 users. As expected, they placed only one order each — the lowest among all segments — but with the highest average check (1,936 RUB), which also equals their total revenue per customer. This group appears to favor bulk purchases, buying an average of 8.5 items per order.\n",
    "\n",
    "The `Average Customers` segment includes 279 clients who placed about two orders each, with an average check of 433 RUB and an average of 1.3 product units per order. Their per-customer revenue was 876 RUB.\n",
    "\n",
    "There are 521 users in the `Thrifty Customers` segment. On average, they placed 1.3 orders with a check of 197 RUB and purchased 1.8 product units per order.\n",
    "\n",
    "Finally, there are 282 users in the `Low-Value Customers` segment. Interestingly, the average check and revenue per customer in this group are slightly higher than those in the `Thrifty Customers` segment. However, it’s important to note that these clients have not placed an order in a long time."
   ]
  },
  {
   "cell_type": "code",
   "execution_count": 411,
   "id": "ff0fbb20",
   "metadata": {},
   "outputs": [
    {
     "data": {
      "image/png": "[encoded data removed]",
      "text/plain": [
       "<Figure size 720x432 with 2 Axes>"
      ]
     },
     "metadata": {},
     "output_type": "display_data"
    }
   ],
   "source": [
    "# Create a pivot table for average order value\n",
    "pivot_seg_din = data.groupby(['segment', 'month', 'order_id']).agg({'total':'sum'})\\\n",
    "    .pivot_table(index='segment', columns='month', aggfunc='mean', values='total').reindex(pivot_seg.index)\n",
    "\n",
    "# Create the figure\n",
    "fig = plt.figure(figsize=figsize_norm)\n",
    "# Plot the heatmap\n",
    "sns.heatmap(pivot_seg_din, cmap=cmap, annot=True, fmt='.0f', xticklabels=(pivot_cat_din.columns).date)\n",
    "# Add chart and axis labels\n",
    "plt.title('Average Order Value by Month and Customer Segment', fontsize=fontsize)\n",
    "plt.xlabel('Date', fontsize=fontsize)\n",
    "plt.ylabel('Customer Segments', fontsize=fontsize)\n",
    "# Display the chart\n",
    "plt.show()"
   ]
  },
  {
   "cell_type": "markdown",
   "id": "3b04e370",
   "metadata": {},
   "source": [
    "Users from the At-Risk and Low-Value segments placed their last orders a long time ago, while the Infrequent/New Customers segment includes only those who made a purchase relatively recently. Therefore, the data for these segments does not cover the entire time period.\n",
    "\n",
    "For the Best, Average, and Thrifty customer segments, we can conclude that the average order value remained relatively stable across the entire period."
   ]
  },
  {
   "cell_type": "markdown",
   "id": "1f6e07eb",
   "metadata": {},
   "source": [
    "**Conclusion**\n",
    "\n",
    "An RFM analysis was conducted to segment the store’s customers into six groups based on how recently a customer made a purchase (**Recency**), how frequently they purchased (**Frequency**), and how much they spent in total (**Monetary Value**). The following segments were identified:\n",
    "\n",
    "- **`Best Customers`**: This segment includes 362 customers. These users generate the highest profit (₽3,427 on average). They placed an average of 2.1 orders during the analysis period, with an average order value of ₽1,636 and 1.8 items per order. They do not have long gaps between orders — these are the most loyal customers.\n",
    "\n",
    "\n",
    "- **`Thrifty Customers`**: This group includes 521 users. On average, they placed 1.3 orders with an average order value of ₽197 and 1.8 items per order. The low revenue from these customers is explained by the small number of items in their orders (2 products on average).\n",
    "\n",
    "\n",
    "- **`Average Customers`**: This segment includes 279 users who placed an average of 2 orders with a check of ₽433 and 1.3 items per order. The revenue per customer in this segment was ₽876. The average order value in this group tends to decline over time.\n",
    "\n",
    "\n",
    "- **`At-Risk Customers`**: This is the largest segment, with 519 users. Interestingly, their average order value (₽1,829) is higher than that of the `Best Customers`. They placed an average of 1.4 orders and brought in ₽2,555 per customer. They tend to buy in bulk, with an average of 7.3 items per order. However, these users haven’t placed any orders in a long time.\n",
    "\n",
    "\n",
    "- **`Infrequent/New Customers`**: This group includes 445 customers. By definition, they placed only one order (the lowest among all segments) but had the highest average order value of ₽1,936 — which also matches the revenue they brought in. These users prefer bulk purchases, with an average of 8.5 items per order. Their purchases were made relatively recently.\n",
    "\n",
    "\n",
    "- **`Low-Value Customers`**: This segment includes 282 customers who are not worth targeting with marketing resources — they placed their last order a long time ago and spent very little. Interestingly, their average order value and total revenue per user is higher than that of the `Thrifty Customers`, although the latter are significantly more loyal.\n",
    "\n",
    "\n",
    "Users from the `At-Risk Customers` and `Low-Value Customers` segments placed their last orders long ago, while the `Infrequent/New Customers` group includes only recent buyers — therefore, their data covers only part of the observed time period. For the `Best Customers`, `Average Customers`, and `Thrifty Customers`, we can conclude that the average order value remained relatively stable across the entire period.\n"
   ]
  },
  {
   "cell_type": "markdown",
   "id": "052b9d6c",
   "metadata": {},
   "source": [
    "## Formulation and Testing of Statistical Hypotheses"
   ]
  },
  {
   "cell_type": "markdown",
   "id": "87bea0c0",
   "metadata": {},
   "source": [
    "We will test the statistical significance of differences in the average number of orders per user between segments. Let’s define our hypotheses and set the significance level alpha:\n",
    "```\n",
    "H₀: The mean number of orders per visitor in group A = the mean number of orders per visitor in group B\n",
    "H₁: The mean number of orders per visitor in group A ≠ the mean number of orders per visitor in group B\n",
    "alpha = 0.05\n",
    "```\n",
    "Next, we will test the statistical significance of differences in the average revenue per order per user between segments. The hypotheses are:\n",
    "```\n",
    "H₀: The mean revenue per order per visitor in group A = the mean revenue per order per visitor in group B\n",
    "H₁: The mean revenue per order per visitor in group A ≠ the mean revenue per order per visitor in group B\n",
    "alpha = 0.05\n",
    "```"
   ]
  },
  {
   "cell_type": "code",
   "execution_count": 412,
   "id": "ac4b514a",
   "metadata": {},
   "outputs": [],
   "source": [
    "# To account for multiple comparisons (10 comparisons for each hypothesis), we apply the Bonferroni correction:\n",
    "bonferroni_alpha = 0.05 / 10"
   ]
  },
  {
   "cell_type": "code",
   "execution_count": 413,
   "id": "c5a72979",
   "metadata": {},
   "outputs": [],
   "source": [
    "# prepare summary tables for analysis:\n",
    "orders = data.groupby(['segment', 'customer_id']).agg({'order_id': 'nunique'}).reset_index()\n",
    "avg_bill = data.groupby(['segment', 'customer_id', 'order_id']).agg({'total':'sum'})\\\n",
    "               .groupby(['segment', 'customer_id']).agg({'total':'mean'}).reset_index()"
   ]
  },
  {
   "cell_type": "markdown",
   "id": "7a304138",
   "metadata": {},
   "source": [
    "Let’s create a function that will test the statistical significance of differences in selected metrics, and a loop that will iterate through all combinations of customer segments for number of orders and average order value."
   ]
  },
  {
   "cell_type": "code",
   "execution_count": 414,
   "id": "f15cfd16",
   "metadata": {},
   "outputs": [],
   "source": [
    "def hypothesis_check(segment_1, segment_2):\n",
    "    \"\"\"\n",
    "    The hypothesis_check() function compares two data segments \n",
    "    using the Mann-Whitney U test to detect statistically \n",
    "    significant differences between their means.\n",
    "    \"\"\"\n",
    "    p_value = stats.mannwhitneyu(segment_1, segment_2)[1]\n",
    "    if p_value < bonferroni_alpha:\n",
    "        display('p-value = {} Reject the null hypothesis: significant difference detected.'\n",
    "                .format(p_value))\n",
    "    else:\n",
    "        display('p-value = {} Failed to reject the null hypothesis: no significant difference.'\n",
    "                .format(p_value))\n",
    "    display('------------------------------------------------------------------------------')"
   ]
  },
  {
   "cell_type": "code",
   "execution_count": 415,
   "id": "c430d190",
   "metadata": {},
   "outputs": [],
   "source": [
    "# create a list of all segments except 'Low-Value Customers'\n",
    "segments = pivot_seg.query('segment != \"Low-Value Customers\"').index.to_list()"
   ]
  },
  {
   "cell_type": "code",
   "execution_count": 416,
   "id": "f163919d",
   "metadata": {},
   "outputs": [
    {
     "data": {
      "text/plain": [
       "'No.1. Compared segments: At-Risk Customers and Best Customers'"
      ]
     },
     "metadata": {},
     "output_type": "display_data"
    },
    {
     "data": {
      "text/plain": [
       "'p-value = 7.084690156405333e-152 Reject the null hypothesis: significant difference detected.'"
      ]
     },
     "metadata": {},
     "output_type": "display_data"
    },
    {
     "data": {
      "text/plain": [
       "'------------------------------------------------------------------------------'"
      ]
     },
     "metadata": {},
     "output_type": "display_data"
    },
    {
     "data": {
      "text/plain": [
       "'No.2. Compared segments: At-Risk Customers and Infrequent/New Customers'"
      ]
     },
     "metadata": {},
     "output_type": "display_data"
    },
    {
     "data": {
      "text/plain": [
       "'p-value = 3.3244601955000726e-10 Reject the null hypothesis: significant difference detected.'"
      ]
     },
     "metadata": {},
     "output_type": "display_data"
    },
    {
     "data": {
      "text/plain": [
       "'------------------------------------------------------------------------------'"
      ]
     },
     "metadata": {},
     "output_type": "display_data"
    },
    {
     "data": {
      "text/plain": [
       "'No.3. Compared segments: At-Risk Customers and Average Customers'"
      ]
     },
     "metadata": {},
     "output_type": "display_data"
    },
    {
     "data": {
      "text/plain": [
       "'p-value = 3.620970935567682e-134 Reject the null hypothesis: significant difference detected.'"
      ]
     },
     "metadata": {},
     "output_type": "display_data"
    },
    {
     "data": {
      "text/plain": [
       "'------------------------------------------------------------------------------'"
      ]
     },
     "metadata": {},
     "output_type": "display_data"
    },
    {
     "data": {
      "text/plain": [
       "'No.4. Compared segments: At-Risk Customers and Thrifty Customers'"
      ]
     },
     "metadata": {},
     "output_type": "display_data"
    },
    {
     "data": {
      "text/plain": [
       "'p-value = 1.842322131080651e-23 Reject the null hypothesis: significant difference detected.'"
      ]
     },
     "metadata": {},
     "output_type": "display_data"
    },
    {
     "data": {
      "text/plain": [
       "'------------------------------------------------------------------------------'"
      ]
     },
     "metadata": {},
     "output_type": "display_data"
    },
    {
     "data": {
      "text/plain": [
       "'No.5. Compared segments: Best Customers and Infrequent/New Customers'"
      ]
     },
     "metadata": {},
     "output_type": "display_data"
    },
    {
     "data": {
      "text/plain": [
       "'p-value = 4.137596249850177e-175 Reject the null hypothesis: significant difference detected.'"
      ]
     },
     "metadata": {},
     "output_type": "display_data"
    },
    {
     "data": {
      "text/plain": [
       "'------------------------------------------------------------------------------'"
      ]
     },
     "metadata": {},
     "output_type": "display_data"
    },
    {
     "data": {
      "text/plain": [
       "'No.6. Compared segments: Best Customers and Average Customers'"
      ]
     },
     "metadata": {},
     "output_type": "display_data"
    },
    {
     "data": {
      "text/plain": [
       "'p-value = 0.1689733832905167 Failed to reject the null hypothesis: no significant difference.'"
      ]
     },
     "metadata": {},
     "output_type": "display_data"
    },
    {
     "data": {
      "text/plain": [
       "'------------------------------------------------------------------------------'"
      ]
     },
     "metadata": {},
     "output_type": "display_data"
    },
    {
     "data": {
      "text/plain": [
       "'No.7. Compared segments: Best Customers and Thrifty Customers'"
      ]
     },
     "metadata": {},
     "output_type": "display_data"
    },
    {
     "data": {
      "text/plain": [
       "'p-value = 2.9904830489607886e-86 Reject the null hypothesis: significant difference detected.'"
      ]
     },
     "metadata": {},
     "output_type": "display_data"
    },
    {
     "data": {
      "text/plain": [
       "'------------------------------------------------------------------------------'"
      ]
     },
     "metadata": {},
     "output_type": "display_data"
    },
    {
     "data": {
      "text/plain": [
       "'No.8. Compared segments: Infrequent/New Customers and Average Customers'"
      ]
     },
     "metadata": {},
     "output_type": "display_data"
    },
    {
     "data": {
      "text/plain": [
       "'p-value = 1.3885548078056643e-158 Reject the null hypothesis: significant difference detected.'"
      ]
     },
     "metadata": {},
     "output_type": "display_data"
    },
    {
     "data": {
      "text/plain": [
       "'------------------------------------------------------------------------------'"
      ]
     },
     "metadata": {},
     "output_type": "display_data"
    },
    {
     "data": {
      "text/plain": [
       "'No.9. Compared segments: Infrequent/New Customers and Thrifty Customers'"
      ]
     },
     "metadata": {},
     "output_type": "display_data"
    },
    {
     "data": {
      "text/plain": [
       "'p-value = 1.1885943728076307e-42 Reject the null hypothesis: significant difference detected.'"
      ]
     },
     "metadata": {},
     "output_type": "display_data"
    },
    {
     "data": {
      "text/plain": [
       "'------------------------------------------------------------------------------'"
      ]
     },
     "metadata": {},
     "output_type": "display_data"
    },
    {
     "data": {
      "text/plain": [
       "'No.10. Compared segments: Average Customers and Thrifty Customers'"
      ]
     },
     "metadata": {},
     "output_type": "display_data"
    },
    {
     "data": {
      "text/plain": [
       "'p-value = 3.757832629765894e-71 Reject the null hypothesis: significant difference detected.'"
      ]
     },
     "metadata": {},
     "output_type": "display_data"
    },
    {
     "data": {
      "text/plain": [
       "'------------------------------------------------------------------------------'"
      ]
     },
     "metadata": {},
     "output_type": "display_data"
    }
   ],
   "source": [
    "# compare all possible pairs of segments\n",
    "count = 0\n",
    "for i in range(5):\n",
    "    for j in range(i + 1, 5):\n",
    "        count += 1\n",
    "        display('No.{}. Compared segments: {} and {}'.format(count, segments[i], segments[j]))\n",
    "        hypothesis_check(\n",
    "            orders[orders['segment'] == segments[i]]['order_id'], \n",
    "            orders[orders['segment'] == segments[j]]['order_id']\n",
    "        )"
   ]
  },
  {
   "cell_type": "code",
   "execution_count": 417,
   "id": "71ad35c8",
   "metadata": {},
   "outputs": [
    {
     "data": {
      "text/plain": [
       "'№11. Compared segments: At-Risk Customers и Best Customers'"
      ]
     },
     "metadata": {},
     "output_type": "display_data"
    },
    {
     "data": {
      "text/plain": [
       "'p-value = 0.1428784906547324 Failed to reject the null hypothesis: no significant difference.'"
      ]
     },
     "metadata": {},
     "output_type": "display_data"
    },
    {
     "data": {
      "text/plain": [
       "'------------------------------------------------------------------------------'"
      ]
     },
     "metadata": {},
     "output_type": "display_data"
    },
    {
     "data": {
      "text/plain": [
       "'№12. Compared segments: At-Risk Customers и Infrequent/New Customers'"
      ]
     },
     "metadata": {},
     "output_type": "display_data"
    },
    {
     "data": {
      "text/plain": [
       "'p-value = 0.7209052979117778 Failed to reject the null hypothesis: no significant difference.'"
      ]
     },
     "metadata": {},
     "output_type": "display_data"
    },
    {
     "data": {
      "text/plain": [
       "'------------------------------------------------------------------------------'"
      ]
     },
     "metadata": {},
     "output_type": "display_data"
    },
    {
     "data": {
      "text/plain": [
       "'№13. Compared segments: At-Risk Customers и Average Customers'"
      ]
     },
     "metadata": {},
     "output_type": "display_data"
    },
    {
     "data": {
      "text/plain": [
       "'p-value = 1.2984384993367958e-103 Reject the null hypothesis: significant difference detected.'"
      ]
     },
     "metadata": {},
     "output_type": "display_data"
    },
    {
     "data": {
      "text/plain": [
       "'------------------------------------------------------------------------------'"
      ]
     },
     "metadata": {},
     "output_type": "display_data"
    },
    {
     "data": {
      "text/plain": [
       "'№14. Compared segments: At-Risk Customers и Thrifty Customers'"
      ]
     },
     "metadata": {},
     "output_type": "display_data"
    },
    {
     "data": {
      "text/plain": [
       "'p-value = 3.639331684561822e-167 Reject the null hypothesis: significant difference detected.'"
      ]
     },
     "metadata": {},
     "output_type": "display_data"
    },
    {
     "data": {
      "text/plain": [
       "'------------------------------------------------------------------------------'"
      ]
     },
     "metadata": {},
     "output_type": "display_data"
    },
    {
     "data": {
      "text/plain": [
       "'№15. Compared segments: Best Customers и Infrequent/New Customers'"
      ]
     },
     "metadata": {},
     "output_type": "display_data"
    },
    {
     "data": {
      "text/plain": [
       "'p-value = 0.23019333191798463 Failed to reject the null hypothesis: no significant difference.'"
      ]
     },
     "metadata": {},
     "output_type": "display_data"
    },
    {
     "data": {
      "text/plain": [
       "'------------------------------------------------------------------------------'"
      ]
     },
     "metadata": {},
     "output_type": "display_data"
    },
    {
     "data": {
      "text/plain": [
       "'№16. Compared segments: Best Customers и Average Customers'"
      ]
     },
     "metadata": {},
     "output_type": "display_data"
    },
    {
     "data": {
      "text/plain": [
       "'p-value = 6.624292554150276e-104 Reject the null hypothesis: significant difference detected.'"
      ]
     },
     "metadata": {},
     "output_type": "display_data"
    },
    {
     "data": {
      "text/plain": [
       "'------------------------------------------------------------------------------'"
      ]
     },
     "metadata": {},
     "output_type": "display_data"
    },
    {
     "data": {
      "text/plain": [
       "'№17. Compared segments: Best Customers и Thrifty Customers'"
      ]
     },
     "metadata": {},
     "output_type": "display_data"
    },
    {
     "data": {
      "text/plain": [
       "'p-value = 3.359780641127276e-141 Reject the null hypothesis: significant difference detected.'"
      ]
     },
     "metadata": {},
     "output_type": "display_data"
    },
    {
     "data": {
      "text/plain": [
       "'------------------------------------------------------------------------------'"
      ]
     },
     "metadata": {},
     "output_type": "display_data"
    },
    {
     "data": {
      "text/plain": [
       "'№18. Compared segments: Infrequent/New Customers и Average Customers'"
      ]
     },
     "metadata": {},
     "output_type": "display_data"
    },
    {
     "data": {
      "text/plain": [
       "'p-value = 2.7444504032508555e-106 Reject the null hypothesis: significant difference detected.'"
      ]
     },
     "metadata": {},
     "output_type": "display_data"
    },
    {
     "data": {
      "text/plain": [
       "'------------------------------------------------------------------------------'"
      ]
     },
     "metadata": {},
     "output_type": "display_data"
    },
    {
     "data": {
      "text/plain": [
       "'№19. Compared segments: Infrequent/New Customers и Thrifty Customers'"
      ]
     },
     "metadata": {},
     "output_type": "display_data"
    },
    {
     "data": {
      "text/plain": [
       "'p-value = 1.887302482389346e-158 Reject the null hypothesis: significant difference detected.'"
      ]
     },
     "metadata": {},
     "output_type": "display_data"
    },
    {
     "data": {
      "text/plain": [
       "'------------------------------------------------------------------------------'"
      ]
     },
     "metadata": {},
     "output_type": "display_data"
    },
    {
     "data": {
      "text/plain": [
       "'№20. Compared segments: Average Customers и Thrifty Customers'"
      ]
     },
     "metadata": {},
     "output_type": "display_data"
    },
    {
     "data": {
      "text/plain": [
       "'p-value = 4.2240130850618253e-73 Reject the null hypothesis: significant difference detected.'"
      ]
     },
     "metadata": {},
     "output_type": "display_data"
    },
    {
     "data": {
      "text/plain": [
       "'------------------------------------------------------------------------------'"
      ]
     },
     "metadata": {},
     "output_type": "display_data"
    }
   ],
   "source": [
    "for i in range(5):\n",
    "    for j in range(i+1, 5):\n",
    "        count += 1\n",
    "        display('№{}. Compared segments: {} и {}'.format(count, segments[i], segments[j]))\n",
    "        hypothesis_check(avg_bill[avg_bill['segment'] == segments[i]]['total'], \n",
    "                        avg_bill[avg_bill['segment'] == segments[j]]['total'])"
   ]
  },
  {
   "cell_type": "markdown",
   "id": "fb2f4bd3",
   "metadata": {},
   "source": [
    "**Conclusions**\n",
    "\n",
    "The analysis revealed no statistically significant differences in the average number of orders per customer between the segments Best Customers and Average Customers, as well as in the average order value per customer among the segments Best Customers, At-Risk Customers, and Infrequent/New Customers (in all combinations). In all other cases, the differences in parameters were statistically significant.\n",
    "\n",
    "We can conclude that the segmentation was performed successfully."
   ]
  },
  {
   "cell_type": "markdown",
   "id": "7064428b",
   "metadata": {},
   "source": [
    "## Analysis of Category Preferences by Customer Segments "
   ]
  },
  {
   "cell_type": "markdown",
   "id": "7e01a109",
   "metadata": {},
   "source": [
    "To assess preferences, we will calculate the share of orders that include products from a specific category."
   ]
  },
  {
   "cell_type": "code",
   "execution_count": 418,
   "id": "f719dc3a",
   "metadata": {
    "scrolled": true
   },
   "outputs": [
    {
     "data": {
      "image/png": "[encoded data removed]",
      "text/plain": [
       "<Figure size 720x432 with 2 Axes>"
      ]
     },
     "metadata": {},
     "output_type": "display_data"
    }
   ],
   "source": [
    "# Create a pivot table showing the number of unique orders per category and segment (excluding 'Low-Value Customers')\n",
    "pivot_seg_cat = data.query('segment != \"Low-Value Customers\"')\\\n",
    "                    .pivot_table(index='category', columns='segment', aggfunc='nunique', values='order_id')\n",
    "\n",
    "# Calculate percentage of orders in each category per segment\n",
    "col_sums = pivot_seg_cat.sum()\n",
    "pivot_seg_cat = pivot_seg_cat.apply(lambda x: x / col_sums[x.name] * 100, axis=0)\n",
    "\n",
    "# Plot heatmap\n",
    "fig = plt.figure(figsize=figsize_norm)\n",
    "sns.heatmap(pivot_seg_cat, cmap=cmap, annot=True, fmt='.0f')\n",
    "plt.title('Percentage of Orders Containing Products from Each Category by Customer Segment', fontsize=fontsize)\n",
    "plt.xlabel('Customer Segment', fontsize=fontsize)\n",
    "plt.ylabel('Product Category', fontsize=fontsize)\n",
    "plt.show()"
   ]
  },
  {
   "cell_type": "markdown",
   "id": "7e2a70ae",
   "metadata": {},
   "source": [
    "Based on the resulting heatmap, we can conclude that customer preferences by segment are as follows:\n",
    "\n",
    "- Best Customers most frequently purchase items from the Laundry and Ironing category (21%), Household Goods and Cleaning Supplies (19%), and Trolleys and Bags (18%). Notably, the Laundry and Ironing and Trolleys and Bags categories are associated with the highest median product prices.\n",
    "\n",
    "- Infrequent/New Customers tend to favor Laundry and Ironing (16%), Household Goods and Cleaning Supplies (15%), Trolleys and Bags (15%), and Flower Seedlings and Seeds (14%).\n",
    "\n",
    "- Average Customers prefer Laundry and Ironing (19%), Household Goods and Cleaning Supplies (17%), and Houseplants (14%).\n",
    "\n",
    "- At-Risk Customers show a preference for Laundry and Ironing (20%), Household Goods and Cleaning Supplies (17%), Kitchen (14%), and Trolleys and Bags (13%). The almost complete absence of orders from seedling-related categories may be due to these customers having stopped shopping before the gardening season began.\n",
    "\n",
    "- Thrifty Customers prefer Houseplants (24%), Household Goods and Cleaning Supplies (15%), Kitchen (13%), and Artificial Flowers and Imitations (12%).\n",
    "\n",
    "It is also worth noting that all segments show relatively low interest in Textiles and For Celebrations, with these categories accounting for no more than 7% of all orders."
   ]
  },
  {
   "cell_type": "markdown",
   "id": "3f1cab7e",
   "metadata": {},
   "source": [
    "## Conclusions and Recommendations"
   ]
  },
  {
   "cell_type": "markdown",
   "id": "3681736f",
   "metadata": {},
   "source": [
    "**Preprocessing**\n",
    "\n",
    "During data preprocessing, 1,924 duplicates (~26% of all records) were removed. Additionally, 2 records were excluded where the product price exceeded 10,000 rubles or the product quantity exceeded 400 units. The 'date' field was converted to datetime format. The final dataset after preprocessing contains 5,477 records. The large number of duplicates indicates issues in the data export process.\n",
    "\n",
    "**General Store Performance Indicators**\n",
    "\n",
    "The data covers the period from October 1, 2018, to January 31, 2020 (16 months) and contains records on 2,408 customers and 3,494 orders. Over the entire period, the store's total revenue amounted to 3,890,216 rubles, with an average monthly revenue of 243,138 rubles and an average order value of 1,113 rubles.\n",
    "\n",
    "Monthly revenue and average order value show a downward trend throughout the period. This may indicate problems, as performance in Q4 2019 is noticeably lower than in 2018.\n",
    "\n",
    "Customer behavior does not depend on the day of the month, but it does vary by day of the week and time of order placement. Mondays and Tuesdays show the highest number of orders (average 8.3–8.6), while the highest average order value occurs on Fridays (1,257 rubles) and Tuesdays (1,268 rubles). Saturdays show both fewer orders (5.2) and the lowest average order value (925 rubles). Peak order activity occurs from 10–12 a.m., whereas the highest average order values come from early morning orders at 6–7 a.m.\n",
    "\n",
    "**Product Categorisation**\n",
    "\n",
    "All products in the dataset were classified into the following 10 categories:\n",
    "\n",
    "- 'Household Goods and Cleaning Supplies'\n",
    "- 'Vegetable and Berry Seedlings'\n",
    "- 'Kitchen'\n",
    "- 'Laundry and Ironing'\n",
    "- 'Flower Seedlings and Seeds'\n",
    "- 'Houseplants'\n",
    "- 'Textiles'\n",
    "- 'For Celebrations'\n",
    "- 'Artificial Flowers and Imitations'\n",
    "- 'Trolleys and Bags'\n",
    "\n",
    "Each category includes between 106 and 389 products, which appear in 206 to 621 orders and generated revenue ranging from ~87,000 to 825,000 rubles.\n",
    "\n",
    "The most notable category is 'Trolleys and Bags': despite the smallest assortment, this category ranks 4th by number of orders and 1st by revenue, mainly due to the highest product price (median: 1,087 rubles).\n",
    "\n",
    "The second-highest revenue comes from 'Household Goods and Cleaning Supplies', which has the broadest assortment (389 items), ranks 2nd by order volume, and has an average product price of 374 rubles.\n",
    "\n",
    "'Household Goods and Cleaning Supplies' and 'Laundry and Ironing' also contribute significantly (775.2k and 755k rubles, respectively). The 'Laundry and Ironing' category leads in the number of orders and ranks 4th in assortment volume, with a high median product price (652 rubles).\n",
    "\n",
    "'Textiles' shows promising results: with a modest assortment (7th place) and relatively few orders (9th place), it still generates 306k rubles (5th place), thanks to high product prices (712 rubles).\n",
    "\n",
    "The least profitable categories are 'Vegetable and Berry Seedlings', 'Artificial Flowers and Imitations', and 'Flower Seedlings and Seeds'. Products in these categories are among the cheapest (52–112 rubles), although the seedling categories have a substantial assortment.\n",
    "\n",
    "Seasonal demand is observed in the following categories:\n",
    "\n",
    "- 'For Celebrations' (December, March–May)\n",
    "- 'Artificial Flowers and Imitations' and 'Houseplants' (February–April)\n",
    "- 'Kitchen' (winter months)\n",
    "- 'Flower Seedlings and Seeds' and 'Vegetable and Berry Seedlings' (April, May)\n",
    "\n",
    "Six categories show variation in order volume between the November–January periods of the 2018–2019 and 2019–2020 seasons. In 'Laundry and Ironing', 'Trolleys and Bags', 'Textiles', and 'Household Goods and Cleaning Supplies', the number of orders decreased in the second season, while in 'Flower Seedlings and Seeds' and 'Vegetable and Berry Seedlings', it increased. This shift may explain the decline in the store’s financial metrics: users increasingly order cheaper product categories and less often purchase from more expensive ones. This could be driven by external factors or internal store issues.\n",
    "\n",
    "**Customer Segmentation**\n",
    "\n",
    "An RFM analysis was conducted to segment customers based on:\n",
    "\n",
    "- How recently they made a purchase (Recency)\n",
    "- How often they made purchases (Frequency)\n",
    "- How much they spent in total (Monetary Value)\n",
    "\n",
    "The following segments were identified: \n",
    "- Best Customers, \n",
    "- Thrifty Customers, \n",
    "- Average Customers, \n",
    "- At-Risk Customers, \n",
    "- Infrequent/New Customers, \n",
    "- Low-Value Customers. \n",
    "\n",
    "A detailed breakdown of each segment follows.\n",
    "Statistical testing showed no significant differences in the average number of orders between Best Customers and Average Customers, nor in the average order value between Best Customers, At-Risk Customers, and Infrequent/New Customers (in all combinations). In all other cases, the differences were statistically significant. This indicates that the segmentation was successful.\n",
    "\n",
    "**User Profiles and Recommendations for Performance Improvement**\n",
    "\n",
    "`Best Customers`: This segment includes 362 customers. Users in this segment generate the highest profit (3427 RUB). On average, they placed 2.1 orders during the observation period, with an average order value of 1636 RUB and an average of 1.8 items per order. These are the most loyal customers with short intervals between orders. Despite ordering relatively few items, they contribute significantly to revenue due to a preference for more expensive products (categories with high median prices). They most frequently purchase products from the following categories: `Laundry and Ironing` (21% of orders), `Household Goods and Cleaning Supplies` (19%), and `Trolleys and Bags` (18%). This segment represents the most valuable customers and could be used for surveys. Consider implementing or maintaining a loyalty program for them.\n",
    "\n",
    "`Thrifty Customers`: This group includes 521 users. On average, they placed 1.3 orders with a check of 197 RUB and 1.8 items per order. Their low revenue is due to small order sizes (on average 2 products) and preferences for low-cost product categories such as `Houseplants` (24%), `Household Goods and Cleaning Supplies` (15%), `Kitchen` (13%), and `Artificial Flowers and Imitations` (12%). The main goal for this segment is to encourage larger orders and purchases from more expensive categories. This can be done by recommending relevant higher-priced products before checkout and offering discounts on orders above a certain threshold.\n",
    "\n",
    "`Average Customers`: This group includes 279 clients who placed, on average, 2 orders with an average check of 433 RUB and 1.3 items per order. The revenue per customer in this group is 876 RUB. The average check in this group shows a downward trend. They mostly buy from `Laundry and Ironing` (19%), `Household Goods and Cleaning Supplies` (17%), and `Houseplants` (14%). They can be encouraged to spend more using similar methods as for `Thrifty Customers`.\n",
    "\n",
    "`At-Risk Customers`: This is the largest segment with 519 users. The average check per customer in this segment is higher than that of the `Best Customers`—1829 RUB. These users placed an average of 1.4 orders, generating 2555 RUB per customer. They typically purchase in bulk, with an average of 7.3 items per order. However, they have not made recent purchases. They prefer more expensive product categories: `Laundry and Ironing` (20%), `Household Goods and Cleaning Supplies` (17%), `Kitchen` (14%), and `Trolleys and Bags` (13%). Their near absence from categories such as `Flower Seedlings and Seeds` may suggest they churned before the gardening season. These are highly valuable users, and it may be worthwhile to try to win them back with special offers, promo codes, etc.\n",
    "\n",
    "`Infrequent/New Customers`: This segment includes 445 users. By definition, these customers placed only one order (the lowest among all segments), but they had the highest average order value (1936 RUB), which equals the revenue they generated. They tend to buy in bulk—on average, 8.5 items per order—and placed their order recently. They prefer categories like `Laundry and Ironing` (16%), `Household Goods and Cleaning Supplies` (15%), `Trolleys and Bags` (15%), and `Flower Seedlings and Seeds` (14%). These users can be encouraged to buy more frequently through seasonal or personalized email campaigns, as well as recommendations for products from previously purchased categories. A loyalty program could also be introduced.\n",
    "\n",
    "`Low-Value Customers`: There are 282 users in this segment, and it is not advisable to allocate resources toward them—they have not made purchases in a long time and spent very little. Interestingly, their average check and customer revenue exceed those of the `Thrifty Customers`, but the latter group demonstrates significantly greater loyalty.\n",
    "\n",
    "**General Recommendations**\n",
    "\n",
    "First and foremost, key performance indicators of the store (monthly revenue and average check) show a declining trend, which may indicate the presence of underlying issues. There are signs that customers are ordering more frequently from lower-priced categories and less from high-value categories.\n",
    "\n",
    "Among clearly seasonal products, seedlings (2 categories) stand out. These are typically purchased in April and May. Seasonal email campaigns can be sent to users who previously bought from these categories.\n",
    "\n",
    "In the `Laundry and Ironing` category, there are many ironing boards and related accessories. When a customer purchases a board or an accessory, other complementary items can be suggested before checkout.\n",
    "\n",
    "The catalog includes a section for `For Celebrations` products—gift sets for March 8, fresh flowers, and Christmas trees. Seasonal promotions can be sent to customers offering products from this catalog.\n",
    "\n",
    "Additionally, there is a noticeable low interest across all segments in the `Textiles` category (no more than 7% of all orders). This category includes relatively expensive items that could increase the average order value. It is worth investigating the cause of the low demand—limited assortment, lack of need, poor site placement, or difficult navigation.\n",
    "\n",
    "The `For Celebrations` category is unprofitable and unpopular. It may be worth reviewing its content and potentially discontinuing some products."
   ]
  },
  {
   "cell_type": "code",
   "execution_count": null,
   "id": "2694e90a",
   "metadata": {},
   "outputs": [],
   "source": []
  }
 ],
 "metadata": {
  "ExecuteTimeLog": [
   {
    "duration": 1392,
    "start_time": "2023-04-21T02:13:00.185Z"
   },
   {
    "duration": 5,
    "start_time": "2023-04-21T02:13:01.579Z"
   },
   {
    "duration": 1666,
    "start_time": "2023-04-21T02:13:01.586Z"
   },
   {
    "duration": 14,
    "start_time": "2023-04-21T02:13:03.254Z"
   },
   {
    "duration": 15,
    "start_time": "2023-04-21T02:13:03.270Z"
   },
   {
    "duration": 17,
    "start_time": "2023-04-21T02:13:03.287Z"
   },
   {
    "duration": 32,
    "start_time": "2023-04-21T02:13:03.305Z"
   },
   {
    "duration": 10,
    "start_time": "2023-04-21T02:13:03.338Z"
   },
   {
    "duration": 13,
    "start_time": "2023-04-21T02:13:03.349Z"
   },
   {
    "duration": 10,
    "start_time": "2023-04-21T02:13:03.365Z"
   },
   {
    "duration": 18,
    "start_time": "2023-04-21T02:13:03.377Z"
   },
   {
    "duration": 4,
    "start_time": "2023-04-21T02:13:03.397Z"
   },
   {
    "duration": 22,
    "start_time": "2023-04-21T02:13:03.403Z"
   },
   {
    "duration": 135,
    "start_time": "2023-04-21T02:13:03.435Z"
   },
   {
    "duration": 105,
    "start_time": "2023-04-21T02:13:03.572Z"
   },
   {
    "duration": 11,
    "start_time": "2023-04-21T02:13:03.678Z"
   },
   {
    "duration": 18,
    "start_time": "2023-04-21T02:13:03.690Z"
   },
   {
    "duration": 36,
    "start_time": "2023-04-21T02:13:03.710Z"
   },
   {
    "duration": 5,
    "start_time": "2023-04-21T02:13:03.748Z"
   },
   {
    "duration": 13,
    "start_time": "2023-04-21T02:13:03.754Z"
   },
   {
    "duration": 35,
    "start_time": "2023-04-21T02:13:03.768Z"
   },
   {
    "duration": 38,
    "start_time": "2023-04-21T02:13:03.805Z"
   },
   {
    "duration": 330,
    "start_time": "2023-04-21T02:13:03.845Z"
   },
   {
    "duration": 295,
    "start_time": "2023-04-21T02:13:04.177Z"
   },
   {
    "duration": 43,
    "start_time": "2023-04-21T02:13:04.473Z"
   },
   {
    "duration": 454,
    "start_time": "2023-04-21T02:13:04.517Z"
   },
   {
    "duration": 363,
    "start_time": "2023-04-21T02:13:04.974Z"
   },
   {
    "duration": 353,
    "start_time": "2023-04-21T02:13:05.340Z"
   },
   {
    "duration": 8,
    "start_time": "2023-04-21T02:13:05.695Z"
   },
   {
    "duration": 47,
    "start_time": "2023-04-21T02:13:05.704Z"
   },
   {
    "duration": 15,
    "start_time": "2023-04-21T02:13:05.752Z"
   },
   {
    "duration": 11,
    "start_time": "2023-04-21T02:13:05.769Z"
   },
   {
    "duration": 2149,
    "start_time": "2023-04-21T02:13:05.782Z"
   },
   {
    "duration": 4,
    "start_time": "2023-04-21T02:13:07.935Z"
   },
   {
    "duration": 27,
    "start_time": "2023-04-21T02:13:07.941Z"
   },
   {
    "duration": 695,
    "start_time": "2023-04-21T02:13:07.970Z"
   },
   {
    "duration": 1363,
    "start_time": "2023-04-21T02:13:08.667Z"
   },
   {
    "duration": 421,
    "start_time": "2023-04-21T02:13:10.034Z"
   },
   {
    "duration": 9,
    "start_time": "2023-04-21T02:13:10.459Z"
   },
   {
    "duration": 5,
    "start_time": "2023-04-21T02:13:10.469Z"
   },
   {
    "duration": 120,
    "start_time": "2023-04-21T02:13:10.476Z"
   },
   {
    "duration": 11,
    "start_time": "2023-04-21T02:13:10.598Z"
   },
   {
    "duration": 22,
    "start_time": "2023-04-21T02:13:10.611Z"
   },
   {
    "duration": 4,
    "start_time": "2023-04-21T02:13:10.635Z"
   },
   {
    "duration": 97,
    "start_time": "2023-04-21T02:13:10.641Z"
   },
   {
    "duration": 9,
    "start_time": "2023-04-21T02:13:10.740Z"
   },
   {
    "duration": 12,
    "start_time": "2023-04-21T02:13:10.751Z"
   },
   {
    "duration": 35,
    "start_time": "2023-04-21T02:13:10.765Z"
   },
   {
    "duration": 785,
    "start_time": "2023-04-21T02:13:10.801Z"
   },
   {
    "duration": 762,
    "start_time": "2023-04-21T02:13:11.588Z"
   },
   {
    "duration": 2,
    "start_time": "2023-04-21T02:13:12.352Z"
   },
   {
    "duration": 24,
    "start_time": "2023-04-21T02:13:12.356Z"
   },
   {
    "duration": 155,
    "start_time": "2023-04-21T02:13:12.381Z"
   },
   {
    "duration": 5,
    "start_time": "2023-04-21T02:13:12.537Z"
   },
   {
    "duration": 8,
    "start_time": "2023-04-21T02:13:12.544Z"
   },
   {
    "duration": 7,
    "start_time": "2023-04-21T02:13:12.554Z"
   },
   {
    "duration": 8,
    "start_time": "2023-04-21T02:13:12.562Z"
   },
   {
    "duration": 99,
    "start_time": "2023-04-21T02:13:12.571Z"
   },
   {
    "duration": 116,
    "start_time": "2023-04-21T02:13:12.672Z"
   },
   {
    "duration": 668,
    "start_time": "2023-04-21T02:13:12.790Z"
   },
   {
    "duration": 5,
    "start_time": "2023-04-21T02:38:19.637Z"
   },
   {
    "duration": 123,
    "start_time": "2023-04-21T02:38:25.231Z"
   },
   {
    "duration": 55,
    "start_time": "2023-04-21T08:11:52.232Z"
   },
   {
    "duration": 1533,
    "start_time": "2023-04-21T08:12:27.595Z"
   },
   {
    "duration": 5,
    "start_time": "2023-04-21T08:12:29.131Z"
   },
   {
    "duration": 1124,
    "start_time": "2023-04-21T08:12:29.138Z"
   },
   {
    "duration": 16,
    "start_time": "2023-04-21T08:12:30.264Z"
   },
   {
    "duration": 51,
    "start_time": "2023-04-21T08:12:30.283Z"
   },
   {
    "duration": 51,
    "start_time": "2023-04-21T08:12:30.336Z"
   },
   {
    "duration": 30,
    "start_time": "2023-04-21T08:12:30.389Z"
   },
   {
    "duration": 46,
    "start_time": "2023-04-21T08:12:30.421Z"
   },
   {
    "duration": 26,
    "start_time": "2023-04-21T08:12:30.470Z"
   },
   {
    "duration": 42,
    "start_time": "2023-04-21T08:12:30.499Z"
   },
   {
    "duration": 52,
    "start_time": "2023-04-21T08:12:30.543Z"
   },
   {
    "duration": 36,
    "start_time": "2023-04-21T08:12:30.597Z"
   },
   {
    "duration": 58,
    "start_time": "2023-04-21T08:12:30.635Z"
   },
   {
    "duration": 204,
    "start_time": "2023-04-21T08:12:30.697Z"
   },
   {
    "duration": 127,
    "start_time": "2023-04-21T08:12:30.903Z"
   },
   {
    "duration": 19,
    "start_time": "2023-04-21T08:12:31.033Z"
   },
   {
    "duration": 85,
    "start_time": "2023-04-21T08:12:31.055Z"
   },
   {
    "duration": 22,
    "start_time": "2023-04-21T08:12:31.142Z"
   },
   {
    "duration": 35,
    "start_time": "2023-04-21T08:12:31.166Z"
   },
   {
    "duration": 36,
    "start_time": "2023-04-21T08:12:31.203Z"
   },
   {
    "duration": 38,
    "start_time": "2023-04-21T08:12:31.240Z"
   },
   {
    "duration": 459,
    "start_time": "2023-04-21T08:12:31.280Z"
   },
   {
    "duration": 807,
    "start_time": "2023-04-21T08:12:31.741Z"
   },
   {
    "duration": 111,
    "start_time": "2023-04-21T08:12:32.550Z"
   },
   {
    "duration": 982,
    "start_time": "2023-04-21T08:12:32.663Z"
   },
   {
    "duration": 459,
    "start_time": "2023-04-21T08:12:33.647Z"
   },
   {
    "duration": 427,
    "start_time": "2023-04-21T08:12:34.108Z"
   },
   {
    "duration": 9,
    "start_time": "2023-04-21T08:12:34.540Z"
   },
   {
    "duration": 41,
    "start_time": "2023-04-21T08:12:34.551Z"
   },
   {
    "duration": 16,
    "start_time": "2023-04-21T08:12:34.594Z"
   },
   {
    "duration": 27,
    "start_time": "2023-04-21T08:12:34.614Z"
   },
   {
    "duration": 2463,
    "start_time": "2023-04-21T08:12:34.644Z"
   },
   {
    "duration": 6,
    "start_time": "2023-04-21T08:12:37.109Z"
   },
   {
    "duration": 41,
    "start_time": "2023-04-21T08:12:37.118Z"
   },
   {
    "duration": 923,
    "start_time": "2023-04-21T08:12:37.161Z"
   },
   {
    "duration": 1344,
    "start_time": "2023-04-21T08:12:38.086Z"
   },
   {
    "duration": 445,
    "start_time": "2023-04-21T08:12:39.431Z"
   },
   {
    "duration": 10,
    "start_time": "2023-04-21T08:12:39.878Z"
   },
   {
    "duration": 6,
    "start_time": "2023-04-21T08:12:39.890Z"
   },
   {
    "duration": 137,
    "start_time": "2023-04-21T08:12:39.898Z"
   },
   {
    "duration": 14,
    "start_time": "2023-04-21T08:12:40.040Z"
   },
   {
    "duration": 5,
    "start_time": "2023-04-21T08:12:40.055Z"
   },
   {
    "duration": 16,
    "start_time": "2023-04-21T08:12:40.061Z"
   },
   {
    "duration": 120,
    "start_time": "2023-04-21T08:12:40.079Z"
   },
   {
    "duration": 12,
    "start_time": "2023-04-21T08:12:40.202Z"
   },
   {
    "duration": 32,
    "start_time": "2023-04-21T08:12:40.215Z"
   },
   {
    "duration": 38,
    "start_time": "2023-04-21T08:12:40.249Z"
   },
   {
    "duration": 802,
    "start_time": "2023-04-21T08:12:40.288Z"
   },
   {
    "duration": 818,
    "start_time": "2023-04-21T08:12:41.092Z"
   },
   {
    "duration": 3,
    "start_time": "2023-04-21T08:12:41.911Z"
   },
   {
    "duration": 48,
    "start_time": "2023-04-21T08:12:41.916Z"
   },
   {
    "duration": 164,
    "start_time": "2023-04-21T08:12:41.966Z"
   },
   {
    "duration": 10,
    "start_time": "2023-04-21T08:12:42.132Z"
   },
   {
    "duration": 10,
    "start_time": "2023-04-21T08:12:42.144Z"
   },
   {
    "duration": 8,
    "start_time": "2023-04-21T08:12:42.156Z"
   },
   {
    "duration": 17,
    "start_time": "2023-04-21T08:12:42.166Z"
   },
   {
    "duration": 101,
    "start_time": "2023-04-21T08:12:42.185Z"
   },
   {
    "duration": 163,
    "start_time": "2023-04-21T08:12:42.287Z"
   },
   {
    "duration": 650,
    "start_time": "2023-04-21T08:12:42.452Z"
   },
   {
    "duration": 14,
    "start_time": "2023-04-21T08:21:23.336Z"
   },
   {
    "duration": 14,
    "start_time": "2023-04-21T08:21:29.562Z"
   },
   {
    "duration": 151,
    "start_time": "2023-04-21T08:23:48.825Z"
   },
   {
    "duration": 30,
    "start_time": "2023-04-21T08:24:05.229Z"
   },
   {
    "duration": 12,
    "start_time": "2023-04-21T08:24:14.075Z"
   },
   {
    "duration": 13,
    "start_time": "2023-04-21T08:24:26.471Z"
   },
   {
    "duration": 19,
    "start_time": "2023-04-21T08:30:21.032Z"
   },
   {
    "duration": 18,
    "start_time": "2023-04-21T08:31:41.386Z"
   },
   {
    "duration": 11,
    "start_time": "2023-04-21T08:32:04.584Z"
   },
   {
    "duration": 181,
    "start_time": "2023-04-21T08:33:17.402Z"
   },
   {
    "duration": 30,
    "start_time": "2023-04-21T08:33:35.220Z"
   },
   {
    "duration": 24,
    "start_time": "2023-04-21T08:33:51.486Z"
   },
   {
    "duration": 20,
    "start_time": "2023-04-21T08:34:00.310Z"
   },
   {
    "duration": 10,
    "start_time": "2023-04-21T08:34:17.720Z"
   },
   {
    "duration": 25,
    "start_time": "2023-04-21T08:34:43.405Z"
   },
   {
    "duration": 19,
    "start_time": "2023-04-21T08:34:59.373Z"
   },
   {
    "duration": 20,
    "start_time": "2023-04-21T08:35:04.599Z"
   },
   {
    "duration": 21,
    "start_time": "2023-04-21T08:36:32.753Z"
   },
   {
    "duration": 20,
    "start_time": "2023-04-21T08:36:49.179Z"
   },
   {
    "duration": 24,
    "start_time": "2023-04-21T08:36:54.196Z"
   },
   {
    "duration": 14,
    "start_time": "2023-04-21T08:38:06.431Z"
   },
   {
    "duration": 11,
    "start_time": "2023-04-21T08:38:09.155Z"
   },
   {
    "duration": 20,
    "start_time": "2023-04-21T08:38:21.523Z"
   },
   {
    "duration": 31,
    "start_time": "2023-04-21T08:39:21.692Z"
   },
   {
    "duration": 25,
    "start_time": "2023-04-21T08:40:18.937Z"
   },
   {
    "duration": 4,
    "start_time": "2023-04-21T08:40:22.612Z"
   },
   {
    "duration": 27,
    "start_time": "2023-04-21T08:40:22.619Z"
   },
   {
    "duration": 933,
    "start_time": "2023-04-21T08:40:22.648Z"
   },
   {
    "duration": 12,
    "start_time": "2023-04-21T08:40:23.583Z"
   },
   {
    "duration": 71,
    "start_time": "2023-04-21T08:40:23.598Z"
   },
   {
    "duration": 64,
    "start_time": "2023-04-21T08:40:23.671Z"
   },
   {
    "duration": 49,
    "start_time": "2023-04-21T08:40:23.737Z"
   },
   {
    "duration": 46,
    "start_time": "2023-04-21T08:40:23.789Z"
   },
   {
    "duration": 37,
    "start_time": "2023-04-21T08:40:23.837Z"
   },
   {
    "duration": 34,
    "start_time": "2023-04-21T08:40:23.876Z"
   },
   {
    "duration": 23,
    "start_time": "2023-04-21T08:40:23.913Z"
   },
   {
    "duration": 20,
    "start_time": "2023-04-21T08:40:23.938Z"
   },
   {
    "duration": 24,
    "start_time": "2023-04-21T08:40:23.960Z"
   },
   {
    "duration": 141,
    "start_time": "2023-04-21T08:40:23.988Z"
   },
   {
    "duration": 132,
    "start_time": "2023-04-21T08:40:24.131Z"
   },
   {
    "duration": 13,
    "start_time": "2023-04-21T08:40:24.265Z"
   },
   {
    "duration": 36,
    "start_time": "2023-04-21T08:40:24.280Z"
   },
   {
    "duration": 51,
    "start_time": "2023-04-21T08:40:24.320Z"
   },
   {
    "duration": 9,
    "start_time": "2023-04-21T08:40:24.373Z"
   },
   {
    "duration": 22,
    "start_time": "2023-04-21T08:40:24.385Z"
   },
   {
    "duration": 52,
    "start_time": "2023-04-21T08:40:24.409Z"
   },
   {
    "duration": 27,
    "start_time": "2023-04-21T08:40:24.463Z"
   },
   {
    "duration": 337,
    "start_time": "2023-04-21T08:40:24.492Z"
   },
   {
    "duration": 426,
    "start_time": "2023-04-21T08:40:24.840Z"
   },
   {
    "duration": 79,
    "start_time": "2023-04-21T08:40:25.269Z"
   },
   {
    "duration": 546,
    "start_time": "2023-04-21T08:40:25.350Z"
   },
   {
    "duration": 412,
    "start_time": "2023-04-21T08:40:25.899Z"
   },
   {
    "duration": 555,
    "start_time": "2023-04-21T08:40:26.313Z"
   },
   {
    "duration": 10,
    "start_time": "2023-04-21T08:40:26.871Z"
   },
   {
    "duration": 49,
    "start_time": "2023-04-21T08:40:26.884Z"
   },
   {
    "duration": 16,
    "start_time": "2023-04-21T08:40:26.942Z"
   },
   {
    "duration": 41,
    "start_time": "2023-04-21T08:40:26.961Z"
   },
   {
    "duration": 2776,
    "start_time": "2023-04-21T08:40:27.004Z"
   },
   {
    "duration": 61,
    "start_time": "2023-04-21T08:40:29.782Z"
   },
   {
    "duration": 99,
    "start_time": "2023-04-21T08:40:29.845Z"
   },
   {
    "duration": 1240,
    "start_time": "2023-04-21T08:40:29.946Z"
   },
   {
    "duration": 1340,
    "start_time": "2023-04-21T08:40:31.240Z"
   },
   {
    "duration": 515,
    "start_time": "2023-04-21T08:40:32.583Z"
   },
   {
    "duration": 12,
    "start_time": "2023-04-21T08:40:33.100Z"
   },
   {
    "duration": 48,
    "start_time": "2023-04-21T08:40:33.114Z"
   },
   {
    "duration": 157,
    "start_time": "2023-04-21T08:40:33.168Z"
   },
   {
    "duration": 21,
    "start_time": "2023-04-21T08:40:33.328Z"
   },
   {
    "duration": 7,
    "start_time": "2023-04-21T08:40:33.351Z"
   },
   {
    "duration": 22,
    "start_time": "2023-04-21T08:40:33.360Z"
   },
   {
    "duration": 131,
    "start_time": "2023-04-21T08:40:33.384Z"
   },
   {
    "duration": 24,
    "start_time": "2023-04-21T08:40:33.517Z"
   },
   {
    "duration": 92,
    "start_time": "2023-04-21T08:40:33.543Z"
   },
   {
    "duration": 40,
    "start_time": "2023-04-21T08:40:33.637Z"
   },
   {
    "duration": 855,
    "start_time": "2023-04-21T08:40:33.679Z"
   },
   {
    "duration": 827,
    "start_time": "2023-04-21T08:40:34.536Z"
   },
   {
    "duration": 4,
    "start_time": "2023-04-21T08:40:35.365Z"
   },
   {
    "duration": 40,
    "start_time": "2023-04-21T08:40:35.371Z"
   },
   {
    "duration": 186,
    "start_time": "2023-04-21T08:40:35.413Z"
   },
   {
    "duration": 6,
    "start_time": "2023-04-21T08:40:35.601Z"
   },
   {
    "duration": 92,
    "start_time": "2023-04-21T08:40:35.609Z"
   },
   {
    "duration": 51,
    "start_time": "2023-04-21T08:40:35.703Z"
   },
   {
    "duration": 39,
    "start_time": "2023-04-21T08:40:35.756Z"
   },
   {
    "duration": 182,
    "start_time": "2023-04-21T08:40:35.797Z"
   },
   {
    "duration": 200,
    "start_time": "2023-04-21T08:40:35.982Z"
   },
   {
    "duration": 804,
    "start_time": "2023-04-21T08:40:36.185Z"
   },
   {
    "duration": 10,
    "start_time": "2023-04-21T08:42:19.069Z"
   },
   {
    "duration": 19,
    "start_time": "2023-04-21T08:44:27.046Z"
   },
   {
    "duration": 13,
    "start_time": "2023-04-21T08:46:36.332Z"
   },
   {
    "duration": 17,
    "start_time": "2023-04-21T08:53:31.558Z"
   },
   {
    "duration": 13,
    "start_time": "2023-04-21T08:54:17.944Z"
   },
   {
    "duration": 16,
    "start_time": "2023-04-21T08:55:16.843Z"
   },
   {
    "duration": 21,
    "start_time": "2023-04-21T08:56:06.182Z"
   },
   {
    "duration": 14,
    "start_time": "2023-04-21T08:56:44.676Z"
   },
   {
    "duration": 13,
    "start_time": "2023-04-21T08:59:11.722Z"
   },
   {
    "duration": 14,
    "start_time": "2023-04-21T09:00:00.657Z"
   },
   {
    "duration": 13,
    "start_time": "2023-04-21T09:05:26.408Z"
   },
   {
    "duration": 16,
    "start_time": "2023-04-21T09:07:55.929Z"
   },
   {
    "duration": 12,
    "start_time": "2023-04-21T09:08:12.014Z"
   },
   {
    "duration": 13,
    "start_time": "2023-04-21T09:11:20.633Z"
   },
   {
    "duration": 16,
    "start_time": "2023-04-21T09:11:36.244Z"
   },
   {
    "duration": 18,
    "start_time": "2023-04-21T09:12:16.251Z"
   },
   {
    "duration": 13,
    "start_time": "2023-04-21T09:12:19.266Z"
   },
   {
    "duration": 13,
    "start_time": "2023-04-21T09:13:43.541Z"
   },
   {
    "duration": 1526,
    "start_time": "2023-04-21T09:34:57.891Z"
   },
   {
    "duration": 3,
    "start_time": "2023-04-21T09:35:13.975Z"
   },
   {
    "duration": 8,
    "start_time": "2023-04-21T09:35:13.984Z"
   },
   {
    "duration": 981,
    "start_time": "2023-04-21T09:35:13.995Z"
   },
   {
    "duration": 13,
    "start_time": "2023-04-21T09:35:14.978Z"
   },
   {
    "duration": 51,
    "start_time": "2023-04-21T09:35:14.993Z"
   },
   {
    "duration": 41,
    "start_time": "2023-04-21T09:35:15.048Z"
   },
   {
    "duration": 45,
    "start_time": "2023-04-21T09:35:15.092Z"
   },
   {
    "duration": 37,
    "start_time": "2023-04-21T09:35:15.140Z"
   },
   {
    "duration": 24,
    "start_time": "2023-04-21T09:35:15.179Z"
   },
   {
    "duration": 15,
    "start_time": "2023-04-21T09:35:15.205Z"
   },
   {
    "duration": 37,
    "start_time": "2023-04-21T09:35:15.223Z"
   },
   {
    "duration": 23,
    "start_time": "2023-04-21T09:35:15.262Z"
   },
   {
    "duration": 20,
    "start_time": "2023-04-21T09:35:15.287Z"
   },
   {
    "duration": 145,
    "start_time": "2023-04-21T09:35:15.310Z"
   },
   {
    "duration": 128,
    "start_time": "2023-04-21T09:35:15.459Z"
   },
   {
    "duration": 13,
    "start_time": "2023-04-21T09:35:15.589Z"
   },
   {
    "duration": 43,
    "start_time": "2023-04-21T09:35:15.604Z"
   },
   {
    "duration": 26,
    "start_time": "2023-04-21T09:35:15.649Z"
   },
   {
    "duration": 6,
    "start_time": "2023-04-21T09:35:15.677Z"
   },
   {
    "duration": 26,
    "start_time": "2023-04-21T09:35:15.685Z"
   },
   {
    "duration": 24,
    "start_time": "2023-04-21T09:35:15.742Z"
   },
   {
    "duration": 55,
    "start_time": "2023-04-21T09:35:15.768Z"
   },
   {
    "duration": 363,
    "start_time": "2023-04-21T09:35:15.825Z"
   },
   {
    "duration": 462,
    "start_time": "2023-04-21T09:35:16.191Z"
   },
   {
    "duration": 90,
    "start_time": "2023-04-21T09:35:16.655Z"
   },
   {
    "duration": 528,
    "start_time": "2023-04-21T09:35:16.748Z"
   },
   {
    "duration": 351,
    "start_time": "2023-04-21T09:35:17.278Z"
   },
   {
    "duration": 479,
    "start_time": "2023-04-21T09:35:17.632Z"
   },
   {
    "duration": 11,
    "start_time": "2023-04-21T09:35:18.113Z"
   },
   {
    "duration": 64,
    "start_time": "2023-04-21T09:35:18.126Z"
   },
   {
    "duration": 22,
    "start_time": "2023-04-21T09:35:18.193Z"
   },
   {
    "duration": 39,
    "start_time": "2023-04-21T09:35:18.217Z"
   },
   {
    "duration": 2364,
    "start_time": "2023-04-21T09:35:18.258Z"
   },
   {
    "duration": 6,
    "start_time": "2023-04-21T09:35:20.625Z"
   },
   {
    "duration": 33,
    "start_time": "2023-04-21T09:35:20.641Z"
   },
   {
    "duration": 470,
    "start_time": "2023-04-21T09:35:20.676Z"
   },
   {
    "duration": 1210,
    "start_time": "2023-04-21T09:35:21.148Z"
   },
   {
    "duration": 493,
    "start_time": "2023-04-21T09:35:22.360Z"
   },
   {
    "duration": 11,
    "start_time": "2023-04-21T09:35:22.856Z"
   },
   {
    "duration": 43,
    "start_time": "2023-04-21T09:35:22.869Z"
   },
   {
    "duration": 192,
    "start_time": "2023-04-21T09:35:22.914Z"
   },
   {
    "duration": 30,
    "start_time": "2023-04-21T09:35:23.111Z"
   },
   {
    "duration": 37,
    "start_time": "2023-04-21T09:35:23.144Z"
   },
   {
    "duration": 38,
    "start_time": "2023-04-21T09:35:23.184Z"
   },
   {
    "duration": 200,
    "start_time": "2023-04-21T09:35:23.225Z"
   },
   {
    "duration": 22,
    "start_time": "2023-04-21T09:35:23.428Z"
   },
   {
    "duration": 59,
    "start_time": "2023-04-21T09:35:23.452Z"
   },
   {
    "duration": 1317,
    "start_time": "2023-04-21T09:35:23.514Z"
   },
   {
    "duration": 57,
    "start_time": "2023-04-21T09:35:39.406Z"
   },
   {
    "duration": 44,
    "start_time": "2023-04-21T09:36:02.574Z"
   },
   {
    "duration": 72,
    "start_time": "2023-04-21T09:36:25.476Z"
   },
   {
    "duration": 49,
    "start_time": "2023-04-21T09:36:50.550Z"
   },
   {
    "duration": 46,
    "start_time": "2023-04-21T09:38:34.069Z"
   },
   {
    "duration": 48,
    "start_time": "2023-04-21T09:38:50.056Z"
   },
   {
    "duration": 55,
    "start_time": "2023-04-21T09:39:09.807Z"
   },
   {
    "duration": 77,
    "start_time": "2023-04-21T09:39:15.962Z"
   },
   {
    "duration": 46,
    "start_time": "2023-04-21T09:39:31.784Z"
   },
   {
    "duration": 59,
    "start_time": "2023-04-21T09:39:37.806Z"
   },
   {
    "duration": 59,
    "start_time": "2023-04-21T09:41:21.950Z"
   },
   {
    "duration": 46,
    "start_time": "2023-04-21T09:51:57.385Z"
   },
   {
    "duration": 48,
    "start_time": "2023-04-21T10:05:10.470Z"
   },
   {
    "duration": 49,
    "start_time": "2023-04-21T10:05:33.113Z"
   },
   {
    "duration": 50,
    "start_time": "2023-04-21T10:05:46.024Z"
   },
   {
    "duration": 48,
    "start_time": "2023-04-21T10:06:15.235Z"
   },
   {
    "duration": 48,
    "start_time": "2023-04-21T10:06:44.051Z"
   },
   {
    "duration": 52,
    "start_time": "2023-04-21T10:06:55.479Z"
   },
   {
    "duration": 47,
    "start_time": "2023-04-21T10:07:31.300Z"
   },
   {
    "duration": 1480,
    "start_time": "2023-04-21T10:07:55.677Z"
   },
   {
    "duration": 48,
    "start_time": "2023-04-21T10:08:16.839Z"
   },
   {
    "duration": 55,
    "start_time": "2023-04-21T10:08:31.670Z"
   },
   {
    "duration": 4,
    "start_time": "2023-04-21T10:59:26.706Z"
   },
   {
    "duration": 1532,
    "start_time": "2023-04-21T16:52:40.063Z"
   },
   {
    "duration": 15,
    "start_time": "2023-04-21T16:52:41.598Z"
   },
   {
    "duration": 1224,
    "start_time": "2023-04-21T16:52:41.621Z"
   },
   {
    "duration": 13,
    "start_time": "2023-04-21T16:52:42.847Z"
   },
   {
    "duration": 20,
    "start_time": "2023-04-21T16:52:42.862Z"
   },
   {
    "duration": 19,
    "start_time": "2023-04-21T16:52:42.884Z"
   },
   {
    "duration": 18,
    "start_time": "2023-04-21T16:52:42.905Z"
   },
   {
    "duration": 11,
    "start_time": "2023-04-21T16:52:42.927Z"
   },
   {
    "duration": 9,
    "start_time": "2023-04-21T16:52:42.939Z"
   },
   {
    "duration": 8,
    "start_time": "2023-04-21T16:52:42.950Z"
   },
   {
    "duration": 34,
    "start_time": "2023-04-21T16:52:42.960Z"
   },
   {
    "duration": 7,
    "start_time": "2023-04-21T16:52:42.996Z"
   },
   {
    "duration": 9,
    "start_time": "2023-04-21T16:52:43.013Z"
   },
   {
    "duration": 137,
    "start_time": "2023-04-21T16:52:43.025Z"
   },
   {
    "duration": 133,
    "start_time": "2023-04-21T16:52:43.164Z"
   },
   {
    "duration": 14,
    "start_time": "2023-04-21T16:52:43.299Z"
   },
   {
    "duration": 21,
    "start_time": "2023-04-21T16:52:43.318Z"
   },
   {
    "duration": 22,
    "start_time": "2023-04-21T16:52:43.340Z"
   },
   {
    "duration": 6,
    "start_time": "2023-04-21T16:52:43.363Z"
   },
   {
    "duration": 33,
    "start_time": "2023-04-21T16:52:43.370Z"
   },
   {
    "duration": 24,
    "start_time": "2023-04-21T16:52:43.409Z"
   },
   {
    "duration": 26,
    "start_time": "2023-04-21T16:52:43.435Z"
   },
   {
    "duration": 482,
    "start_time": "2023-04-21T16:52:43.463Z"
   },
   {
    "duration": 392,
    "start_time": "2023-04-21T16:52:43.947Z"
   },
   {
    "duration": 59,
    "start_time": "2023-04-21T16:52:44.340Z"
   },
   {
    "duration": 535,
    "start_time": "2023-04-21T16:52:44.408Z"
   },
   {
    "duration": 484,
    "start_time": "2023-04-21T16:52:44.946Z"
   },
   {
    "duration": 1273,
    "start_time": "2023-04-21T16:52:45.435Z"
   },
   {
    "duration": 11,
    "start_time": "2023-04-21T16:52:46.710Z"
   },
   {
    "duration": 92,
    "start_time": "2023-04-21T16:52:46.724Z"
   },
   {
    "duration": 79,
    "start_time": "2023-04-21T16:52:46.818Z"
   },
   {
    "duration": 16,
    "start_time": "2023-04-21T16:52:46.913Z"
   },
   {
    "duration": 3305,
    "start_time": "2023-04-21T16:52:46.931Z"
   },
   {
    "duration": 6,
    "start_time": "2023-04-21T16:52:50.238Z"
   },
   {
    "duration": 36,
    "start_time": "2023-04-21T16:52:50.246Z"
   },
   {
    "duration": 932,
    "start_time": "2023-04-21T16:52:50.284Z"
   },
   {
    "duration": 1509,
    "start_time": "2023-04-21T16:52:51.218Z"
   },
   {
    "duration": 540,
    "start_time": "2023-04-21T16:52:52.732Z"
   },
   {
    "duration": 29,
    "start_time": "2023-04-21T16:52:53.275Z"
   },
   {
    "duration": 5,
    "start_time": "2023-04-21T16:52:53.309Z"
   },
   {
    "duration": 144,
    "start_time": "2023-04-21T16:52:53.317Z"
   },
   {
    "duration": 11,
    "start_time": "2023-04-21T16:52:53.463Z"
   },
   {
    "duration": 5,
    "start_time": "2023-04-21T16:52:53.476Z"
   },
   {
    "duration": 16,
    "start_time": "2023-04-21T16:52:53.499Z"
   },
   {
    "duration": 141,
    "start_time": "2023-04-21T16:52:53.521Z"
   },
   {
    "duration": 11,
    "start_time": "2023-04-21T16:52:53.664Z"
   },
   {
    "duration": 20,
    "start_time": "2023-04-21T16:52:53.676Z"
   },
   {
    "duration": 55,
    "start_time": "2023-04-21T16:52:53.704Z"
   },
   {
    "duration": 890,
    "start_time": "2023-04-21T16:52:53.761Z"
   },
   {
    "duration": 3,
    "start_time": "2023-04-21T16:52:54.653Z"
   },
   {
    "duration": 12,
    "start_time": "2023-04-21T16:52:54.657Z"
   },
   {
    "duration": 20,
    "start_time": "2023-04-21T16:52:54.671Z"
   },
   {
    "duration": 190,
    "start_time": "2023-04-21T16:52:54.693Z"
   },
   {
    "duration": 0,
    "start_time": "2023-04-21T16:52:54.893Z"
   },
   {
    "duration": 0,
    "start_time": "2023-04-21T16:52:54.894Z"
   },
   {
    "duration": 7,
    "start_time": "2023-04-21T16:54:53.208Z"
   },
   {
    "duration": 5,
    "start_time": "2023-04-21T16:54:55.566Z"
   },
   {
    "duration": 20,
    "start_time": "2023-04-21T16:55:01.488Z"
   },
   {
    "duration": 5,
    "start_time": "2023-04-21T16:55:21.019Z"
   },
   {
    "duration": 5,
    "start_time": "2023-04-21T16:55:22.540Z"
   },
   {
    "duration": 29,
    "start_time": "2023-04-21T16:55:23.091Z"
   },
   {
    "duration": 4,
    "start_time": "2023-04-21T16:55:36.023Z"
   },
   {
    "duration": 35,
    "start_time": "2023-04-21T16:56:31.882Z"
   },
   {
    "duration": 6,
    "start_time": "2023-04-21T16:56:33.518Z"
   },
   {
    "duration": 5,
    "start_time": "2023-04-21T16:56:37.087Z"
   },
   {
    "duration": 93,
    "start_time": "2023-04-21T16:56:37.623Z"
   },
   {
    "duration": 5,
    "start_time": "2023-04-21T16:56:44.827Z"
   },
   {
    "duration": 99,
    "start_time": "2023-04-21T16:56:47.651Z"
   },
   {
    "duration": 106,
    "start_time": "2023-04-21T16:56:56.227Z"
   },
   {
    "duration": 690,
    "start_time": "2023-04-21T16:59:26.088Z"
   },
   {
    "duration": 55,
    "start_time": "2023-04-21T17:08:24.446Z"
   },
   {
    "duration": 55,
    "start_time": "2023-04-21T17:08:32.789Z"
   },
   {
    "duration": 8,
    "start_time": "2023-04-21T17:08:53.053Z"
   },
   {
    "duration": 13,
    "start_time": "2023-04-21T19:20:19.075Z"
   },
   {
    "duration": 40,
    "start_time": "2023-04-21T19:20:45.217Z"
   },
   {
    "duration": 34,
    "start_time": "2023-04-21T19:21:06.114Z"
   },
   {
    "duration": 9,
    "start_time": "2023-04-21T19:21:21.737Z"
   },
   {
    "duration": 27,
    "start_time": "2023-04-21T19:22:56.702Z"
   },
   {
    "duration": 11,
    "start_time": "2023-04-21T19:26:45.976Z"
   },
   {
    "duration": 419,
    "start_time": "2023-04-21T19:36:08.669Z"
   },
   {
    "duration": 424,
    "start_time": "2023-04-21T19:37:23.822Z"
   },
   {
    "duration": 420,
    "start_time": "2023-04-21T19:37:47.924Z"
   },
   {
    "duration": 568,
    "start_time": "2023-04-21T19:38:00.254Z"
   },
   {
    "duration": 477,
    "start_time": "2023-04-21T19:38:09.274Z"
   },
   {
    "duration": 430,
    "start_time": "2023-04-21T19:38:18.039Z"
   },
   {
    "duration": 374,
    "start_time": "2023-04-21T19:38:28.723Z"
   },
   {
    "duration": 421,
    "start_time": "2023-04-21T19:38:34.997Z"
   },
   {
    "duration": 427,
    "start_time": "2023-04-21T19:38:52.258Z"
   },
   {
    "duration": 398,
    "start_time": "2023-04-21T19:39:17.574Z"
   },
   {
    "duration": 38,
    "start_time": "2023-04-21T19:40:26.274Z"
   },
   {
    "duration": 387,
    "start_time": "2023-04-21T19:40:39.632Z"
   },
   {
    "duration": 26,
    "start_time": "2023-04-21T19:41:30.051Z"
   },
   {
    "duration": 366,
    "start_time": "2023-04-21T19:41:34.673Z"
   },
   {
    "duration": 29,
    "start_time": "2023-04-21T19:43:38.245Z"
   },
   {
    "duration": 348,
    "start_time": "2023-04-21T19:43:42.709Z"
   },
   {
    "duration": 352,
    "start_time": "2023-04-21T19:44:10.085Z"
   },
   {
    "duration": 17,
    "start_time": "2023-04-21T20:10:11.752Z"
   },
   {
    "duration": 21,
    "start_time": "2023-04-21T20:11:58.710Z"
   },
   {
    "duration": 18,
    "start_time": "2023-04-21T20:13:12.118Z"
   },
   {
    "duration": 68,
    "start_time": "2023-04-21T20:14:47.686Z"
   },
   {
    "duration": 13,
    "start_time": "2023-04-21T20:14:50.377Z"
   },
   {
    "duration": 3,
    "start_time": "2023-04-21T20:48:01.850Z"
   },
   {
    "duration": 25,
    "start_time": "2023-04-21T20:48:01.855Z"
   },
   {
    "duration": 1559,
    "start_time": "2023-04-21T20:48:01.882Z"
   },
   {
    "duration": 10,
    "start_time": "2023-04-21T20:48:03.442Z"
   },
   {
    "duration": 159,
    "start_time": "2023-04-21T20:48:03.454Z"
   },
   {
    "duration": 15,
    "start_time": "2023-04-21T20:48:03.616Z"
   },
   {
    "duration": 7,
    "start_time": "2023-04-21T20:48:03.633Z"
   },
   {
    "duration": 14,
    "start_time": "2023-04-21T20:48:03.642Z"
   },
   {
    "duration": 8,
    "start_time": "2023-04-21T20:48:03.657Z"
   },
   {
    "duration": 8,
    "start_time": "2023-04-21T20:48:03.667Z"
   },
   {
    "duration": 30,
    "start_time": "2023-04-21T20:48:03.694Z"
   },
   {
    "duration": 9,
    "start_time": "2023-04-21T20:48:03.727Z"
   },
   {
    "duration": 6,
    "start_time": "2023-04-21T20:48:03.738Z"
   },
   {
    "duration": 149,
    "start_time": "2023-04-21T20:48:03.749Z"
   },
   {
    "duration": 130,
    "start_time": "2023-04-21T20:48:03.901Z"
   },
   {
    "duration": 12,
    "start_time": "2023-04-21T20:48:04.033Z"
   },
   {
    "duration": 19,
    "start_time": "2023-04-21T20:48:04.046Z"
   },
   {
    "duration": 44,
    "start_time": "2023-04-21T20:48:04.067Z"
   },
   {
    "duration": 7,
    "start_time": "2023-04-21T20:48:04.113Z"
   },
   {
    "duration": 20,
    "start_time": "2023-04-21T20:48:04.122Z"
   },
   {
    "duration": 35,
    "start_time": "2023-04-21T20:48:04.144Z"
   },
   {
    "duration": 36,
    "start_time": "2023-04-21T20:48:04.200Z"
   },
   {
    "duration": 329,
    "start_time": "2023-04-21T20:48:04.239Z"
   },
   {
    "duration": 392,
    "start_time": "2023-04-21T20:48:04.570Z"
   },
   {
    "duration": 71,
    "start_time": "2023-04-21T20:48:04.965Z"
   },
   {
    "duration": 520,
    "start_time": "2023-04-21T20:48:05.038Z"
   },
   {
    "duration": 320,
    "start_time": "2023-04-21T20:48:05.560Z"
   },
   {
    "duration": 445,
    "start_time": "2023-04-21T20:48:05.882Z"
   },
   {
    "duration": 9,
    "start_time": "2023-04-21T20:48:06.328Z"
   },
   {
    "duration": 28,
    "start_time": "2023-04-21T20:48:06.338Z"
   },
   {
    "duration": 31,
    "start_time": "2023-04-21T20:48:06.369Z"
   },
   {
    "duration": 6,
    "start_time": "2023-04-21T20:48:06.402Z"
   },
   {
    "duration": 2656,
    "start_time": "2023-04-21T20:48:06.410Z"
   },
   {
    "duration": 4,
    "start_time": "2023-04-21T20:48:09.068Z"
   },
   {
    "duration": 49,
    "start_time": "2023-04-21T20:48:09.074Z"
   },
   {
    "duration": 392,
    "start_time": "2023-04-21T20:48:09.125Z"
   },
   {
    "duration": 1202,
    "start_time": "2023-04-21T20:48:09.521Z"
   },
   {
    "duration": 520,
    "start_time": "2023-04-21T20:48:10.729Z"
   },
   {
    "duration": 9,
    "start_time": "2023-04-21T20:48:11.251Z"
   },
   {
    "duration": 13,
    "start_time": "2023-04-21T20:48:11.262Z"
   },
   {
    "duration": 142,
    "start_time": "2023-04-21T20:48:11.292Z"
   },
   {
    "duration": 11,
    "start_time": "2023-04-21T20:48:11.436Z"
   },
   {
    "duration": 5,
    "start_time": "2023-04-21T20:48:11.449Z"
   },
   {
    "duration": 9,
    "start_time": "2023-04-21T20:48:11.455Z"
   },
   {
    "duration": 137,
    "start_time": "2023-04-21T20:48:11.465Z"
   },
   {
    "duration": 20,
    "start_time": "2023-04-21T20:48:11.605Z"
   },
   {
    "duration": 18,
    "start_time": "2023-04-21T20:48:11.627Z"
   },
   {
    "duration": 64,
    "start_time": "2023-04-21T20:48:11.648Z"
   },
   {
    "duration": 929,
    "start_time": "2023-04-21T20:48:11.717Z"
   },
   {
    "duration": 3,
    "start_time": "2023-04-21T20:48:12.648Z"
   },
   {
    "duration": 27,
    "start_time": "2023-04-21T20:48:12.652Z"
   },
   {
    "duration": 20,
    "start_time": "2023-04-21T20:48:12.680Z"
   },
   {
    "duration": 16,
    "start_time": "2023-04-21T20:48:12.701Z"
   },
   {
    "duration": 113,
    "start_time": "2023-04-21T20:48:12.720Z"
   },
   {
    "duration": 163,
    "start_time": "2023-04-21T20:48:12.835Z"
   },
   {
    "duration": 684,
    "start_time": "2023-04-21T20:48:13.000Z"
   },
   {
    "duration": 1324,
    "start_time": "2023-04-22T13:27:15.944Z"
   },
   {
    "duration": 4,
    "start_time": "2023-04-22T13:27:17.270Z"
   },
   {
    "duration": 1263,
    "start_time": "2023-04-22T13:27:17.276Z"
   },
   {
    "duration": 13,
    "start_time": "2023-04-22T13:27:18.541Z"
   },
   {
    "duration": 11,
    "start_time": "2023-04-22T13:27:18.557Z"
   },
   {
    "duration": 14,
    "start_time": "2023-04-22T13:27:18.570Z"
   },
   {
    "duration": 5,
    "start_time": "2023-04-22T13:27:18.585Z"
   },
   {
    "duration": 13,
    "start_time": "2023-04-22T13:27:18.592Z"
   },
   {
    "duration": 7,
    "start_time": "2023-04-22T13:27:18.607Z"
   },
   {
    "duration": 7,
    "start_time": "2023-04-22T13:27:18.615Z"
   },
   {
    "duration": 28,
    "start_time": "2023-04-22T13:27:18.623Z"
   },
   {
    "duration": 4,
    "start_time": "2023-04-22T13:27:18.653Z"
   },
   {
    "duration": 3,
    "start_time": "2023-04-22T13:27:18.659Z"
   },
   {
    "duration": 131,
    "start_time": "2023-04-22T13:27:18.664Z"
   },
   {
    "duration": 105,
    "start_time": "2023-04-22T13:27:18.797Z"
   },
   {
    "duration": 9,
    "start_time": "2023-04-22T13:27:18.904Z"
   },
   {
    "duration": 34,
    "start_time": "2023-04-22T13:27:18.914Z"
   },
   {
    "duration": 21,
    "start_time": "2023-04-22T13:27:18.949Z"
   },
   {
    "duration": 7,
    "start_time": "2023-04-22T13:27:18.971Z"
   },
   {
    "duration": 27,
    "start_time": "2023-04-22T13:27:18.979Z"
   },
   {
    "duration": 50,
    "start_time": "2023-04-22T13:27:19.007Z"
   },
   {
    "duration": 54,
    "start_time": "2023-04-22T13:27:19.059Z"
   },
   {
    "duration": 357,
    "start_time": "2023-04-22T13:27:19.115Z"
   },
   {
    "duration": 343,
    "start_time": "2023-04-22T13:27:19.494Z"
   },
   {
    "duration": 41,
    "start_time": "2023-04-22T13:27:19.838Z"
   },
   {
    "duration": 385,
    "start_time": "2023-04-22T13:27:19.880Z"
   },
   {
    "duration": 331,
    "start_time": "2023-04-22T13:27:20.267Z"
   },
   {
    "duration": 361,
    "start_time": "2023-04-22T13:27:20.600Z"
   },
   {
    "duration": 8,
    "start_time": "2023-04-22T13:27:20.963Z"
   },
   {
    "duration": 40,
    "start_time": "2023-04-22T13:27:20.973Z"
   },
   {
    "duration": 11,
    "start_time": "2023-04-22T13:27:21.015Z"
   },
   {
    "duration": 8,
    "start_time": "2023-04-22T13:27:21.028Z"
   },
   {
    "duration": 1908,
    "start_time": "2023-04-22T13:27:21.037Z"
   },
   {
    "duration": 5,
    "start_time": "2023-04-22T13:27:22.947Z"
   },
   {
    "duration": 28,
    "start_time": "2023-04-22T13:27:22.954Z"
   },
   {
    "duration": 661,
    "start_time": "2023-04-22T13:27:22.984Z"
   },
   {
    "duration": 1189,
    "start_time": "2023-04-22T13:27:23.647Z"
   },
   {
    "duration": 384,
    "start_time": "2023-04-22T13:27:24.838Z"
   },
   {
    "duration": 10,
    "start_time": "2023-04-22T13:27:25.223Z"
   },
   {
    "duration": 4,
    "start_time": "2023-04-22T13:27:25.235Z"
   },
   {
    "duration": 115,
    "start_time": "2023-04-22T13:27:25.243Z"
   },
   {
    "duration": 12,
    "start_time": "2023-04-22T13:27:25.360Z"
   },
   {
    "duration": 5,
    "start_time": "2023-04-22T13:27:25.374Z"
   },
   {
    "duration": 16,
    "start_time": "2023-04-22T13:27:25.380Z"
   },
   {
    "duration": 102,
    "start_time": "2023-04-22T13:27:25.397Z"
   },
   {
    "duration": 10,
    "start_time": "2023-04-22T13:27:25.500Z"
   },
   {
    "duration": 19,
    "start_time": "2023-04-22T13:27:25.512Z"
   },
   {
    "duration": 36,
    "start_time": "2023-04-22T13:27:25.533Z"
   },
   {
    "duration": 683,
    "start_time": "2023-04-22T13:27:25.571Z"
   },
   {
    "duration": 2,
    "start_time": "2023-04-22T13:27:26.255Z"
   },
   {
    "duration": 23,
    "start_time": "2023-04-22T13:27:26.259Z"
   },
   {
    "duration": 12,
    "start_time": "2023-04-22T13:27:26.283Z"
   },
   {
    "duration": 22,
    "start_time": "2023-04-22T13:27:26.296Z"
   },
   {
    "duration": 78,
    "start_time": "2023-04-22T13:27:26.320Z"
   },
   {
    "duration": 100,
    "start_time": "2023-04-22T13:27:26.400Z"
   },
   {
    "duration": 572,
    "start_time": "2023-04-22T13:27:26.501Z"
   },
   {
    "duration": 1374,
    "start_time": "2023-04-23T19:23:51.403Z"
   },
   {
    "duration": 6,
    "start_time": "2023-04-23T19:23:52.780Z"
   },
   {
    "duration": 881,
    "start_time": "2023-04-23T19:23:52.787Z"
   },
   {
    "duration": 13,
    "start_time": "2023-04-23T19:23:53.669Z"
   },
   {
    "duration": 33,
    "start_time": "2023-04-23T19:23:53.684Z"
   },
   {
    "duration": 44,
    "start_time": "2023-04-23T19:23:53.720Z"
   },
   {
    "duration": 47,
    "start_time": "2023-04-23T19:23:53.766Z"
   },
   {
    "duration": 20,
    "start_time": "2023-04-23T19:23:53.814Z"
   },
   {
    "duration": 16,
    "start_time": "2023-04-23T19:23:53.836Z"
   },
   {
    "duration": 11,
    "start_time": "2023-04-23T19:23:53.854Z"
   },
   {
    "duration": 31,
    "start_time": "2023-04-23T19:23:53.867Z"
   },
   {
    "duration": 8,
    "start_time": "2023-04-23T19:23:53.900Z"
   },
   {
    "duration": 10,
    "start_time": "2023-04-23T19:23:53.910Z"
   },
   {
    "duration": 173,
    "start_time": "2023-04-23T19:23:53.924Z"
   },
   {
    "duration": 104,
    "start_time": "2023-04-23T19:23:54.099Z"
   },
   {
    "duration": 10,
    "start_time": "2023-04-23T19:23:54.204Z"
   },
   {
    "duration": 24,
    "start_time": "2023-04-23T19:23:54.215Z"
   },
   {
    "duration": 20,
    "start_time": "2023-04-23T19:23:54.242Z"
   },
   {
    "duration": 25,
    "start_time": "2023-04-23T19:23:54.264Z"
   },
   {
    "duration": 53,
    "start_time": "2023-04-23T19:23:54.291Z"
   },
   {
    "duration": 46,
    "start_time": "2023-04-23T19:23:54.346Z"
   },
   {
    "duration": 23,
    "start_time": "2023-04-23T19:23:54.394Z"
   },
   {
    "duration": 385,
    "start_time": "2023-04-23T19:23:54.419Z"
   },
   {
    "duration": 377,
    "start_time": "2023-04-23T19:23:54.806Z"
   },
   {
    "duration": 62,
    "start_time": "2023-04-23T19:23:55.185Z"
   },
   {
    "duration": 434,
    "start_time": "2023-04-23T19:23:55.249Z"
   },
   {
    "duration": 342,
    "start_time": "2023-04-23T19:23:55.685Z"
   },
   {
    "duration": 386,
    "start_time": "2023-04-23T19:23:56.029Z"
   },
   {
    "duration": 7,
    "start_time": "2023-04-23T19:23:56.417Z"
   },
   {
    "duration": 31,
    "start_time": "2023-04-23T19:23:56.426Z"
   },
   {
    "duration": 27,
    "start_time": "2023-04-23T19:23:56.459Z"
   },
   {
    "duration": 10,
    "start_time": "2023-04-23T19:23:56.488Z"
   },
   {
    "duration": 2032,
    "start_time": "2023-04-23T19:23:56.499Z"
   },
   {
    "duration": 5,
    "start_time": "2023-04-23T19:23:58.533Z"
   },
   {
    "duration": 39,
    "start_time": "2023-04-23T19:23:58.539Z"
   },
   {
    "duration": 606,
    "start_time": "2023-04-23T19:23:58.580Z"
   },
   {
    "duration": 1214,
    "start_time": "2023-04-23T19:23:59.188Z"
   },
   {
    "duration": 464,
    "start_time": "2023-04-23T19:24:00.404Z"
   },
   {
    "duration": 16,
    "start_time": "2023-04-23T19:24:00.870Z"
   },
   {
    "duration": 110,
    "start_time": "2023-04-23T19:24:00.888Z"
   },
   {
    "duration": 160,
    "start_time": "2023-04-23T19:24:01.002Z"
   },
   {
    "duration": 11,
    "start_time": "2023-04-23T19:24:01.164Z"
   },
   {
    "duration": 26,
    "start_time": "2023-04-23T19:24:01.183Z"
   },
   {
    "duration": 29,
    "start_time": "2023-04-23T19:24:01.211Z"
   },
   {
    "duration": 152,
    "start_time": "2023-04-23T19:24:01.242Z"
   },
   {
    "duration": 10,
    "start_time": "2023-04-23T19:24:01.396Z"
   },
   {
    "duration": 34,
    "start_time": "2023-04-23T19:24:01.407Z"
   },
   {
    "duration": 77,
    "start_time": "2023-04-23T19:24:01.443Z"
   },
   {
    "duration": 798,
    "start_time": "2023-04-23T19:24:01.522Z"
   },
   {
    "duration": 2,
    "start_time": "2023-04-23T19:24:02.322Z"
   },
   {
    "duration": 50,
    "start_time": "2023-04-23T19:24:02.326Z"
   },
   {
    "duration": 32,
    "start_time": "2023-04-23T19:24:02.378Z"
   },
   {
    "duration": 19,
    "start_time": "2023-04-23T19:24:02.412Z"
   },
   {
    "duration": 160,
    "start_time": "2023-04-23T19:24:02.433Z"
   },
   {
    "duration": 122,
    "start_time": "2023-04-23T19:24:02.596Z"
   },
   {
    "duration": 812,
    "start_time": "2023-04-23T19:24:02.720Z"
   },
   {
    "duration": 21,
    "start_time": "2023-04-23T19:25:11.664Z"
   },
   {
    "duration": 281,
    "start_time": "2023-04-23T19:25:23.373Z"
   }
  ],
  "kernelspec": {
   "display_name": "Python 3 (ipykernel)",
   "language": "python",
   "name": "python3"
  },
  "language_info": {
   "codemirror_mode": {
    "name": "ipython",
    "version": 3
   },
   "file_extension": ".py",
   "mimetype": "text/x-python",
   "name": "python",
   "nbconvert_exporter": "python",
   "pygments_lexer": "ipython3",
   "version": "3.9.12"
  },
  "toc": {
   "base_numbering": 1,
   "nav_menu": {},
   "number_sections": true,
   "sideBar": true,
   "skip_h1_title": true,
   "title_cell": "Table of Contents",
   "title_sidebar": "Contents",
   "toc_cell": true,
   "toc_position": {
    "height": "calc(100% - 180px)",
    "left": "10px",
    "top": "150px",
    "width": "249.733px"
   },
   "toc_section_display": true,
   "toc_window_display": true
  }
 },
 "nbformat": 4,
 "nbformat_minor": 5
}
